{
 "cells": [
  {
   "cell_type": "markdown",
   "metadata": {},
   "source": [
    "# Zero-Shot Learning for Rare Disease Diagnosis",
    "## Medical Image Analysis with ZSL"
   ],
   "id": "7e27cbf8f708f174"
  },
  {
   "cell_type": "code",
   "metadata": {
    "ExecuteTime": {
     "end_time": "2025-08-07T04:14:39.050775Z",
     "start_time": "2025-08-07T04:14:39.047156Z"
    }
   },
   "source": [
    "import torch\n",
    "import torch.nn as nn\n",
    "import numpy as np\n",
    "from transformers import BertModel\n",
    "from sklearn.metrics import top_k_accuracy_score\n",
    "from matplotlib import pyplot as plt\n",
    "from transformers import BertTokenizer, BertModel"
   ],
   "id": "d3fcb5b3caaa2d9b",
   "outputs": [],
   "execution_count": 35
  },
  {
   "cell_type": "markdown",
   "metadata": {},
   "source": [
    "## 1. Data Preparation"
   ],
   "id": "d651f16b267e8c7b"
  },
  {
   "cell_type": "code",
   "metadata": {
    "ExecuteTime": {
     "end_time": "2025-08-07T04:14:39.112110Z",
     "start_time": "2025-08-07T04:14:39.103274Z"
    }
   },
   "source": [
    "import numpy as np\n",
    "import torch\n",
    "from transformers import BertTokenizer, BertModel\n",
    "\n",
    "class MedicalDataset:\n",
    "    def __init__(self):\n",
    "        # Known diseases (3 classes for demo)\n",
    "        self.seen_classes = [\"Lung Cancer\", \"Pneumonia\", \"Tuberculosis\"]\n",
    "\n",
    "        # Rare diseases (2 classes)\n",
    "        self.unseen_classes = [\"Langerhans Cell Histiocytosis\", \"Lymphangioleiomyomatosis\"]\n",
    "\n",
    "        # Clinical descriptions for all diseases\n",
    "        self.clinical_texts = {\n",
    "            \"Lung Cancer\": \"Solitary pulmonary nodule, irregular margins\",\n",
    "            \"Pneumonia\": \"Consolidation in lung, fever and cough\",\n",
    "            \"Tuberculosis\": \"Upper lobe cavitation, night sweats, chronic cough\",\n",
    "            \"Langerhans Cell Histiocytosis\": \"Multiple nodules in upper lung fields, young adults\",\n",
    "            \"Lymphangioleiomyomatosis\": \"Bilateral diffuse cysts, young women\"\n",
    "        }\n",
    "\n",
    "        # Load tokenizer and model only once\n",
    "        self.tokenizer = BertTokenizer.from_pretrained('bert-base-uncased')\n",
    "        self.bert = BertModel.from_pretrained('bert-base-uncased')\n",
    "        self.bert.eval()  # disable dropout\n",
    "\n",
    "        # Generate simulated data\n",
    "        self.prepare_data()\n",
    "\n",
    "    def prepare_data(self):\n",
    "        np.random.seed(42)\n",
    "\n",
    "        # Training data (known diseases)\n",
    "        self.X_train = np.random.randn(200, 512)  # CT image features\n",
    "        self.y_train = np.random.randint(0, len(self.seen_classes), 200)\n",
    "\n",
    "        # Test data (rare diseases)\n",
    "        self.X_test = np.random.randn(50, 512)\n",
    "        self.y_test = np.random.randint(0, len(self.unseen_classes), 50)\n",
    "\n",
    "        # Get semantic vectors\n",
    "        self.get_semantic_embeddings()\n",
    "\n",
    "    def get_semantic_embeddings(self):\n",
    "        # Get vectors for all diseases\n",
    "        self.A_seen = np.array([\n",
    "            self.text_to_vec(self.bert, self.tokenizer, self.clinical_texts[d])\n",
    "            for d in self.seen_classes\n",
    "        ])\n",
    "        self.A_unseen = np.array([\n",
    "            self.text_to_vec(self.bert, self.tokenizer, self.clinical_texts[d])\n",
    "            for d in self.unseen_classes\n",
    "        ])\n",
    "\n",
    "    def text_to_vec(self, model, tokenizer, text):\n",
    "        inputs = tokenizer(text, return_tensors=\"pt\", padding=True, truncation=True)\n",
    "        with torch.no_grad():\n",
    "            outputs = model(**inputs)\n",
    "        return outputs.last_hidden_state.mean(dim=1).squeeze().numpy()\n"
   ],
   "id": "6141c27be89c773d",
   "outputs": [],
   "execution_count": 36
  },
  {
   "cell_type": "markdown",
   "metadata": {},
   "source": [
    "## 2. ZSL Model"
   ],
   "id": "82864563108a602d"
  },
  {
   "cell_type": "code",
   "metadata": {
    "ExecuteTime": {
     "end_time": "2025-08-07T04:14:39.156Z",
     "start_time": "2025-08-07T04:14:39.151745Z"
    }
   },
   "source": [
    "class DiseaseClassifier(nn.Module):\n",
    "    def __init__(self, img_dim=512, text_dim=768):\n",
    "        super().__init__()\n",
    "        self.projector = nn.Sequential(\n",
    "            nn.Linear(img_dim, 1024),\n",
    "            nn.ReLU(),\n",
    "            nn.Linear(1024, text_dim)  # Match BERT dimension\n",
    "        )\n",
    "    \n",
    "    def forward(self, x):\n",
    "        return self.projector(x)"
   ],
   "id": "e4392ea7c39e237b",
   "outputs": [],
   "execution_count": 37
  },
  {
   "cell_type": "markdown",
   "metadata": {},
   "source": [
    "## 3. Training"
   ],
   "id": "e8214e6dedd60898"
  },
  {
   "cell_type": "code",
   "metadata": {
    "ExecuteTime": {
     "end_time": "2025-08-07T04:14:39.202568Z",
     "start_time": "2025-08-07T04:14:39.196817Z"
    }
   },
   "source": [
    "def train_model(dataset, epochs=50):\n",
    "    device = torch.device(\"cuda\" if torch.cuda.is_available() else \"cpu\")\n",
    "    \n",
    "    model = DiseaseClassifier().to(device)\n",
    "    optimizer = torch.optim.Adam(model.parameters(), lr=1e-3)\n",
    "    \n",
    "    # Convert data to tensors\n",
    "    X = torch.FloatTensor(dataset.X_train).to(device)\n",
    "    A = torch.FloatTensor(dataset.A_seen).to(device)\n",
    "    y = torch.LongTensor(dataset.y_train).to(device)\n",
    "    \n",
    "    losses = []\n",
    "    for epoch in range(epochs):\n",
    "        model.train()\n",
    "        optimizer.zero_grad()\n",
    "        \n",
    "        # Project images to semantic space\n",
    "        z = model(X)\n",
    "        \n",
    "        # Compare with text embeddings\n",
    "        loss = nn.MSELoss()(z, A[y])\n",
    "        loss.backward()\n",
    "        optimizer.step()\n",
    "        \n",
    "        losses.append(loss.item())\n",
    "        \n",
    "        if (epoch+1) % 5 == 0:\n",
    "            print(f\"Epoch {epoch+1}: Loss = {loss.item():.4f}\")\n",
    "    \n",
    "    return model, losses"
   ],
   "id": "34c93150034f75fa",
   "outputs": [],
   "execution_count": 38
  },
  {
   "cell_type": "markdown",
   "metadata": {},
   "source": [
    "## 4. Evaluation"
   ],
   "id": "6ffbfa8d064cfae4"
  },
  {
   "cell_type": "code",
   "metadata": {
    "ExecuteTime": {
     "end_time": "2025-08-07T04:14:39.249441Z",
     "start_time": "2025-08-07T04:14:39.243040Z"
    }
   },
   "source": [
    "from sklearn.metrics import top_k_accuracy_score\n",
    "\n",
    "def evaluate(model, dataset):\n",
    "    device = next(model.parameters()).device\n",
    "\n",
    "    X_test = torch.FloatTensor(dataset.X_test).to(device)\n",
    "    A_test = torch.FloatTensor(dataset.A_unseen).to(device)\n",
    "\n",
    "    model.eval()\n",
    "    with torch.no_grad():\n",
    "        Z = model(X_test)\n",
    "        Z = Z / Z.norm(dim=1, keepdim=True)\n",
    "        A = A_test / A_test.norm(dim=1, keepdim=True)\n",
    "        sims = Z @ A.T\n",
    "\n",
    "    sims_np = sims.cpu().numpy()\n",
    "    y_true = dataset.y_test\n",
    "\n",
    "    # Get the number of classes from the similarity matrix\n",
    "    num_classes = sims_np.shape[1]\n",
    "    labels = list(range(num_classes))\n",
    "\n",
    "    # Check if we have a binary classification problem\n",
    "    if num_classes == 2:\n",
    "        # For binary classification, you might want different metrics\n",
    "        y_pred = np.argmax(sims_np, axis=1)\n",
    "        accuracy = (y_pred == y_true).mean()\n",
    "        print(f\"\\nTest Accuracy: {accuracy:.2f}\")\n",
    "    else:\n",
    "        # For multi-class classification\n",
    "        top1 = top_k_accuracy_score(y_true, sims_np, k=1, labels=labels)\n",
    "        top3 = top_k_accuracy_score(y_true, sims_np, k=3, labels=labels)\n",
    "        print(f\"\\nTest Accuracy:\\nTop-1: {top1:.2f}\\nTop-3: {top3:.2f}\")"
   ],
   "id": "7b77422ef3bcfd51",
   "outputs": [],
   "execution_count": 39
  },
  {
   "cell_type": "markdown",
   "metadata": {},
   "source": [
    "## 5. Main Execution"
   ],
   "id": "e7cb27b55ec1f74b"
  },
  {
   "cell_type": "code",
   "metadata": {
    "ExecuteTime": {
     "end_time": "2025-08-07T04:14:41.931601Z",
     "start_time": "2025-08-07T04:14:39.275444Z"
    }
   },
   "source": [
    "if __name__ == \"__main__\":\n",
    "    # Initialize\n",
    "    data = MedicalDataset()\n",
    "    print(f\"Dataset: {len(data.seen_classes)} known, {len(data.unseen_classes)} rare diseases\")\n",
    "    \n",
    "    # Train\n",
    "    print(\"\\nTraining...\")\n",
    "    model, losses = train_model(data)\n",
    "    \n",
    "    # Evaluate\n",
    "    print(\"\\nEvaluating on rare diseases:\")\n",
    "    evaluate(model, data)\n",
    "    \n",
    "    # Plot training\n",
    "    plt.plot(losses)\n",
    "    plt.title(\"Training Loss\")\n",
    "    plt.xlabel(\"Epoch\")\n",
    "    plt.show()"
   ],
   "id": "5963660cec52785f",
   "outputs": [
    {
     "name": "stderr",
     "output_type": "stream",
     "text": [
      "/Users/qingfengliu/anaconda3/envs/ML_Introduction/lib/python3.12/site-packages/torch/nn/modules/module.py:1750: FutureWarning: `encoder_attention_mask` is deprecated and will be removed in version 4.55.0 for `BertSdpaSelfAttention.forward`.\n",
      "  return forward_call(*args, **kwargs)\n"
     ]
    },
    {
     "name": "stdout",
     "output_type": "stream",
     "text": [
      "Dataset: 3 known, 2 rare diseases\n",
      "\n",
      "Training...\n",
      "Epoch 5: Loss = 0.0660\n",
      "Epoch 10: Loss = 0.0286\n",
      "Epoch 15: Loss = 0.0136\n",
      "Epoch 20: Loss = 0.0078\n",
      "Epoch 25: Loss = 0.0051\n",
      "Epoch 30: Loss = 0.0034\n",
      "Epoch 35: Loss = 0.0023\n",
      "Epoch 40: Loss = 0.0017\n",
      "Epoch 45: Loss = 0.0012\n",
      "Epoch 50: Loss = 0.0009\n",
      "\n",
      "Evaluating on rare diseases:\n",
      "\n",
      "Test Accuracy: 0.56\n"
     ]
    },
    {
     "data": {
      "text/plain": [
       "<Figure size 640x480 with 1 Axes>"
      ],
      "image/png": "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"
     },
     "metadata": {},
     "output_type": "display_data"
    }
   ],
   "execution_count": 40
  },
  {
   "metadata": {
    "ExecuteTime": {
     "end_time": "2025-08-07T04:14:41.963331Z",
     "start_time": "2025-08-07T04:14:41.960758Z"
    }
   },
   "cell_type": "code",
   "source": "",
   "id": "cb279c7c28535b1c",
   "outputs": [],
   "execution_count": null
  }
 ],
 "metadata": {
  "kernelspec": {
   "display_name": "Python 3",
   "language": "python",
   "name": "python3"
  },
  "language_info": {
   "codemirror_mode": {
    "name": "ipython",
    "version": 3
   },
   "file_extension": ".py",
   "mimetype": "text/x-python",
   "name": "python",
   "nbconvert_exporter": "python",
   "pygments_lexer": "ipython3",
   "version": "3.8.5"
  }
 }
}
