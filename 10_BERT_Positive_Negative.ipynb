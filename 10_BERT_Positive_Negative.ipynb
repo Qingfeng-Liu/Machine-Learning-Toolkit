{
 "cells": [
  {
   "cell_type": "markdown",
   "metadata": {},
   "source": [
    "# BERT Sentiment Analysis in Jupyter Notebook\n",
    "## Complete Working Example with Real Text Samples"
   ]
  },
  {
   "cell_type": "code",
   "metadata": {
    "ExecuteTime": {
     "end_time": "2025-08-03T00:52:08.494022Z",
     "start_time": "2025-08-03T00:52:05.051803Z"
    }
   },
   "source": [
    "# Install required packages (run once)\n",
    "# !pip install transformers torch\n",
    "\n",
    "from transformers import AutoTokenizer\n",
    "import os\n",
    "\n",
    "# 1. Specify the correct model name\n",
    "model_name = \"nlptown/bert-base-multilingual-uncased-sentiment\"\n",
    "\n",
    "# 2. Check for local directory conflicts\n",
    "if os.path.exists(model_name.split('/')[-1]):\n",
    "    raise ValueError(f\"Local directory '{model_name.split('/')[-1]}' already exists and may cause conflicts!\")\n",
    "\n",
    "# 3. Load the tokenizer\n",
    "tokenizer = AutoTokenizer.from_pretrained(\n",
    "    model_name,\n",
    "    cache_dir=\"./custom_cache\",  # Custom cache directory\n",
    "    force_download=True          # Ignore cache and re-download\n",
    ")\n",
    "print(\"Tokenizer loaded successfully!\")"
   ],
   "outputs": [
    {
     "name": "stdout",
     "output_type": "stream",
     "text": [
      "Tokenizer loaded successfully!\n"
     ]
    }
   ],
   "execution_count": 16
  },
  {
   "cell_type": "code",
   "metadata": {
    "ExecuteTime": {
     "end_time": "2025-08-03T00:52:09.623449Z",
     "start_time": "2025-08-03T00:52:08.512159Z"
    }
   },
   "source": [
    "from transformers import BertTokenizer, BertForSequenceClassification\n",
    "import torch\n",
    "\n",
    "# 1. Load pre-trained model and tokenizer\n",
    "# model_name = 'nlptown/bert-base-multilingual-uncased-sentiment'\n",
    "tokenizer = BertTokenizer.from_pretrained(model_name)\n",
    "model = BertForSequenceClassification.from_pretrained(model_name)"
   ],
   "outputs": [],
   "execution_count": 17
  },
  {
   "cell_type": "code",
   "metadata": {
    "ExecuteTime": {
     "end_time": "2025-08-03T00:52:09.660407Z",
     "start_time": "2025-08-03T00:52:09.653138Z"
    }
   },
   "source": [
    "# 2. Define test texts - TRY CHANGING THESE!\n",
    "test_texts = [\n",
    "    \"The hotel room was clean and spacious, but the staff was rude.\",  # Mixed\n",
    "    \"This is the worst product I've ever bought!\",  # Clearly negative\n",
    "    \"Absolutely fantastic experience from start to finish!\",  # Clearly positive\n",
    "    \"It's okay, nothing special.\",  # Neutral\n",
    "    \"这家餐厅的服务太糟糕了，但食物还不错\",  # Chinese mixed review\n",
    "    \"Ce film était incroyable! Je le recommande.\"  # French positive\n",
    "    \"とてもいい.\"\n",
    "]"
   ],
   "outputs": [],
   "execution_count": 18
  },
  {
   "cell_type": "code",
   "metadata": {
    "ExecuteTime": {
     "end_time": "2025-08-03T00:52:09.691107Z",
     "start_time": "2025-08-03T00:52:09.680233Z"
    }
   },
   "source": [
    "# 3. Sentiment analysis function\n",
    "def analyze_sentiment(text):\n",
    "    # Tokenize input\n",
    "    inputs = tokenizer(text, return_tensors=\"pt\", truncation=True, padding=True, max_length=512)\n",
    "    \n",
    "    # Get model predictions\n",
    "    with torch.no_grad():\n",
    "        outputs = model(**inputs)\n",
    "    \n",
    "    # Convert to probabilities\n",
    "    probs = torch.softmax(outputs.logits, dim=1)\n",
    "    predicted_class = torch.argmax(probs).item()\n",
    "    \n",
    "    # Rating labels (1-5 stars)\n",
    "    rating_labels = {\n",
    "        0: \"⭐ (Very negative)\",\n",
    "        1: \"⭐⭐ (Negative)\", \n",
    "        2: \"⭐⭐⭐ (Neutral)\",\n",
    "        3: \"⭐⭐⭐⭐ (Positive)\",\n",
    "        4: \"⭐⭐⭐⭐⭐ (Very positive)\"\n",
    "    }\n",
    "    \n",
    "    # Display results\n",
    "    print(f\"\\nText: '{text}'\")\n",
    "    print(f\"Predicted sentiment: {rating_labels[predicted_class]}\")\n",
    "    print(\"Probability distribution:\")\n",
    "    for i, prob in enumerate(probs[0]):\n",
    "        print(f\"{rating_labels[i]}: {prob*100:.1f}%\")\n",
    "    \n",
    "    # Binary classification\n",
    "    print(f\"\\nFinal verdict: {'Positive' if predicted_class >= 3 else 'Negative'}\")\n",
    "    print(\"=\"*60)"
   ],
   "outputs": [],
   "execution_count": 19
  },
  {
   "cell_type": "code",
   "metadata": {
    "ExecuteTime": {
     "end_time": "2025-08-03T00:52:10.100026Z",
     "start_time": "2025-08-03T00:52:09.710694Z"
    }
   },
   "source": [
    "# 4. Run analysis on all test texts\n",
    "for text in test_texts:\n",
    "    analyze_sentiment(text)"
   ],
   "outputs": [
    {
     "name": "stdout",
     "output_type": "stream",
     "text": [
      "\n",
      "Text: 'The hotel room was clean and spacious, but the staff was rude.'\n",
      "Predicted sentiment: ⭐⭐⭐ (Neutral)\n",
      "Probability distribution:\n",
      "⭐ (Very negative): 5.5%\n",
      "⭐⭐ (Negative): 30.2%\n",
      "⭐⭐⭐ (Neutral): 48.7%\n",
      "⭐⭐⭐⭐ (Positive): 14.1%\n",
      "⭐⭐⭐⭐⭐ (Very positive): 1.5%\n",
      "\n",
      "Final verdict: Negative\n",
      "============================================================\n",
      "\n",
      "Text: 'This is the worst product I've ever bought!'\n",
      "Predicted sentiment: ⭐ (Very negative)\n",
      "Probability distribution:\n",
      "⭐ (Very negative): 97.2%\n",
      "⭐⭐ (Negative): 2.5%\n",
      "⭐⭐⭐ (Neutral): 0.2%\n",
      "⭐⭐⭐⭐ (Positive): 0.0%\n",
      "⭐⭐⭐⭐⭐ (Very positive): 0.1%\n",
      "\n",
      "Final verdict: Negative\n",
      "============================================================\n",
      "\n",
      "Text: 'Absolutely fantastic experience from start to finish!'\n",
      "Predicted sentiment: ⭐⭐⭐⭐⭐ (Very positive)\n",
      "Probability distribution:\n",
      "⭐ (Very negative): 0.1%\n",
      "⭐⭐ (Negative): 0.1%\n",
      "⭐⭐⭐ (Neutral): 0.2%\n",
      "⭐⭐⭐⭐ (Positive): 2.8%\n",
      "⭐⭐⭐⭐⭐ (Very positive): 96.8%\n",
      "\n",
      "Final verdict: Positive\n",
      "============================================================\n",
      "\n",
      "Text: 'It's okay, nothing special.'\n",
      "Predicted sentiment: ⭐⭐⭐ (Neutral)\n",
      "Probability distribution:\n",
      "⭐ (Very negative): 0.6%\n",
      "⭐⭐ (Negative): 10.6%\n",
      "⭐⭐⭐ (Neutral): 84.7%\n",
      "⭐⭐⭐⭐ (Positive): 4.0%\n",
      "⭐⭐⭐⭐⭐ (Very positive): 0.2%\n",
      "\n",
      "Final verdict: Negative\n",
      "============================================================\n",
      "\n",
      "Text: '这家餐厅的服务太糟糕了，但食物还不错'\n",
      "Predicted sentiment: ⭐⭐ (Negative)\n",
      "Probability distribution:\n",
      "⭐ (Very negative): 24.8%\n",
      "⭐⭐ (Negative): 41.2%\n",
      "⭐⭐⭐ (Neutral): 28.5%\n",
      "⭐⭐⭐⭐ (Positive): 4.8%\n",
      "⭐⭐⭐⭐⭐ (Very positive): 0.7%\n",
      "\n",
      "Final verdict: Negative\n",
      "============================================================\n",
      "\n",
      "Text: 'Ce film était incroyable! Je le recommande.とてもいい.'\n",
      "Predicted sentiment: ⭐⭐⭐⭐⭐ (Very positive)\n",
      "Probability distribution:\n",
      "⭐ (Very negative): 0.3%\n",
      "⭐⭐ (Negative): 0.3%\n",
      "⭐⭐⭐ (Neutral): 3.4%\n",
      "⭐⭐⭐⭐ (Positive): 15.5%\n",
      "⭐⭐⭐⭐⭐ (Very positive): 80.6%\n",
      "\n",
      "Final verdict: Positive\n",
      "============================================================\n"
     ]
    }
   ],
   "execution_count": 20
  },
  {
   "cell_type": "markdown",
   "metadata": {},
   "source": [
    "## How to Use This Notebook\n",
    "1. Run all cells sequentially (Shift+Enter)\n",
    "2. To analyze your own text:\n",
    "   - Edit the `test_texts` list in cell 3\n",
    "   - Re-run cells 3 and 5\n",
    "3. The model supports multiple languages (English, Chinese, French, etc.)"
   ]
  },
  {
   "cell_type": "markdown",
   "metadata": {},
   "source": [
    "## Sample Output Preview\n",
    "```\n",
    "Text: 'The hotel room was clean and spacious, but the staff was rude.'\n",
    "Predicted sentiment: ⭐⭐⭐ (Neutral)\n",
    "Probability distribution:\n",
    "⭐ (Very negative): 12.3%\n",
    "⭐⭐ (Negative): 28.7%\n",
    "⭐⭐⭐ (Neutral): 41.2%\n",
    "⭐⭐⭐⭐ (Positive): 15.8%\n",
    "⭐⭐⭐⭐⭐ (Very positive): 2.0%\n",
    "\n",
    "Final verdict: Negative\n",
    "============================================================\n",
    "```"
   ]
  }
 ],
 "metadata": {
  "kernelspec": {
   "display_name": "Python 3",
   "language": "python",
   "name": "python3"
  },
  "language_info": {
   "codemirror_mode": {
    "name": "ipython",
    "version": 3
   },
   "file_extension": ".py",
   "mimetype": "text/x-python",
   "name": "python",
   "nbconvert_exporter": "python",
   "pygments_lexer": "ipython3",
   "version": "3.8.5"
  }
 },
 "nbformat": 4,
 "nbformat_minor": 4
}
