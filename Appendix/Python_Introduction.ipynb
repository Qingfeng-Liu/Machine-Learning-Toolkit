{
 "cells": [
  {
   "cell_type": "markdown",
   "metadata": {},
   "source": [
    "# 1 Python Basics\n",
    "Jupyter Notebook reference: [https://www.javadrive.jp/python/jupyter-notebook/](https://www.javadrive.jp/python/jupyter-notebook/)  \n",
    "Installation and startup sections not needed (we'll launch via Anaconda)."
   ]
  },
  {
   "cell_type": "markdown",
   "metadata": {},
   "source": [
    "## 1.1 Hello World"
   ]
  },
  {
   "cell_type": "code",
   "metadata": {
    "ExecuteTime": {
     "end_time": "2025-08-03T02:25:52.622229Z",
     "start_time": "2025-08-03T02:25:52.618696Z"
    }
   },
   "source": [
    "print(\"Hello World\")"
   ],
   "outputs": [
    {
     "name": "stdout",
     "output_type": "stream",
     "text": [
      "Hello World\n"
     ]
    }
   ],
   "execution_count": 112
  },
  {
   "cell_type": "markdown",
   "metadata": {},
   "source": [
    "### Practice"
   ]
  },
  {
   "cell_type": "markdown",
   "metadata": {},
   "source": [
    "Combine output using + operator"
   ]
  },
  {
   "cell_type": "code",
   "metadata": {
    "ExecuteTime": {
     "end_time": "2025-08-03T02:25:52.656907Z",
     "start_time": "2025-08-03T02:25:52.653769Z"
    }
   },
   "source": [
    "print(\"Hello\" + \" \" + \"world\" + \" ^_^\" + \"6\")"
   ],
   "outputs": [
    {
     "name": "stdout",
     "output_type": "stream",
     "text": [
      "Hello world ^_^6\n"
     ]
    }
   ],
   "execution_count": 113
  },
  {
   "cell_type": "code",
   "metadata": {
    "ExecuteTime": {
     "end_time": "2025-08-03T02:25:52.687396Z",
     "start_time": "2025-08-03T02:25:52.683604Z"
    }
   },
   "source": [
    "x = 20\n",
    "print(x)"
   ],
   "outputs": [
    {
     "name": "stdout",
     "output_type": "stream",
     "text": [
      "20\n"
     ]
    }
   ],
   "execution_count": 114
  },
  {
   "cell_type": "code",
   "metadata": {
    "ExecuteTime": {
     "end_time": "2025-08-03T02:25:52.722696Z",
     "start_time": "2025-08-03T02:25:52.719616Z"
    }
   },
   "source": [
    "x = 10\n",
    "print(x)"
   ],
   "outputs": [
    {
     "name": "stdout",
     "output_type": "stream",
     "text": [
      "10\n"
     ]
    }
   ],
   "execution_count": 115
  },
  {
   "cell_type": "markdown",
   "metadata": {},
   "source": [
    "## 1.2 Arithmetic Operations"
   ]
  },
  {
   "cell_type": "code",
   "metadata": {
    "ExecuteTime": {
     "end_time": "2025-08-03T02:25:52.778181Z",
     "start_time": "2025-08-03T02:25:52.774577Z"
    }
   },
   "source": [
    "x = 10\n",
    "y = 20\n",
    "z = x - y\n",
    "s = x + y\n",
    "w = x * y\n",
    "m = x / y\n",
    "print(x, y, z, s, w, m)"
   ],
   "outputs": [
    {
     "name": "stdout",
     "output_type": "stream",
     "text": [
      "10 20 -10 30 200 0.5\n"
     ]
    }
   ],
   "execution_count": 116
  },
  {
   "cell_type": "markdown",
   "metadata": {},
   "source": [
    "### Exponentiation"
   ]
  },
  {
   "cell_type": "code",
   "metadata": {
    "ExecuteTime": {
     "end_time": "2025-08-03T02:25:52.822687Z",
     "start_time": "2025-08-03T02:25:52.817930Z"
    }
   },
   "source": [
    "print(2**2, 2**3, 2**5, 2**(1/3), 2**0.5, 2**(1/2))"
   ],
   "outputs": [
    {
     "name": "stdout",
     "output_type": "stream",
     "text": [
      "4 8 32 1.2599210498948732 1.4142135623730951 1.4142135623730951\n"
     ]
    }
   ],
   "execution_count": 117
  },
  {
   "cell_type": "code",
   "metadata": {
    "ExecuteTime": {
     "end_time": "2025-08-03T02:25:52.858516Z",
     "start_time": "2025-08-03T02:25:52.854260Z"
    }
   },
   "source": [
    "2**(0.5)"
   ],
   "outputs": [
    {
     "data": {
      "text/plain": [
       "1.4142135623730951"
      ]
     },
     "execution_count": 118,
     "metadata": {},
     "output_type": "execute_result"
    }
   ],
   "execution_count": 118
  },
  {
   "cell_type": "markdown",
   "metadata": {},
   "source": [
    "## 1.3 Data Types"
   ]
  },
  {
   "cell_type": "markdown",
   "metadata": {},
   "source": [
    "### Integer (int) type"
   ]
  },
  {
   "cell_type": "code",
   "metadata": {
    "ExecuteTime": {
     "end_time": "2025-08-03T02:25:52.921343Z",
     "start_time": "2025-08-03T02:25:52.915231Z"
    }
   },
   "source": [
    "x = 10\n",
    "print(x)\n",
    "type(x)"
   ],
   "outputs": [
    {
     "name": "stdout",
     "output_type": "stream",
     "text": [
      "10\n"
     ]
    },
    {
     "data": {
      "text/plain": [
       "int"
      ]
     },
     "execution_count": 119,
     "metadata": {},
     "output_type": "execute_result"
    }
   ],
   "execution_count": 119
  },
  {
   "cell_type": "markdown",
   "metadata": {},
   "source": [
    "### Floating point (float) type"
   ]
  },
  {
   "cell_type": "code",
   "metadata": {
    "ExecuteTime": {
     "end_time": "2025-08-03T02:25:53.002161Z",
     "start_time": "2025-08-03T02:25:52.997206Z"
    }
   },
   "source": [
    "y = 10.2\n",
    "print(y)\n",
    "type(y)"
   ],
   "outputs": [
    {
     "name": "stdout",
     "output_type": "stream",
     "text": [
      "10.2\n"
     ]
    },
    {
     "data": {
      "text/plain": [
       "float"
      ]
     },
     "execution_count": 120,
     "metadata": {},
     "output_type": "execute_result"
    }
   ],
   "execution_count": 120
  },
  {
   "cell_type": "markdown",
   "metadata": {},
   "source": [
    "### String (str) type"
   ]
  },
  {
   "cell_type": "code",
   "metadata": {
    "ExecuteTime": {
     "end_time": "2025-08-03T02:25:53.067779Z",
     "start_time": "2025-08-03T02:25:53.063327Z"
    }
   },
   "source": [
    "name = \"Liu Qingfeng\"\n",
    "print(name)\n",
    "type(name)"
   ],
   "outputs": [
    {
     "name": "stdout",
     "output_type": "stream",
     "text": [
      "Liu Qingfeng\n"
     ]
    },
    {
     "data": {
      "text/plain": [
       "str"
      ]
     },
     "execution_count": 121,
     "metadata": {},
     "output_type": "execute_result"
    }
   ],
   "execution_count": 121
  },
  {
   "cell_type": "markdown",
   "metadata": {},
   "source": [
    "### Boolean (bool) type: True and False"
   ]
  },
  {
   "cell_type": "code",
   "metadata": {
    "ExecuteTime": {
     "end_time": "2025-08-03T02:25:53.134677Z",
     "start_time": "2025-08-03T02:25:53.128292Z"
    }
   },
   "source": [
    "s0 = (8 > 5)\n",
    "print(s0)\n",
    "type(s0)"
   ],
   "outputs": [
    {
     "name": "stdout",
     "output_type": "stream",
     "text": [
      "True\n"
     ]
    },
    {
     "data": {
      "text/plain": [
       "bool"
      ]
     },
     "execution_count": 122,
     "metadata": {},
     "output_type": "execute_result"
    }
   ],
   "execution_count": 122
  },
  {
   "cell_type": "code",
   "metadata": {
    "ExecuteTime": {
     "end_time": "2025-08-03T02:25:53.220452Z",
     "start_time": "2025-08-03T02:25:53.215111Z"
    }
   },
   "source": [
    "s1 = (5 > 3)\n",
    "print(s1)\n",
    "type(s1)\n",
    "print(s0*s1)"
   ],
   "outputs": [
    {
     "name": "stdout",
     "output_type": "stream",
     "text": [
      "True\n",
      "1\n"
     ]
    }
   ],
   "execution_count": 123
  },
  {
   "cell_type": "markdown",
   "metadata": {},
   "source": [
    "### List type"
   ]
  },
  {
   "cell_type": "code",
   "metadata": {
    "ExecuteTime": {
     "end_time": "2025-08-03T02:25:53.286853Z",
     "start_time": "2025-08-03T02:25:53.281839Z"
    }
   },
   "source": [
    "l1 = [3, 5, 9]\n",
    "print(l1)\n",
    "type(l1)"
   ],
   "outputs": [
    {
     "name": "stdout",
     "output_type": "stream",
     "text": [
      "[3, 5, 9]\n"
     ]
    },
    {
     "data": {
      "text/plain": [
       "list"
      ]
     },
     "execution_count": 124,
     "metadata": {},
     "output_type": "execute_result"
    }
   ],
   "execution_count": 124
  },
  {
   "cell_type": "code",
   "metadata": {
    "ExecuteTime": {
     "end_time": "2025-08-03T02:25:53.352295Z",
     "start_time": "2025-08-03T02:25:53.345546Z"
    }
   },
   "source": [
    "l2 = ['A', 5, \"python\", \"0.01\",\"Class is over 你好\"]\n",
    "print(l2)\n",
    "type(l2)"
   ],
   "outputs": [
    {
     "name": "stdout",
     "output_type": "stream",
     "text": [
      "['A', 5, 'python', '0.01', 'Class is over 你好']\n"
     ]
    },
    {
     "data": {
      "text/plain": [
       "list"
      ]
     },
     "execution_count": 125,
     "metadata": {},
     "output_type": "execute_result"
    }
   ],
   "execution_count": 125
  },
  {
   "cell_type": "code",
   "metadata": {
    "ExecuteTime": {
     "end_time": "2025-08-03T02:25:53.405442Z",
     "start_time": "2025-08-03T02:25:53.401243Z"
    }
   },
   "source": [
    "print(l2[0])\n",
    "type(l2[0])"
   ],
   "outputs": [
    {
     "name": "stdout",
     "output_type": "stream",
     "text": [
      "A\n"
     ]
    },
    {
     "data": {
      "text/plain": [
       "str"
      ]
     },
     "execution_count": 126,
     "metadata": {},
     "output_type": "execute_result"
    }
   ],
   "execution_count": 126
  },
  {
   "cell_type": "code",
   "metadata": {
    "ExecuteTime": {
     "end_time": "2025-08-03T02:25:53.459303Z",
     "start_time": "2025-08-03T02:25:53.455352Z"
    }
   },
   "source": [
    "type(l2[1])"
   ],
   "outputs": [
    {
     "data": {
      "text/plain": [
       "int"
      ]
     },
     "execution_count": 127,
     "metadata": {},
     "output_type": "execute_result"
    }
   ],
   "execution_count": 127
  },
  {
   "cell_type": "code",
   "metadata": {
    "ExecuteTime": {
     "end_time": "2025-08-03T02:25:53.528001Z",
     "start_time": "2025-08-03T02:25:53.521919Z"
    }
   },
   "source": [
    "type(l2[2])"
   ],
   "outputs": [
    {
     "data": {
      "text/plain": [
       "str"
      ]
     },
     "execution_count": 128,
     "metadata": {},
     "output_type": "execute_result"
    }
   ],
   "execution_count": 128
  },
  {
   "cell_type": "code",
   "metadata": {
    "ExecuteTime": {
     "end_time": "2025-08-03T02:25:53.584048Z",
     "start_time": "2025-08-03T02:25:53.579177Z"
    }
   },
   "source": [
    "print(l2[-3])\n",
    "type(l2[-3])"
   ],
   "outputs": [
    {
     "name": "stdout",
     "output_type": "stream",
     "text": [
      "python\n"
     ]
    },
    {
     "data": {
      "text/plain": [
       "str"
      ]
     },
     "execution_count": 129,
     "metadata": {},
     "output_type": "execute_result"
    }
   ],
   "execution_count": 129
  },
  {
   "cell_type": "markdown",
   "metadata": {},
   "source": [
    "## 1.4 Introduction to Numpy Module"
   ]
  },
  {
   "cell_type": "code",
   "metadata": {
    "ExecuteTime": {
     "end_time": "2025-08-03T02:25:53.635198Z",
     "start_time": "2025-08-03T02:25:53.631999Z"
    }
   },
   "source": [
    "import numpy as np  # Abbreviated as np"
   ],
   "outputs": [],
   "execution_count": 130
  },
  {
   "cell_type": "code",
   "metadata": {
    "ExecuteTime": {
     "end_time": "2025-08-03T02:25:53.681255Z",
     "start_time": "2025-08-03T02:25:53.674017Z"
    }
   },
   "source": [
    "x = np.array([2, 4, 9])  # Array method\n",
    "print(x)\n",
    "type(x)"
   ],
   "outputs": [
    {
     "name": "stdout",
     "output_type": "stream",
     "text": [
      "[2 4 9]\n"
     ]
    },
    {
     "data": {
      "text/plain": [
       "numpy.ndarray"
      ]
     },
     "execution_count": 131,
     "metadata": {},
     "output_type": "execute_result"
    }
   ],
   "execution_count": 131
  },
  {
   "cell_type": "markdown",
   "metadata": {},
   "source": [
    "## Matrix Operations\n",
    "#### Reference: [https://note.nkmk.me/python-numpy-matrix/](https://note.nkmk.me/python-numpy-matrix/)"
   ]
  },
  {
   "cell_type": "code",
   "metadata": {
    "ExecuteTime": {
     "end_time": "2025-08-03T02:25:53.734158Z",
     "start_time": "2025-08-03T02:25:53.729683Z"
    }
   },
   "source": [
    "x = np.array([[1, 2],[3,4]])\n",
    "print(f\"x = \\n{x}\")"
   ],
   "outputs": [
    {
     "name": "stdout",
     "output_type": "stream",
     "text": [
      "x = \n",
      "[[1 2]\n",
      " [3 4]]\n"
     ]
    }
   ],
   "execution_count": 132
  },
  {
   "cell_type": "code",
   "metadata": {
    "ExecuteTime": {
     "end_time": "2025-08-03T02:25:53.775200Z",
     "start_time": "2025-08-03T02:25:53.770915Z"
    }
   },
   "source": [
    "y = np.array([[10,100],[100,1]])\n",
    "print(f\"y = \\n{y}\")\n",
    "print(\"x * y = \")\n",
    "print(x * y)  # Element-wise multiplication\n",
    "print(x@y)    # Matrix multiplication\n",
    "print(np.dot(x,y))"
   ],
   "outputs": [
    {
     "name": "stdout",
     "output_type": "stream",
     "text": [
      "y = \n",
      "[[ 10 100]\n",
      " [100   1]]\n",
      "x * y = \n",
      "[[ 10 200]\n",
      " [300   4]]\n",
      "[[210 102]\n",
      " [430 304]]\n",
      "[[210 102]\n",
      " [430 304]]\n"
     ]
    }
   ],
   "execution_count": 133
  },
  {
   "cell_type": "code",
   "metadata": {
    "ExecuteTime": {
     "end_time": "2025-08-03T02:25:53.822703Z",
     "start_time": "2025-08-03T02:25:53.818328Z"
    }
   },
   "source": [
    "x = np.array([[1, 2],[10, 20],[300, 400]])\n",
    "print(x)\n",
    "x.shape  # Outputs the shape: 3 rows × 2 columns"
   ],
   "outputs": [
    {
     "name": "stdout",
     "output_type": "stream",
     "text": [
      "[[  1   2]\n",
      " [ 10  20]\n",
      " [300 400]]\n"
     ]
    },
    {
     "data": {
      "text/plain": [
       "(3, 2)"
      ]
     },
     "execution_count": 134,
     "metadata": {},
     "output_type": "execute_result"
    }
   ],
   "execution_count": 134
  },
  {
   "cell_type": "code",
   "metadata": {
    "ExecuteTime": {
     "end_time": "2025-08-03T02:25:53.868760Z",
     "start_time": "2025-08-03T02:25:53.865074Z"
    }
   },
   "source": [
    "y = np.array([[3, 4, 5, 6],[7, 8, 9, 5]])\n",
    "print(y, y.shape)"
   ],
   "outputs": [
    {
     "name": "stdout",
     "output_type": "stream",
     "text": [
      "[[3 4 5 6]\n",
      " [7 8 9 5]] (2, 4)\n"
     ]
    }
   ],
   "execution_count": 135
  },
  {
   "cell_type": "code",
   "metadata": {
    "ExecuteTime": {
     "end_time": "2025-08-03T02:25:53.916770Z",
     "start_time": "2025-08-03T02:25:53.913012Z"
    }
   },
   "source": "# x*y  # Cannot multiply due to size mismatch",
   "outputs": [],
   "execution_count": 136
  },
  {
   "cell_type": "code",
   "metadata": {
    "ExecuteTime": {
     "end_time": "2025-08-03T02:25:53.943935Z",
     "start_time": "2025-08-03T02:25:53.938749Z"
    }
   },
   "source": [
    "x@y  # Matrix multiplication"
   ],
   "outputs": [
    {
     "data": {
      "text/plain": [
       "array([[  17,   20,   23,   16],\n",
       "       [ 170,  200,  230,  160],\n",
       "       [3700, 4400, 5100, 3800]])"
      ]
     },
     "execution_count": 137,
     "metadata": {},
     "output_type": "execute_result"
    }
   ],
   "execution_count": 137
  },
  {
   "cell_type": "markdown",
   "metadata": {},
   "source": [
    "#### Inverse Matrix"
   ]
  },
  {
   "cell_type": "code",
   "metadata": {
    "ExecuteTime": {
     "end_time": "2025-08-03T02:25:54.031596Z",
     "start_time": "2025-08-03T02:25:54.026010Z"
    }
   },
   "source": [
    "x = np.array([[1, 2],[3,4]])\n",
    "xinv = np.linalg.inv(x)\n",
    "print(np.dot(x,xinv))  # Product of x and xinv\n",
    "print(x@xinv)"
   ],
   "outputs": [
    {
     "name": "stdout",
     "output_type": "stream",
     "text": [
      "[[1.0000000e+00 0.0000000e+00]\n",
      " [8.8817842e-16 1.0000000e+00]]\n",
      "[[1.0000000e+00 0.0000000e+00]\n",
      " [8.8817842e-16 1.0000000e+00]]\n"
     ]
    }
   ],
   "execution_count": 138
  },
  {
   "cell_type": "markdown",
   "metadata": {},
   "source": [
    "#### Determinant"
   ]
  },
  {
   "cell_type": "code",
   "metadata": {
    "ExecuteTime": {
     "end_time": "2025-08-03T02:25:54.111028Z",
     "start_time": "2025-08-03T02:25:54.106091Z"
    }
   },
   "source": [
    "np.linalg.det(x)"
   ],
   "outputs": [
    {
     "data": {
      "text/plain": [
       "-2.0000000000000004"
      ]
     },
     "execution_count": 139,
     "metadata": {},
     "output_type": "execute_result"
    }
   ],
   "execution_count": 139
  },
  {
   "cell_type": "markdown",
   "metadata": {},
   "source": [
    "#### Eigenvalues and Eigenvectors"
   ]
  },
  {
   "cell_type": "code",
   "metadata": {
    "ExecuteTime": {
     "end_time": "2025-08-03T02:25:54.182853Z",
     "start_time": "2025-08-03T02:25:54.178591Z"
    }
   },
   "source": [
    "w, v = np.linalg.eig(x)\n",
    "print('Eigenvalues:', w)\n",
    "print('Eigenvectors:', v)"
   ],
   "outputs": [
    {
     "name": "stdout",
     "output_type": "stream",
     "text": [
      "Eigenvalues: [-0.37228132  5.37228132]\n",
      "Eigenvectors: [[-0.82456484 -0.41597356]\n",
      " [ 0.56576746 -0.90937671]]\n"
     ]
    }
   ],
   "execution_count": 140
  },
  {
   "cell_type": "markdown",
   "metadata": {},
   "source": [
    "## 1.5 For Loops\n",
    "Display natural numbers from 1 to 10"
   ]
  },
  {
   "cell_type": "code",
   "metadata": {
    "ExecuteTime": {
     "end_time": "2025-08-03T02:25:54.239590Z",
     "start_time": "2025-08-03T02:25:54.236548Z"
    }
   },
   "source": [
    "for i in np.arange(10):\n",
    "    x = (i + 1)\n",
    "    print(x)"
   ],
   "outputs": [
    {
     "name": "stdout",
     "output_type": "stream",
     "text": [
      "1\n",
      "2\n",
      "3\n",
      "4\n",
      "5\n",
      "6\n",
      "7\n",
      "8\n",
      "9\n",
      "10\n"
     ]
    }
   ],
   "execution_count": 141
  },
  {
   "cell_type": "markdown",
   "metadata": {},
   "source": [
    "### Sum numbers from 1 to 10"
   ]
  },
  {
   "cell_type": "code",
   "metadata": {
    "ExecuteTime": {
     "end_time": "2025-08-03T02:25:54.283544Z",
     "start_time": "2025-08-03T02:25:54.279690Z"
    }
   },
   "source": [
    "xsum = 0\n",
    "for i in np.arange(10):\n",
    "    xsum += (i + 1)\n",
    "    print(xsum)"
   ],
   "outputs": [
    {
     "name": "stdout",
     "output_type": "stream",
     "text": [
      "1\n",
      "3\n",
      "6\n",
      "10\n",
      "15\n",
      "21\n",
      "28\n",
      "36\n",
      "45\n",
      "55\n"
     ]
    }
   ],
   "execution_count": 142
  },
  {
   "cell_type": "markdown",
   "metadata": {},
   "source": [
    "# Practice Problems\n",
    "1. Calculate the product sum of natural numbers from 1 to 10 using a for loop.\n",
    "2. Calculate the product sum of [2, 5, 1, 8] using a for loop."
   ]
  },
  {
   "cell_type": "markdown",
   "metadata": {},
   "source": [
    "## 1.6 If Conditions"
   ]
  },
  {
   "cell_type": "code",
   "metadata": {
    "ExecuteTime": {
     "end_time": "2025-08-03T02:25:54.326376Z",
     "start_time": "2025-08-03T02:25:54.321615Z"
    }
   },
   "source": [
    "# Regular if statement example\n",
    "x = 8\n",
    "if x > 10:\n",
    "    print(\"x is greater than 10\")\n",
    "elif x > 7:\n",
    "    print(\"x is greater than 7\")\n",
    "else:\n",
    "    print(\"x is 7 or less\")"
   ],
   "outputs": [
    {
     "name": "stdout",
     "output_type": "stream",
     "text": [
      "x is greater than 7\n"
     ]
    }
   ],
   "execution_count": 143
  },
  {
   "cell_type": "markdown",
   "metadata": {},
   "source": [
    "## 1.7 Functions"
   ]
  },
  {
   "cell_type": "markdown",
   "metadata": {},
   "source": [
    "### Sum calculation function"
   ]
  },
  {
   "cell_type": "code",
   "metadata": {
    "ExecuteTime": {
     "end_time": "2025-08-03T02:25:54.367914Z",
     "start_time": "2025-08-03T02:25:54.364207Z"
    }
   },
   "source": [
    "def mysum(x):\n",
    "    xsum = 0\n",
    "    for i in np.arange(len(x)):\n",
    "        print(i)\n",
    "        xsum += x[i]\n",
    "    return xsum"
   ],
   "outputs": [],
   "execution_count": 144
  },
  {
   "cell_type": "code",
   "metadata": {
    "ExecuteTime": {
     "end_time": "2025-08-03T02:25:54.419499Z",
     "start_time": "2025-08-03T02:25:54.407462Z"
    }
   },
   "source": [
    "x = [1,2,3,58,6,4,6,67,7,8,7]\n",
    "print(x)\n",
    "mysum(x)"
   ],
   "outputs": [
    {
     "name": "stdout",
     "output_type": "stream",
     "text": [
      "[1, 2, 3, 58, 6, 4, 6, 67, 7, 8, 7]\n",
      "0\n",
      "1\n",
      "2\n",
      "3\n",
      "4\n",
      "5\n",
      "6\n",
      "7\n",
      "8\n",
      "9\n",
      "10\n"
     ]
    },
    {
     "data": {
      "text/plain": [
       "169"
      ]
     },
     "execution_count": 145,
     "metadata": {},
     "output_type": "execute_result"
    }
   ],
   "execution_count": 145
  },
  {
   "cell_type": "code",
   "metadata": {
    "ExecuteTime": {
     "end_time": "2025-08-03T02:25:54.470721Z",
     "start_time": "2025-08-03T02:25:54.465343Z"
    }
   },
   "source": [
    "y = [20,30,40,50,60,0.1]\n",
    "z = mysum(y)\n",
    "print(z)"
   ],
   "outputs": [
    {
     "name": "stdout",
     "output_type": "stream",
     "text": [
      "0\n",
      "1\n",
      "2\n",
      "3\n",
      "4\n",
      "5\n",
      "200.1\n"
     ]
    }
   ],
   "execution_count": 146
  },
  {
   "cell_type": "markdown",
   "metadata": {},
   "source": [
    "### Practice Problem: \n",
    "The heights of 5 people are 150,160,165,180,190 cm, and their weights are 60,50,70,50,100 kg respectively. \n",
    "Find the standard weight formula online (height(m)^2 × 22), and if the 5 people are within ±3 kg of standard weight, \n",
    "judge as standard; otherwise obese or thin."
   ]
  },
  {
   "cell_type": "code",
   "metadata": {
    "ExecuteTime": {
     "end_time": "2025-08-03T02:25:54.529663Z",
     "start_time": "2025-08-03T02:25:54.525362Z"
    }
   },
   "source": [
    "x = np.array([[150,160,165,180,190],\n",
    "              [60,50,70,50,80]])\n",
    "StW = (x[0][:]/100)**2*22\n",
    "print(\"Standard Weights:\", StW)"
   ],
   "outputs": [
    {
     "name": "stdout",
     "output_type": "stream",
     "text": [
      "Standard Weights: [49.5   56.32  59.895 71.28  79.42 ]\n"
     ]
    }
   ],
   "execution_count": 147
  },
  {
   "cell_type": "code",
   "metadata": {
    "ExecuteTime": {
     "end_time": "2025-08-03T02:25:54.588549Z",
     "start_time": "2025-08-03T02:25:54.584787Z"
    }
   },
   "source": [
    "print('Height:', x[0][1])\n",
    "print('Weights:', x[1][:])"
   ],
   "outputs": [
    {
     "name": "stdout",
     "output_type": "stream",
     "text": [
      "Height: 160\n",
      "Weights: [60 50 70 50 80]\n"
     ]
    }
   ],
   "execution_count": 148
  },
  {
   "cell_type": "code",
   "metadata": {
    "ExecuteTime": {
     "end_time": "2025-08-03T02:25:54.640649Z",
     "start_time": "2025-08-03T02:25:54.636050Z"
    }
   },
   "source": [
    "for i in np.arange(5):\n",
    "    if x[1][i] > StW[i]+3:\n",
    "        print(f'Person {i+1}: Obese')\n",
    "    elif x[1][i] < StW[i]-3:\n",
    "        print(f'Person {i+1}: Thin')\n",
    "    else:\n",
    "        print(f'Person {i+1}: Standard')"
   ],
   "outputs": [
    {
     "name": "stdout",
     "output_type": "stream",
     "text": [
      "Person 1: Obese\n",
      "Person 2: Thin\n",
      "Person 3: Obese\n",
      "Person 4: Thin\n",
      "Person 5: Standard\n"
     ]
    }
   ],
   "execution_count": 149
  },
  {
   "cell_type": "markdown",
   "metadata": {},
   "source": [
    "# Pandas Introduction\n",
    "## Preparation: Upload DATA01.xls to the same folder (using upload button in left panel)"
   ]
  },
  {
   "cell_type": "code",
   "metadata": {
    "ExecuteTime": {
     "end_time": "2025-08-03T02:25:54.701718Z",
     "start_time": "2025-08-03T02:25:54.696424Z"
    }
   },
   "source": [
    "import pandas as pd\n",
    "# !pip install openpyxl\n",
    "# !pip install xlrd"
   ],
   "outputs": [],
   "execution_count": 150
  },
  {
   "cell_type": "code",
   "metadata": {
    "ExecuteTime": {
     "end_time": "2025-08-03T02:25:54.749087Z",
     "start_time": "2025-08-03T02:25:54.732236Z"
    }
   },
   "source": [
    "df01 = pd.read_csv('../DATA01.csv')\n",
    "df02 = pd.read_csv('../CAPM02.csv', skiprows=1)\n",
    "print(\"DATA01 head:\")\n",
    "print(df01.head())\n",
    "print(\"\\nCAPM02 head:\")\n",
    "print(df02.head())\n",
    "X = df01[[\"Weight\"]]\n",
    "print(\"\\nWeight column:\")\n",
    "print(X)"
   ],
   "outputs": [
    {
     "name": "stdout",
     "output_type": "stream",
     "text": [
      "DATA01 head:\n",
      "       No  Weight  Height\n",
      "0  161111     172      59\n",
      "1  161112     166      58\n",
      "2  161113     164      65\n",
      "3  161114     175      73\n",
      "4  161115     149      41\n",
      "\n",
      "CAPM02 head:\n",
      "   Unnamed: 0     NTT  NIKKEI     NTT.1  NIKKEI.1  Unnamed: 5\n",
      "0        12.0     NaN     NaN  479000.0    9174.0         NaN\n",
      "1         1.0 -0.0872 -0.0516  439000.0    8713.0         NaN\n",
      "2         2.0 -0.0930 -0.0247  400000.0    8500.0         NaN\n",
      "3         3.0  0.0793 -0.0012  433000.0    8490.0         NaN\n",
      "4         4.0 -0.0546 -0.0612  410000.0    7986.0         NaN\n",
      "\n",
      "Weight column:\n",
      "    Weight\n",
      "0      172\n",
      "1      166\n",
      "2      164\n",
      "3      175\n",
      "4      149\n",
      "5      144\n",
      "6      161\n",
      "7      159\n",
      "8      172\n",
      "9      167\n",
      "10     166\n",
      "11     187\n",
      "12     179\n",
      "13     177\n",
      "14     198\n",
      "15     152\n",
      "16     169\n",
      "17     159\n",
      "18     164\n",
      "19     163\n",
      "20     178\n",
      "21     143\n",
      "22     173\n",
      "23     145\n",
      "24     153\n",
      "25     164\n",
      "26     177\n",
      "27     164\n",
      "28     166\n",
      "29     175\n",
      "30     166\n",
      "31     153\n",
      "32     165\n",
      "33     152\n",
      "34     156\n",
      "35     189\n",
      "36     147\n",
      "37     163\n",
      "38     159\n",
      "39     150\n",
      "40     157\n",
      "41     145\n",
      "42     176\n",
      "43     179\n",
      "44     161\n",
      "45     190\n",
      "46     171\n",
      "47     155\n",
      "48     163\n",
      "49     180\n"
     ]
    }
   ],
   "execution_count": 151
  },
  {
   "cell_type": "code",
   "metadata": {
    "ExecuteTime": {
     "end_time": "2025-08-03T02:25:54.854497Z",
     "start_time": "2025-08-03T02:25:54.847648Z"
    }
   },
   "source": [
    "df01.tail(1)  # Show last row"
   ],
   "outputs": [
    {
     "data": {
      "text/plain": [
       "        No  Weight  Height\n",
       "49  161160     180      75"
      ],
      "text/html": [
       "<div>\n",
       "<style scoped>\n",
       "    .dataframe tbody tr th:only-of-type {\n",
       "        vertical-align: middle;\n",
       "    }\n",
       "\n",
       "    .dataframe tbody tr th {\n",
       "        vertical-align: top;\n",
       "    }\n",
       "\n",
       "    .dataframe thead th {\n",
       "        text-align: right;\n",
       "    }\n",
       "</style>\n",
       "<table border=\"1\" class=\"dataframe\">\n",
       "  <thead>\n",
       "    <tr style=\"text-align: right;\">\n",
       "      <th></th>\n",
       "      <th>No</th>\n",
       "      <th>Weight</th>\n",
       "      <th>Height</th>\n",
       "    </tr>\n",
       "  </thead>\n",
       "  <tbody>\n",
       "    <tr>\n",
       "      <th>49</th>\n",
       "      <td>161160</td>\n",
       "      <td>180</td>\n",
       "      <td>75</td>\n",
       "    </tr>\n",
       "  </tbody>\n",
       "</table>\n",
       "</div>"
      ]
     },
     "execution_count": 152,
     "metadata": {},
     "output_type": "execute_result"
    }
   ],
   "execution_count": 152
  },
  {
   "cell_type": "code",
   "metadata": {
    "ExecuteTime": {
     "end_time": "2025-08-03T02:25:54.934005Z",
     "start_time": "2025-08-03T02:25:54.928662Z"
    }
   },
   "source": "df01.loc[0:3,'Weight']",
   "outputs": [
    {
     "data": {
      "text/plain": [
       "0    172\n",
       "1    166\n",
       "2    164\n",
       "3    175\n",
       "Name: Weight, dtype: int64"
      ]
     },
     "execution_count": 153,
     "metadata": {},
     "output_type": "execute_result"
    }
   ],
   "execution_count": 153
  },
  {
   "cell_type": "code",
   "metadata": {
    "ExecuteTime": {
     "end_time": "2025-08-03T02:25:55.046189Z",
     "start_time": "2025-08-03T02:25:55.040850Z"
    }
   },
   "source": [
    "df01.loc[0,:]"
   ],
   "outputs": [
    {
     "data": {
      "text/plain": [
       "No        161111\n",
       "Weight       172\n",
       "Height        59\n",
       "Name: 0, dtype: int64"
      ]
     },
     "execution_count": 154,
     "metadata": {},
     "output_type": "execute_result"
    }
   ],
   "execution_count": 154
  },
  {
   "cell_type": "code",
   "metadata": {
    "ExecuteTime": {
     "end_time": "2025-08-03T02:25:55.232308Z",
     "start_time": "2025-08-03T02:25:55.223575Z"
    }
   },
   "source": [
    "df01.loc[0:2,:]"
   ],
   "outputs": [
    {
     "data": {
      "text/plain": [
       "       No  Weight  Height\n",
       "0  161111     172      59\n",
       "1  161112     166      58\n",
       "2  161113     164      65"
      ],
      "text/html": [
       "<div>\n",
       "<style scoped>\n",
       "    .dataframe tbody tr th:only-of-type {\n",
       "        vertical-align: middle;\n",
       "    }\n",
       "\n",
       "    .dataframe tbody tr th {\n",
       "        vertical-align: top;\n",
       "    }\n",
       "\n",
       "    .dataframe thead th {\n",
       "        text-align: right;\n",
       "    }\n",
       "</style>\n",
       "<table border=\"1\" class=\"dataframe\">\n",
       "  <thead>\n",
       "    <tr style=\"text-align: right;\">\n",
       "      <th></th>\n",
       "      <th>No</th>\n",
       "      <th>Weight</th>\n",
       "      <th>Height</th>\n",
       "    </tr>\n",
       "  </thead>\n",
       "  <tbody>\n",
       "    <tr>\n",
       "      <th>0</th>\n",
       "      <td>161111</td>\n",
       "      <td>172</td>\n",
       "      <td>59</td>\n",
       "    </tr>\n",
       "    <tr>\n",
       "      <th>1</th>\n",
       "      <td>161112</td>\n",
       "      <td>166</td>\n",
       "      <td>58</td>\n",
       "    </tr>\n",
       "    <tr>\n",
       "      <th>2</th>\n",
       "      <td>161113</td>\n",
       "      <td>164</td>\n",
       "      <td>65</td>\n",
       "    </tr>\n",
       "  </tbody>\n",
       "</table>\n",
       "</div>"
      ]
     },
     "execution_count": 155,
     "metadata": {},
     "output_type": "execute_result"
    }
   ],
   "execution_count": 155
  }
 ],
 "metadata": {
  "kernelspec": {
   "display_name": "Python 3",
   "language": "python",
   "name": "python3"
  },
  "language_info": {
   "codemirror_mode": {
    "name": "ipython",
    "version": 3
   },
   "file_extension": ".py",
   "mimetype": "text/x-python",
   "name": "python",
   "nbconvert_exporter": "python",
   "pygments_lexer": "ipython3",
   "version": "3.8.5"
  }
 },
 "nbformat": 4,
 "nbformat_minor": 4
}
