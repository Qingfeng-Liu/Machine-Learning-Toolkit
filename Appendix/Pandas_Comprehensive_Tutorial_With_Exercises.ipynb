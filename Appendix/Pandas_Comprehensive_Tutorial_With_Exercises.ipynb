{
 "cells": [
  {
   "cell_type": "markdown",
   "id": "34372251",
   "metadata": {},
   "source": [
    "# Comprehensive Introduction to pandas\n",
    "\n",
    "This notebook introduces the pandas library, focusing on data manipulation using Series and DataFrame. It includes data loading, inspection, cleaning, transformation, and aggregation, along with exercises."
   ]
  },
  {
   "cell_type": "code",
   "id": "5d48dc17",
   "metadata": {
    "ExecuteTime": {
     "end_time": "2025-07-25T01:19:47.847531Z",
     "start_time": "2025-07-25T01:19:47.221123Z"
    }
   },
   "source": [
    "import pandas as pd\n",
    "import numpy as np"
   ],
   "outputs": [],
   "execution_count": 3
  },
  {
   "cell_type": "markdown",
   "id": "32732f57",
   "metadata": {},
   "source": [
    "## Series Basics"
   ]
  },
  {
   "cell_type": "code",
   "execution_count": null,
   "id": "6df83c75",
   "metadata": {},
   "outputs": [],
   "source": [
    "# Creating a Series\n",
    "s = pd.Series([10, 20, 30, 40], index=['a', 'b', 'c', 'd'])\n",
    "print(s)\n",
    "\n",
    "# Accessing elements\n",
    "print(\"Element at index 'b':\", s['b'])"
   ]
  },
  {
   "cell_type": "markdown",
   "id": "ddb4a90f",
   "metadata": {},
   "source": [
    "## DataFrame Basics"
   ]
  },
  {
   "cell_type": "code",
   "id": "6f47ac22",
   "metadata": {
    "ExecuteTime": {
     "end_time": "2025-07-25T01:19:54.299507Z",
     "start_time": "2025-07-25T01:19:54.288629Z"
    }
   },
   "source": [
    "# Creating a DataFrame\n",
    "data = {'Name': ['Alice', 'Bob', 'Charlie', 'David'],\n",
    "        'Age': [24, 27, 22, 32],\n",
    "        'Score': [85, 90, 78, 88]}\n",
    "print(data)\n",
    "\n",
    "df = pd.DataFrame(data)\n",
    "print(df)"
   ],
   "outputs": [
    {
     "name": "stdout",
     "output_type": "stream",
     "text": [
      "{'Name': ['Alice', 'Bob', 'Charlie', 'David'], 'Age': [24, 27, 22, 32], 'Score': [85, 90, 78, 88]}\n",
      "      Name  Age  Score\n",
      "0    Alice   24     85\n",
      "1      Bob   27     90\n",
      "2  Charlie   22     78\n",
      "3    David   32     88\n"
     ]
    }
   ],
   "execution_count": 4
  },
  {
   "cell_type": "markdown",
   "id": "d8baa668",
   "metadata": {},
   "source": [
    "## Data Inspection"
   ]
  },
  {
   "cell_type": "code",
   "id": "3706b65e",
   "metadata": {
    "ExecuteTime": {
     "end_time": "2025-07-25T01:21:08.712422Z",
     "start_time": "2025-07-25T01:21:08.689749Z"
    }
   },
   "source": [
    "print(\"Head of DataFrame:\")\n",
    "print(df.head(2))\n",
    "\n",
    "print(\"DataFrame info:\")\n",
    "print(df.info())\n",
    "\n",
    "print(\"Statistical summary:\")\n",
    "print(df.describe())"
   ],
   "outputs": [
    {
     "name": "stdout",
     "output_type": "stream",
     "text": [
      "Head of DataFrame:\n",
      "    Name  Age  Score\n",
      "0  Alice   24     85\n",
      "1    Bob   27     90\n",
      "DataFrame info:\n",
      "<class 'pandas.core.frame.DataFrame'>\n",
      "RangeIndex: 4 entries, 0 to 3\n",
      "Data columns (total 3 columns):\n",
      " #   Column  Non-Null Count  Dtype \n",
      "---  ------  --------------  ----- \n",
      " 0   Name    4 non-null      object\n",
      " 1   Age     4 non-null      int64 \n",
      " 2   Score   4 non-null      int64 \n",
      "dtypes: int64(2), object(1)\n",
      "memory usage: 228.0+ bytes\n",
      "None\n",
      "Statistical summary:\n",
      "             Age      Score\n",
      "count   4.000000   4.000000\n",
      "mean   26.250000  85.250000\n",
      "std     4.349329   5.251984\n",
      "min    22.000000  78.000000\n",
      "25%    23.500000  83.250000\n",
      "50%    25.500000  86.500000\n",
      "75%    28.250000  88.500000\n",
      "max    32.000000  90.000000\n"
     ]
    }
   ],
   "execution_count": 5
  },
  {
   "metadata": {
    "ExecuteTime": {
     "end_time": "2025-07-25T01:39:40.919635Z",
     "start_time": "2025-07-25T01:39:40.908533Z"
    }
   },
   "cell_type": "code",
   "source": [
    "df01 = pd.read_csv('DATA01.csv')\n",
    "print(df01.head(3))\n",
    "print(df01.describe())"
   ],
   "id": "559c3b6b42753731",
   "outputs": [
    {
     "name": "stdout",
     "output_type": "stream",
     "text": [
      "     学籍番号  身長(cm)  体重(kg)\n",
      "0  161111     172      59\n",
      "1  161112     166      58\n",
      "2  161113     164      65\n",
      "               学籍番号      身長(cm)     体重(kg)\n",
      "count      50.00000   50.000000  50.000000\n",
      "mean   161135.50000  165.160000  60.680000\n",
      "std        14.57738   12.734911  12.115835\n",
      "min    161111.00000  143.000000  33.000000\n",
      "25%    161123.25000  156.250000  52.250000\n",
      "50%    161135.50000  164.000000  59.500000\n",
      "75%    161147.75000  174.500000  68.750000\n",
      "max    161160.00000  198.000000  87.000000\n"
     ]
    }
   ],
   "execution_count": 10
  },
  {
   "metadata": {
    "ExecuteTime": {
     "end_time": "2025-07-25T01:35:16.212385Z",
     "start_time": "2025-07-25T01:35:16.206021Z"
    }
   },
   "cell_type": "code",
   "source": [
    "df01 = pd.read_csv('./DATA01.csv')\n",
    "df02 = pd.read_csv('./CAPM02.csv',skiprows=1)\n"
   ],
   "id": "83c7b119c648aa90",
   "outputs": [],
   "execution_count": 8
  },
  {
   "metadata": {
    "ExecuteTime": {
     "end_time": "2025-07-25T01:35:44.788399Z",
     "start_time": "2025-07-25T01:35:44.780248Z"
    }
   },
   "cell_type": "code",
   "source": "print(df02.head)",
   "id": "2a38a6c231977717",
   "outputs": [
    {
     "name": "stdout",
     "output_type": "stream",
     "text": [
      "<bound method NDFrame.head of     Unnamed: 0     NTT  NIKKEI     NTT.1  NIKKEI.1  Unnamed: 5\n",
      "0         12.0     NaN     NaN  479000.0    9174.0         NaN\n",
      "1          1.0 -0.0872 -0.0516  439000.0    8713.0         NaN\n",
      "2          2.0 -0.0930 -0.0247  400000.0    8500.0         NaN\n",
      "3          3.0  0.0793 -0.0012  433000.0    8490.0         NaN\n",
      "4          4.0 -0.0546 -0.0612  410000.0    7986.0         NaN\n",
      "5          5.0  0.0145 -0.0155  416000.0    7863.0         NaN\n",
      "6          6.0  0.0470  0.0834  436000.0    8547.0         NaN\n",
      "7          7.0  0.0961  0.0821  480000.0    9278.0         NaN\n",
      "8          8.0  0.0328  0.0353  496000.0    9611.0         NaN\n",
      "9          9.0  0.0738  0.1045  534000.0   10670.0         NaN\n",
      "10        10.0 -0.0618 -0.0294  502000.0   10361.0         NaN\n",
      "11        11.0 -0.0242  0.0458  490000.0   10847.0         NaN\n",
      "12        12.0  0.0916 -0.0418  537000.0   10403.0         NaN\n",
      "13         NaN     NaN     NaN       NaN       NaN         NaN>\n"
     ]
    }
   ],
   "execution_count": 9
  },
  {
   "metadata": {
    "SqlCellData": {
     "variableName$1": "df_sql1"
    }
   },
   "cell_type": "code",
   "outputs": [],
   "execution_count": null,
   "source": "%%sql\n",
   "id": "f27ed116003ecb78"
  },
  {
   "cell_type": "markdown",
   "id": "1fde353d",
   "metadata": {},
   "source": [
    "## Indexing and Selection"
   ]
  },
  {
   "cell_type": "code",
   "id": "9c1c2314",
   "metadata": {
    "ExecuteTime": {
     "end_time": "2025-07-25T01:55:32.975864Z",
     "start_time": "2025-07-25T01:55:32.969447Z"
    }
   },
   "source": [
    "# Selecting a column\n",
    "# print(\"Name column:\")\n",
    "print(df01['身長(cm)'])\n",
    "\n",
    "# Selecting rows using loc and iloc\n",
    "print(\"Row with index 1 using loc:\")\n",
    "print(df01.loc[0:3])\n",
    "print(\"Row at position 2 using iloc:\")\n",
    "print(df01.iloc[2:5,1:3])\n",
    "print(df01)"
   ],
   "outputs": [
    {
     "name": "stdout",
     "output_type": "stream",
     "text": [
      "0     172\n",
      "1     166\n",
      "2     164\n",
      "3     175\n",
      "4     149\n",
      "5     144\n",
      "6     161\n",
      "7     159\n",
      "8     172\n",
      "9     167\n",
      "10    166\n",
      "11    187\n",
      "12    179\n",
      "13    177\n",
      "14    198\n",
      "15    152\n",
      "16    169\n",
      "17    159\n",
      "18    164\n",
      "19    163\n",
      "20    178\n",
      "21    143\n",
      "22    173\n",
      "23    145\n",
      "24    153\n",
      "25    164\n",
      "26    177\n",
      "27    164\n",
      "28    166\n",
      "29    175\n",
      "30    166\n",
      "31    153\n",
      "32    165\n",
      "33    152\n",
      "34    156\n",
      "35    189\n",
      "36    147\n",
      "37    163\n",
      "38    159\n",
      "39    150\n",
      "40    157\n",
      "41    145\n",
      "42    176\n",
      "43    179\n",
      "44    161\n",
      "45    190\n",
      "46    171\n",
      "47    155\n",
      "48    163\n",
      "49    180\n",
      "Name: 身長(cm), dtype: int64\n",
      "Row with index 1 using loc:\n",
      "     学籍番号  身長(cm)  体重(kg)\n",
      "0  161111     172      59\n",
      "1  161112     166      58\n",
      "2  161113     164      65\n",
      "3  161114     175      73\n",
      "Row at position 2 using iloc:\n",
      "   身長(cm)  体重(kg)\n",
      "2     164      65\n",
      "3     175      73\n",
      "4     149      41\n",
      "      学籍番号  身長(cm)  体重(kg)\n",
      "0   161111     172      59\n",
      "1   161112     166      58\n",
      "2   161113     164      65\n",
      "3   161114     175      73\n",
      "4   161115     149      41\n",
      "5   161116     144      48\n",
      "6   161117     161      63\n",
      "7   161118     159      56\n",
      "8   161119     172      63\n",
      "9   161120     167      57\n",
      "10  161121     166      52\n",
      "11  161122     187      80\n",
      "12  161123     179      65\n",
      "13  161124     177      68\n",
      "14  161125     198      75\n",
      "15  161126     152      72\n",
      "16  161127     169      69\n",
      "17  161128     159      75\n",
      "18  161129     164      60\n",
      "19  161130     163      62\n",
      "20  161131     178      63\n",
      "21  161132     143      61\n",
      "22  161133     173      78\n",
      "23  161134     145      52\n",
      "24  161135     153      47\n",
      "25  161136     164      72\n",
      "26  161137     177      59\n",
      "27  161138     164      66\n",
      "28  161139     166      57\n",
      "29  161140     175      65\n",
      "30  161141     166      55\n",
      "31  161142     153      55\n",
      "32  161143     165      52\n",
      "33  161144     152      51\n",
      "34  161145     156      53\n",
      "35  161146     189      87\n",
      "36  161147     147      41\n",
      "37  161148     163      51\n",
      "38  161149     159      54\n",
      "39  161150     150      50\n",
      "40  161151     157      43\n",
      "41  161152     145      33\n",
      "42  161153     176      82\n",
      "43  161154     179      74\n",
      "44  161155     161      54\n",
      "45  161156     190      82\n",
      "46  161157     171      66\n",
      "47  161158     155      55\n",
      "48  161159     163      40\n",
      "49  161160     180      75\n"
     ]
    }
   ],
   "execution_count": 21
  },
  {
   "cell_type": "markdown",
   "id": "1ac4495b",
   "metadata": {},
   "source": "}## Data Filtering"
  },
  {
   "cell_type": "code",
   "execution_count": null,
   "id": "a28287fd",
   "metadata": {},
   "outputs": [],
   "source": [
    "# Filtering rows\n",
    "print(\"Rows with Age > 25:\")\n",
    "print(df[df['Age'] > 25])"
   ]
  },
  {
   "cell_type": "markdown",
   "id": "8387e63a",
   "metadata": {},
   "source": [
    "## Adding and Modifying Columns"
   ]
  },
  {
   "cell_type": "code",
   "execution_count": null,
   "id": "a29b6c0f",
   "metadata": {},
   "outputs": [],
   "source": [
    "# Add a new column\n",
    "df['Passed'] = df['Score'] >= 80\n",
    "print(df)"
   ]
  },
  {
   "cell_type": "markdown",
   "id": "4709d66d",
   "metadata": {},
   "source": [
    "## Sorting and Ranking"
   ]
  },
  {
   "cell_type": "code",
   "execution_count": null,
   "id": "52f51763",
   "metadata": {},
   "outputs": [],
   "source": [
    "# Sort by Age\n",
    "print(\"Sorted by Age:\")\n",
    "print(df.sort_values(by='Age'))"
   ]
  },
  {
   "cell_type": "markdown",
   "id": "45537a7d",
   "metadata": {},
   "source": [
    "## GroupBy and Aggregation"
   ]
  },
  {
   "cell_type": "code",
   "execution_count": null,
   "id": "144a97e3",
   "metadata": {},
   "outputs": [],
   "source": [
    "# Sample dataset\n",
    "data2 = {'Department': ['HR', 'IT', 'HR', 'Finance'],\n",
    "         'Salary': [4000, 6000, 4200, 5200]}\n",
    "df2 = pd.DataFrame(data2)\n",
    "\n",
    "# Group by Department\n",
    "print(df2.groupby('Department').mean())"
   ]
  },
  {
   "cell_type": "markdown",
   "id": "84cac7ed",
   "metadata": {},
   "source": [
    "## Handling Missing Data"
   ]
  },
  {
   "cell_type": "code",
   "execution_count": null,
   "id": "4f00eece",
   "metadata": {},
   "outputs": [],
   "source": [
    "df3 = pd.DataFrame({\n",
    "    'A': [1, 2, np.nan, 4],\n",
    "    'B': [5, np.nan, np.nan, 8]\n",
    "})\n",
    "\n",
    "print(\"Original DataFrame:\")\n",
    "print(df3)\n",
    "\n",
    "print(\"Fill missing values with 0:\")\n",
    "print(df3.fillna(0))\n",
    "\n",
    "print(\"Drop rows with missing values:\")\n",
    "print(df3.dropna())"
   ]
  },
  {
   "cell_type": "markdown",
   "id": "f19f46f1",
   "metadata": {},
   "source": [
    "## File Input/Output"
   ]
  },
  {
   "cell_type": "code",
   "execution_count": null,
   "id": "2bfda07a",
   "metadata": {},
   "outputs": [],
   "source": [
    "# Write to CSV\n",
    "df.to_csv('students.csv', index=False)\n",
    "\n",
    "# Read from CSV\n",
    "df_loaded = pd.read_csv('students.csv')\n",
    "print(\"Loaded DataFrame:\")\n",
    "print(df_loaded)"
   ]
  },
  {
   "cell_type": "markdown",
   "id": "1a1d5fe8",
   "metadata": {},
   "source": [
    "## 📝 Practice Exercises"
   ]
  },
  {
   "cell_type": "markdown",
   "id": "a6c8f999",
   "metadata": {},
   "source": [
    "### Exercise 1\n",
    "Create a DataFrame with information about 5 products (name, price, quantity). Then:\n",
    "- Add a column for total value (price × quantity)\n",
    "- Find the average price\n",
    "- Sort the products by quantity descending"
   ]
  },
  {
   "cell_type": "markdown",
   "id": "8aa14ede",
   "metadata": {},
   "source": [
    "### Exercise 2\n",
    "Load a CSV file of your choice (e.g., a dataset from Kaggle).\n",
    "- Display the first 10 rows\n",
    "- Check for missing values\n",
    "- Show summary statistics of numeric columns"
   ]
  },
  {
   "cell_type": "markdown",
   "id": "a33d3d6c",
   "metadata": {},
   "source": [
    "### Exercise 3\n",
    "Create a DataFrame representing sales data by region.\n",
    "- Group by region and compute total sales\n",
    "- Filter to show only regions with total sales > 10,000\n",
    "- Export the filtered DataFrame to CSV"
   ]
  }
 ],
 "metadata": {},
 "nbformat": 4,
 "nbformat_minor": 5
}
