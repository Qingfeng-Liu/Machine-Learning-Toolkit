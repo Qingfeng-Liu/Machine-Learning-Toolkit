{
 "cells": [
  {
   "cell_type": "code",
   "id": "initial_id",
   "metadata": {
    "collapsed": true,
    "ExecuteTime": {
     "end_time": "2025-07-30T01:50:50.788247Z",
     "start_time": "2025-07-30T01:50:50.681583Z"
    }
   },
   "source": [
    "# !pip install sudachipy sudachidict_core\n",
    "from sudachipy import tokenizer\n",
    "from sudachipy import dictionary\n",
    "import re\n",
    "\n",
    "# SudachiPyのトークナイザー準備\n",
    "tokenizer_obj = dictionary.Dictionary().create()\n",
    "mode = tokenizer.Tokenizer.SplitMode.C  # C: 長い単位で分割\n",
    "\n",
    "# テキスト入力（文区切りは自力で行う）\n",
    "text = \"\"\"\n",
    "人工知能は急速に進化している。自然言語処理も重要な研究分野の一つだ。\n",
    "しかし、日本語には多くの課題が残っている。今後の改善が期待されている。\n",
    "\"\"\"\n",
    "\n",
    "# 文単位に分割（簡易的に「。」「？」などで分割）\n",
    "sentences = re.split(r'[。！？]\\s*', text.strip())\n",
    "sentences = [s for s in sentences if s]  # 空文除去\n",
    "\n",
    "# 各文に対して分かち書き＆単語数カウント\n",
    "for i, sentence in enumerate(sentences, 1):\n",
    "    tokens = tokenizer_obj.tokenize(sentence, mode)\n",
    "    words = [m.surface() for m in tokens]\n",
    "    print(f\"第{i}文：{sentence}\")\n",
    "    print(f\"単語数：{len(words)}\")\n",
    "    print(f\"分かち書き：{' '.join(words)}\\n\")"
   ],
   "outputs": [
    {
     "name": "stdout",
     "output_type": "stream",
     "text": [
      "第1文：人工知能は急速に進化している\n",
      "単語数：8\n",
      "分かち書き：人工知能 は 急速 に 進化 し て いる\n",
      "\n",
      "第2文：自然言語処理も重要な研究分野の一つだ\n",
      "単語数：10\n",
      "分かち書き：自然言語処理 も 重要 な 研究 分野 の 一 つ だ\n",
      "\n",
      "第3文：しかし、日本語には多くの課題が残っている\n",
      "単語数：12\n",
      "分かち書き：しかし 、 日本語 に は 多く の 課題 が 残っ て いる\n",
      "\n",
      "第4文：今後の改善が期待されている\n",
      "単語数：9\n",
      "分かち書き：今後 の 改善 が 期待 さ れ て いる\n",
      "\n"
     ]
    }
   ],
   "execution_count": 11
  }
 ],
 "metadata": {
  "kernelspec": {
   "display_name": "Python 3",
   "language": "python",
   "name": "python3"
  },
  "language_info": {
   "codemirror_mode": {
    "name": "ipython",
    "version": 2
   },
   "file_extension": ".py",
   "mimetype": "text/x-python",
   "name": "python",
   "nbconvert_exporter": "python",
   "pygments_lexer": "ipython2",
   "version": "2.7.6"
  }
 },
 "nbformat": 4,
 "nbformat_minor": 5
}
