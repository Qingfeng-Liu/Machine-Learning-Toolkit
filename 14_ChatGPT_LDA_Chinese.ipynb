{
 "cells": [
  {
   "cell_type": "markdown",
   "metadata": {},
   "source": [
    "# 🧠 使用ChatGPT嵌入和NMF进行主题建模\n",
    "\n",
    "本笔记本演示了一个现代无监督主题建模流程：\n",
    "\n",
    "- ✅ 使用OpenAI的`text-embedding-3-small`模型生成文本嵌入\n",
    "- ✅ 使用NMF(非负矩阵分解)进行主题聚类\n",
    "- ✅ 两种主题解释方法：\n",
    "    - TF-IDF关键词提取\n",
    "    - 基于ChatGPT的摘要生成\n",
    "\n",
    "这种方法提供了语义主题聚类和人类可读的摘要。"
   ],
   "id": "984830e8873aa4e4"
  },
  {
   "cell_type": "code",
   "metadata": {},
   "source": [
    "import openai\n",
    "import numpy as np\n",
    "import pandas as pd\n",
    "from sklearn.decomposition import NMF\n",
    "from sklearn.decomposition import PCA\n",
    "from sklearn.preprocessing import normalize\n",
    "from sklearn.feature_extraction.text import TfidfVectorizer\n",
    "\n",
    "# 设置您的OpenAI API密钥\n",
    "# openai.api_key = \"OpenAI_Key\"  # 替换为您的真实API密钥\n",
    "\n",
    "# 示例数据集\n",
    "data = pd.DataFrame({\n",
    "    'text': [\n",
    "        \"经济正面临通胀和加息带来的挑战\",\n",
    "        \"由于对经济衰退的担忧，股市一直波动不定\",\n",
    "        \"投资者正在寻找黄金和债券等避险资产\",\n",
    "        \"机器学习算法正在快速改进\",\n",
    "        \"神经网络被广泛应用于图像识别任务\",\n",
    "        \"人工智能正在改变医疗保健行业\",\n",
    "        \"新款iPhone发布，电池和摄像头更好\",\n",
    "        \"三星最新手机采用可折叠屏幕\",\n",
    "        \"科技小玩意是节日期间的热门礼物\",\n",
    "        \"科学家在宜居带发现了一颗新的系外行星\"\n",
    "    ]\n",
    "})"
   ],
   "id": "65b815ac3b0282f8",
   "outputs": [],
   "execution_count": null
  },
  {
   "cell_type": "markdown",
   "metadata": {},
   "source": [
    "## 第一步：生成ChatGPT嵌入向量"
   ],
   "id": "a9983185c83df58"
  },
  {
   "cell_type": "code",
   "metadata": {},
   "source": [
    "def get_embedding(text, model=\"text-embedding-3-small\"):\n",
    "    response = openai.embeddings.create(\n",
    "        input=text,\n",
    "        model=model\n",
    "    )\n",
    "    return response.data[0].embedding\n",
    "\n",
    "# 获取嵌入向量\n",
    "embedding_list = []\n",
    "for i, row in data.iterrows():\n",
    "    embedding = get_embedding(row['text'])\n",
    "    embedding_list.append(embedding)\n",
    "\n",
    "X = np.array(embedding_list)  # 形状 (文档数, 1536)"
   ],
   "id": "2e6bdbda9788fecd",
   "outputs": [],
   "execution_count": null
  },
  {
   "cell_type": "markdown",
   "metadata": {},
   "source": [
    "## 第二步：降维(PCA) + 主题建模(NMF)"
   ],
   "id": "f12b5a8e181730a"
  },
  {
   "cell_type": "code",
   "metadata": {},
   "source": [
    "# 降维处理\n",
    "X_reduced = PCA(n_components=100, random_state=42).fit_transform(X)\n",
    "\n",
    "# 主题建模\n",
    "n_topics = 3\n",
    "nmf = NMF(n_components=n_topics, random_state=42)\n",
    "W = nmf.fit_transform(X_reduced)\n",
    "H = nmf.components_\n",
    "\n",
    "# 为每个文档分配主要主题\n",
    "topic_assignments = np.argmax(W, axis=1)\n",
    "data['topic'] = topic_assignments\n",
    "\n",
    "# 显示结果\n",
    "data[['text', 'topic']]"
   ],
   "id": "a9747ecffaaefa8e",
   "outputs": [],
   "execution_count": null
  },
  {
   "cell_type": "markdown",
   "metadata": {},
   "source": [
    "## 第三步a：每个主题的关键词提取(TF-IDF + NMF)"
   ],
   "id": "4598d3096f004a00"
  },
  {
   "cell_type": "code",
   "metadata": {},
   "source": [
    "print(\"=== TF-IDF + NMF关键词摘要 ===\")\n",
    "n_keywords = 5\n",
    "\n",
    "for topic_id in sorted(data['topic'].unique()):\n",
    "    topic_texts = data[data['topic'] == topic_id]['text'].tolist()\n",
    "    print(f\"\\n--- 主题 {topic_id} ---\")\n",
    "\n",
    "    # TF-IDF\n",
    "    vectorizer = TfidfVectorizer(max_df=0.95, min_df=1, stop_words='english')\n",
    "    tfidf = vectorizer.fit_transform(topic_texts)\n",
    "\n",
    "    # NMF\n",
    "    nmf_sub = NMF(n_components=1, random_state=0)\n",
    "    W_sub = nmf_sub.fit_transform(tfidf)\n",
    "    H_sub = nmf_sub.components_\n",
    "\n",
    "    feature_names = vectorizer.get_feature_names_out()\n",
    "    top_keywords = [feature_names[i] for i in H_sub[0].argsort()[::-1][:n_keywords]]\n",
    "    print(\"Top keywords:\", \", \".join(top_keywords))"
   ],
   "id": "e9c730f02fb6350c",
   "outputs": [],
   "execution_count": null
  },
  {
   "cell_type": "markdown",
   "metadata": {},
   "source": [
    "## 第三步b：通过ChatGPT生成主题摘要"
   ],
   "id": "cd44407f0cce0b1d"
  },
  {
   "cell_type": "code",
   "metadata": {},
   "source": [
    "print(\"=== 基于ChatGPT的主题摘要 ===\")\n",
    "for topic_id in sorted(data['topic'].unique()):\n",
    "    examples = data[data['topic'] == topic_id]['text'].tolist()\n",
    "    prompt = \"总结以下句子的主题:\\n\\n\" + \"\\n\\n\".join(examples)\n",
    "\n",
    "    response = openai.ChatCompletion.create(\n",
    "        model=\"gpt-4\",\n",
    "        messages=[{\"role\": \"user\", \"content\": prompt}]\n",
    "    )\n",
    "\n",
    "    summary = response.choices[0].message.content\n",
    "    print(f\"\\n--- 主题 {topic_id} 摘要 ---\\n{summary}\")"
   ],
   "id": "29712787d7e1b5e4",
   "outputs": [],
   "execution_count": null
  },
  {
   "cell_type": "markdown",
   "metadata": {},
   "source": [
    "## ✅ 总结\n",
    "\n",
    "本笔记本展示了如何：\n",
    "\n",
    "- 使用ChatGPT为短文本创建有意义的嵌入\n",
    "- 使用NMF进行语义聚类\n",
    "- 使用以下方法解释主题：\n",
    "    - 传统的TF-IDF关键词提取\n",
    "    - 基于LLM的摘要生成\n",
    "\n",
    "这种方法结合了LLM的强大能力和可解释性，不依赖单纯的词频统计就能实现最先进的主题建模。"
   ],
   "id": "82162957940b00e5"
  }
 ],
 "metadata": {
  "kernelspec": {
   "display_name": "Python 3",
   "language": "python",
   "name": "python3"
  },
  "language_info": {
   "codemirror_mode": {
    "name": "ipython",
    "version": 3
   },
   "file_extension": ".py",
   "mimetype": "text/x-python",
   "name": "python",
   "nbconvert_exporter": "python",
   "pygments_lexer": "ipython3",
   "version": "3.8.5"
  }
 }
}
