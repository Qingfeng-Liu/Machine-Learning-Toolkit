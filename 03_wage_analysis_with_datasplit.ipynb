{
 "cells": [
  {
   "metadata": {},
   "cell_type": "markdown",
   "source": "# Wage Analysis with Data Split",
   "id": "eedc13747c340c1d"
  },
  {
   "metadata": {
    "ExecuteTime": {
     "end_time": "2025-08-13T07:48:36.774353Z",
     "start_time": "2025-08-13T07:48:31.724592Z"
    }
   },
   "cell_type": "code",
   "source": [
    "import numpy as np\n",
    "import pandas as pd\n",
    "from sklearn.model_selection import train_test_split\n",
    "import statsmodels.api as sm\n",
    "import matplotlib.pyplot as plt\n",
    "%matplotlib inline"
   ],
   "id": "84784aca9075378d",
   "outputs": [],
   "execution_count": 1
  },
  {
   "metadata": {},
   "cell_type": "markdown",
   "source": "## 1. Load generated data",
   "id": "7f91540019330fc6"
  },
  {
   "cell_type": "code",
   "metadata": {
    "ExecuteTime": {
     "end_time": "2025-08-13T07:48:37.030802Z",
     "start_time": "2025-08-13T07:48:37.009892Z"
    }
   },
   "source": [
    "data = pd.read_csv('./DATA/wage_data.csv')\n",
    "print(data.head())\n",
    "\n",
    "print(\"Data loaded successfully\")"
   ],
   "id": "7b832c22a86d29f7",
   "outputs": [
    {
     "name": "stdout",
     "output_type": "stream",
     "text": [
      "        educ      exper   exper_sq   ability  female  union     height  \\\n",
      "0  14.993428  16.996777  288.89040 -0.675178     1.0    1.0  178.08919   \n",
      "1  13.723472  14.623168  213.83704 -0.144519     1.0    0.0  164.15544   \n",
      "2  15.295377  10.298152  106.05193 -0.792420     0.0    1.0  162.50642   \n",
      "3  17.046060   6.765316   45.76950 -0.307962     1.0    0.0  167.78464   \n",
      "4  13.531693  13.491117  182.01022 -1.893615     0.0    0.0  158.23038   \n",
      "\n",
      "   commute_km  birth_month  favorite_number clothing_color  log_wage  \n",
      "0         1.7          1.0              8.0           blue  4.978068  \n",
      "1         2.0          4.0              4.0           gray  4.968439  \n",
      "2         4.5         10.0              8.0          white  5.270698  \n",
      "3         5.7          7.0              9.0           blue  4.455431  \n",
      "4         9.8          2.0              7.0           gray  4.859989  \n",
      "Data loaded successfully\n"
     ]
    }
   ],
   "execution_count": 2
  },
  {
   "metadata": {},
   "cell_type": "markdown",
   "source": "## 2. Transfer Categorical Features to dummies",
   "id": "6332c0f1e85ac631"
  },
  {
   "metadata": {
    "ExecuteTime": {
     "end_time": "2025-08-13T07:48:37.077907Z",
     "start_time": "2025-08-13T07:48:37.057234Z"
    }
   },
   "cell_type": "code",
   "source": [
    "# One-hot encode three categorical columns with drop_first=True\n",
    "cat_cols = ['clothing_color', 'birth_month', 'favorite_number']\n",
    "\n",
    "# Fit-time: create dummies from data\n",
    "data = pd.get_dummies(data, columns=cat_cols, drop_first=True)\n",
    "print(data.head())\n",
    "print(\"The categorical features were transformed to dummy variables.\")"
   ],
   "id": "7e72f3a53825cc92",
   "outputs": [
    {
     "name": "stdout",
     "output_type": "stream",
     "text": [
      "        educ      exper   exper_sq   ability  female  union     height  \\\n",
      "0  14.993428  16.996777  288.89040 -0.675178     1.0    1.0  178.08919   \n",
      "1  13.723472  14.623168  213.83704 -0.144519     1.0    0.0  164.15544   \n",
      "2  15.295377  10.298152  106.05193 -0.792420     0.0    1.0  162.50642   \n",
      "3  17.046060   6.765316   45.76950 -0.307962     1.0    0.0  167.78464   \n",
      "4  13.531693  13.491117  182.01022 -1.893615     0.0    0.0  158.23038   \n",
      "\n",
      "   commute_km  log_wage  clothing_color_blue  ...  birth_month_11.0  \\\n",
      "0         1.7  4.978068                 True  ...             False   \n",
      "1         2.0  4.968439                False  ...             False   \n",
      "2         4.5  5.270698                False  ...             False   \n",
      "3         5.7  4.455431                 True  ...             False   \n",
      "4         9.8  4.859989                False  ...             False   \n",
      "\n",
      "   birth_month_12.0  favorite_number_2.0  favorite_number_3.0  \\\n",
      "0             False                False                False   \n",
      "1             False                False                False   \n",
      "2             False                False                False   \n",
      "3             False                False                False   \n",
      "4             False                False                False   \n",
      "\n",
      "   favorite_number_4.0  favorite_number_5.0  favorite_number_6.0  \\\n",
      "0                False                False                False   \n",
      "1                 True                False                False   \n",
      "2                False                False                False   \n",
      "3                False                False                False   \n",
      "4                False                False                False   \n",
      "\n",
      "   favorite_number_7.0  favorite_number_8.0  favorite_number_9.0  \n",
      "0                False                 True                False  \n",
      "1                False                False                False  \n",
      "2                False                 True                False  \n",
      "3                False                False                 True  \n",
      "4                 True                False                False  \n",
      "\n",
      "[5 rows x 32 columns]\n",
      "The categorical features were transformed to dummy variables.\n"
     ]
    }
   ],
   "execution_count": 3
  },
  {
   "metadata": {},
   "cell_type": "markdown",
   "source": "## 3. Data Splitting",
   "id": "91e4bc322aaa8aaa"
  },
  {
   "metadata": {
    "ExecuteTime": {
     "end_time": "2025-08-13T07:48:37.137465Z",
     "start_time": "2025-08-13T07:48:37.127071Z"
    }
   },
   "cell_type": "code",
   "source": [
    "X = data.drop(columns=['log_wage'])\n",
    "log_wage = data['log_wage']\n",
    "\n",
    "# Split data\n",
    "X_train, X_temp, y_train, y_temp = train_test_split(X, log_wage, test_size=0.4, random_state=42)\n",
    "X_val, X_test, y_val, y_test = train_test_split(X_temp, y_temp, test_size=0.5, random_state=42)\n",
    "\n",
    "for df in [X_train, X_val, X_test, y_train, y_val, y_test]:\n",
    "    df.reset_index(drop=True, inplace=True)\n",
    "print(\"Data split successfully\")"
   ],
   "id": "1c88e1a30a80fdc1",
   "outputs": [
    {
     "name": "stdout",
     "output_type": "stream",
     "text": [
      "Data split successfully\n"
     ]
    }
   ],
   "execution_count": 4
  },
  {
   "cell_type": "markdown",
   "metadata": {},
   "source": "## 4. Model Specifications",
   "id": "27c37292a1f844e6"
  },
  {
   "cell_type": "code",
   "metadata": {
    "ExecuteTime": {
     "end_time": "2025-08-13T07:48:37.204099Z",
     "start_time": "2025-08-13T07:48:37.198779Z"
    }
   },
   "source": [
    "print(\"Show list of all variables\")\n",
    "print(X_train.columns.tolist())\n",
    "\n",
    "# List of all variables\n",
    "# ['educ', 'exper', 'exper_sq', 'ability', 'female', 'union', 'height', 'commute_km', 'clothing_color_blue', 'clothing_color_gray', 'clothing_color_other', 'clothing_color_white', 'birth_month_2.0', 'birth_month_3.0', 'birth_month_4.0', 'birth_month_5.0', 'birth_month_6.0', 'birth_month_7.0', 'birth_month_8.0', 'birth_month_9.0', 'birth_month_10.0', 'birth_month_11.0', 'birth_month_12.0', 'favorite_number_2.0', 'favorite_number_3.0', 'favorite_number_4.0', 'favorite_number_5.0', 'favorite_number_6.0', 'favorite_number_7.0', 'favorite_number_8.0', 'favorite_number_9.0']\n",
    "\n",
    "model_specs = {\n",
    "    \"Basic\": ['educ', 'exper'],\n",
    "    \"Core\": ['educ', 'exper', 'ability'],\n",
    "    \"TrueDGP\": ['educ', 'exper', 'exper_sq', 'ability', 'female', 'union'],\n",
    "    \"Overfit1\": ['educ', 'exper', 'ability', 'female', 'union', 'height', 'commute_km', 'birth_month_2.0', 'birth_month_3.0', 'birth_month_4.0', 'birth_month_5.0', 'birth_month_6.0', 'birth_month_7.0', 'birth_month_8.0', 'birth_month_9.0', 'birth_month_10.0', 'birth_month_11.0', 'birth_month_12.0'],\n",
    "    \"Overfit2\": ['educ', 'exper', 'ability', 'female', 'union', \n",
    "                'height', 'birth_month_2.0', 'birth_month_3.0', 'birth_month_4.0', 'birth_month_5.0', 'birth_month_6.0', 'birth_month_7.0', 'birth_month_8.0', 'birth_month_9.0', 'birth_month_10.0', 'birth_month_11.0', 'birth_month_12.0'],\n",
    "    \"Overfit3\": ['educ', 'exper', 'ability', 'female', 'union',\n",
    "                'height', 'birth_month_2.0', 'birth_month_3.0', 'birth_month_4.0', 'birth_month_5.0', 'birth_month_6.0', 'birth_month_7.0', 'birth_month_8.0', 'birth_month_9.0', 'birth_month_10.0', 'birth_month_11.0', 'birth_month_12.0', 'clothing_color_blue', 'clothing_color_gray', 'clothing_color_other', 'clothing_color_white'],\n",
    "    \"KitchenSink\": list(set(X_train.columns))}"
   ],
   "id": "5774e43ff8e0117a",
   "outputs": [
    {
     "name": "stdout",
     "output_type": "stream",
     "text": [
      "Show list of all variables\n",
      "['educ', 'exper', 'exper_sq', 'ability', 'female', 'union', 'height', 'commute_km', 'clothing_color_blue', 'clothing_color_gray', 'clothing_color_other', 'clothing_color_white', 'birth_month_2.0', 'birth_month_3.0', 'birth_month_4.0', 'birth_month_5.0', 'birth_month_6.0', 'birth_month_7.0', 'birth_month_8.0', 'birth_month_9.0', 'birth_month_10.0', 'birth_month_11.0', 'birth_month_12.0', 'favorite_number_2.0', 'favorite_number_3.0', 'favorite_number_4.0', 'favorite_number_5.0', 'favorite_number_6.0', 'favorite_number_7.0', 'favorite_number_8.0', 'favorite_number_9.0']\n"
     ]
    }
   ],
   "execution_count": 5
  },
  {
   "cell_type": "markdown",
   "metadata": {},
   "source": "## 5. Model Evaluation",
   "id": "98189cfa500fbae3"
  },
  {
   "cell_type": "code",
   "metadata": {
    "ExecuteTime": {
     "end_time": "2025-08-13T07:48:37.272124Z",
     "start_time": "2025-08-13T07:48:37.267843Z"
    }
   },
   "source": [
    "def evaluate_model(variables, X_train, y_train, X_val, y_val, X_test, y_test):\n",
    "    # try:\n",
    "    X_train_sm = sm.add_constant(X_train[variables])*1\n",
    "    # print(X_train_sm.head())\n",
    "    print(X_train_sm.head())\n",
    "    print(y_train.head())\n",
    "    model = sm.OLS(y_train, X_train_sm).fit()\n",
    "\n",
    "    def calc_mse(X, y):\n",
    "        X_sm = sm.add_constant(X[variables])\n",
    "        return ((y - model.predict(X_sm))**2).mean()\n",
    "\n",
    "    train_mse = calc_mse(X_train, y_train)\n",
    "    val_mse = calc_mse(X_val, y_val)\n",
    "\n",
    "    return {\n",
    "        'model': model,\n",
    "        'train_mse': train_mse,\n",
    "        'val_mse': val_mse,\n",
    "        'test_mse': calc_mse(X_test, y_test),\n",
    "        'overfit_gap': val_mse - train_mse,\n",
    "        'adj_r2': model.rsquared_adj,\n",
    "        'n_vars': len(variables)\n",
    "    }\n",
    "    # except Exception as e:\n",
    "    #     print(f\"Error in {variables}: {str(e)}\")\n",
    "    #     return None"
   ],
   "id": "4bd5c5bb0aae4bed",
   "outputs": [],
   "execution_count": 6
  },
  {
   "cell_type": "markdown",
   "metadata": {},
   "source": "## 6. Train and Evaluate Models",
   "id": "37897ca0409eb150"
  },
  {
   "cell_type": "code",
   "metadata": {
    "ExecuteTime": {
     "end_time": "2025-08-13T07:48:37.493616Z",
     "start_time": "2025-08-13T07:48:37.324209Z"
    }
   },
   "source": [
    "model_performance = {}\n",
    "for name, vars in model_specs.items():\n",
    "    result = evaluate_model(vars, X_train, y_train, X_val, y_val, X_test, y_test)\n",
    "    model_performance[name] = result\n",
    "    print(f\"{name:12} | Vars: {len(vars):2} | Val MSE: {result['val_mse']:.4f} | Gap: {result['overfit_gap']:.4f}\")"
   ],
   "id": "af034a443185f2b9",
   "outputs": [
    {
     "name": "stdout",
     "output_type": "stream",
     "text": [
      "   const       educ      exper\n",
      "0    1.0  12.911235  18.637716\n",
      "1    1.0  15.515016  11.973357\n",
      "2    1.0  12.846216   4.361311\n",
      "3    1.0  10.676960   1.157803\n",
      "4    1.0  14.962018   7.868212\n",
      "0    4.259436\n",
      "1    4.188040\n",
      "2    4.456693\n",
      "3    3.226458\n",
      "4    4.671561\n",
      "Name: log_wage, dtype: float64\n",
      "Basic        | Vars:  2 | Val MSE: 0.3427 | Gap: 0.0248\n",
      "   const       educ      exper   ability\n",
      "0    1.0  12.911235  18.637716 -3.019512\n",
      "1    1.0  15.515016  11.973357  0.037938\n",
      "2    1.0  12.846216   4.361311  0.054934\n",
      "3    1.0  10.676960   1.157803 -0.926381\n",
      "4    1.0  14.962018   7.868212  0.457280\n",
      "0    4.259436\n",
      "1    4.188040\n",
      "2    4.456693\n",
      "3    3.226458\n",
      "4    4.671561\n",
      "Name: log_wage, dtype: float64\n",
      "Core         | Vars:  3 | Val MSE: 0.2843 | Gap: 0.0194\n",
      "   const       educ      exper    exper_sq   ability  female  union\n",
      "0    1.0  12.911235  18.637716  347.364470 -3.019512     0.0    0.0\n",
      "1    1.0  15.515016  11.973357  143.361280  0.037938     1.0    0.0\n",
      "2    1.0  12.846216   4.361311   19.021032  0.054934     0.0    1.0\n",
      "3    1.0  10.676960   1.157803    1.340508 -0.926381     1.0    0.0\n",
      "4    1.0  14.962018   7.868212   61.908764  0.457280     0.0    0.0\n",
      "0    4.259436\n",
      "1    4.188040\n",
      "2    4.456693\n",
      "3    3.226458\n",
      "4    4.671561\n",
      "Name: log_wage, dtype: float64\n",
      "TrueDGP      | Vars:  6 | Val MSE: 0.2414 | Gap: 0.0125\n",
      "   const       educ      exper   ability  female  union     height  \\\n",
      "0    1.0  12.911235  18.637716 -3.019512     0.0    0.0  167.22456   \n",
      "1    1.0  15.515016  11.973357  0.037938     1.0    0.0  173.83168   \n",
      "2    1.0  12.846216   4.361311  0.054934     0.0    1.0  195.39381   \n",
      "3    1.0  10.676960   1.157803 -0.926381     1.0    0.0  170.78117   \n",
      "4    1.0  14.962018   7.868212  0.457280     0.0    0.0  163.64590   \n",
      "\n",
      "   commute_km  birth_month_2.0  birth_month_3.0  birth_month_4.0  \\\n",
      "0        11.7                1                0                0   \n",
      "1        12.1                0                0                0   \n",
      "2         9.8                0                0                0   \n",
      "3         3.3                0                0                0   \n",
      "4        13.8                0                0                0   \n",
      "\n",
      "   birth_month_5.0  birth_month_6.0  birth_month_7.0  birth_month_8.0  \\\n",
      "0                0                0                0                0   \n",
      "1                0                0                1                0   \n",
      "2                0                0                0                0   \n",
      "3                0                0                0                0   \n",
      "4                0                0                0                0   \n",
      "\n",
      "   birth_month_9.0  birth_month_10.0  birth_month_11.0  birth_month_12.0  \n",
      "0                0                 0                 0                 0  \n",
      "1                0                 0                 0                 0  \n",
      "2                0                 0                 1                 0  \n",
      "3                0                 0                 0                 1  \n",
      "4                0                 0                 0                 1  \n",
      "0    4.259436\n",
      "1    4.188040\n",
      "2    4.456693\n",
      "3    3.226458\n",
      "4    4.671561\n",
      "Name: log_wage, dtype: float64\n",
      "Overfit1     | Vars: 18 | Val MSE: 0.2509 | Gap: 0.0244\n",
      "   const       educ      exper   ability  female  union     height  \\\n",
      "0    1.0  12.911235  18.637716 -3.019512     0.0    0.0  167.22456   \n",
      "1    1.0  15.515016  11.973357  0.037938     1.0    0.0  173.83168   \n",
      "2    1.0  12.846216   4.361311  0.054934     0.0    1.0  195.39381   \n",
      "3    1.0  10.676960   1.157803 -0.926381     1.0    0.0  170.78117   \n",
      "4    1.0  14.962018   7.868212  0.457280     0.0    0.0  163.64590   \n",
      "\n",
      "   birth_month_2.0  birth_month_3.0  birth_month_4.0  birth_month_5.0  \\\n",
      "0                1                0                0                0   \n",
      "1                0                0                0                0   \n",
      "2                0                0                0                0   \n",
      "3                0                0                0                0   \n",
      "4                0                0                0                0   \n",
      "\n",
      "   birth_month_6.0  birth_month_7.0  birth_month_8.0  birth_month_9.0  \\\n",
      "0                0                0                0                0   \n",
      "1                0                1                0                0   \n",
      "2                0                0                0                0   \n",
      "3                0                0                0                0   \n",
      "4                0                0                0                0   \n",
      "\n",
      "   birth_month_10.0  birth_month_11.0  birth_month_12.0  \n",
      "0                 0                 0                 0  \n",
      "1                 0                 0                 0  \n",
      "2                 0                 1                 0  \n",
      "3                 0                 0                 1  \n",
      "4                 0                 0                 1  \n",
      "0    4.259436\n",
      "1    4.188040\n",
      "2    4.456693\n",
      "3    3.226458\n",
      "4    4.671561\n",
      "Name: log_wage, dtype: float64\n",
      "Overfit2     | Vars: 17 | Val MSE: 0.2505 | Gap: 0.0240\n",
      "   const       educ      exper   ability  female  union     height  \\\n",
      "0    1.0  12.911235  18.637716 -3.019512     0.0    0.0  167.22456   \n",
      "1    1.0  15.515016  11.973357  0.037938     1.0    0.0  173.83168   \n",
      "2    1.0  12.846216   4.361311  0.054934     0.0    1.0  195.39381   \n",
      "3    1.0  10.676960   1.157803 -0.926381     1.0    0.0  170.78117   \n",
      "4    1.0  14.962018   7.868212  0.457280     0.0    0.0  163.64590   \n",
      "\n",
      "   birth_month_2.0  birth_month_3.0  birth_month_4.0  ...  birth_month_7.0  \\\n",
      "0                1                0                0  ...                0   \n",
      "1                0                0                0  ...                1   \n",
      "2                0                0                0  ...                0   \n",
      "3                0                0                0  ...                0   \n",
      "4                0                0                0  ...                0   \n",
      "\n",
      "   birth_month_8.0  birth_month_9.0  birth_month_10.0  birth_month_11.0  \\\n",
      "0                0                0                 0                 0   \n",
      "1                0                0                 0                 0   \n",
      "2                0                0                 0                 1   \n",
      "3                0                0                 0                 0   \n",
      "4                0                0                 0                 0   \n",
      "\n",
      "   birth_month_12.0  clothing_color_blue  clothing_color_gray  \\\n",
      "0                 0                    0                    1   \n",
      "1                 0                    0                    0   \n",
      "2                 0                    1                    0   \n",
      "3                 1                    0                    0   \n",
      "4                 1                    0                    1   \n",
      "\n",
      "   clothing_color_other  clothing_color_white  \n",
      "0                     0                     0  \n",
      "1                     0                     0  \n",
      "2                     0                     0  \n",
      "3                     0                     0  \n",
      "4                     0                     0  \n",
      "\n",
      "[5 rows x 22 columns]\n",
      "0    4.259436\n",
      "1    4.188040\n",
      "2    4.456693\n",
      "3    3.226458\n",
      "4    4.671561\n",
      "Name: log_wage, dtype: float64\n",
      "Overfit3     | Vars: 21 | Val MSE: 0.2505 | Gap: 0.0261\n",
      "   const  birth_month_7.0  birth_month_2.0  favorite_number_3.0  \\\n",
      "0    1.0                0                1                    0   \n",
      "1    1.0                1                0                    0   \n",
      "2    1.0                0                0                    0   \n",
      "3    1.0                0                0                    0   \n",
      "4    1.0                0                0                    0   \n",
      "\n",
      "   clothing_color_blue  female  birth_month_4.0  favorite_number_5.0  \\\n",
      "0                    0     0.0                0                    0   \n",
      "1                    0     1.0                0                    0   \n",
      "2                    1     0.0                0                    0   \n",
      "3                    0     1.0                0                    0   \n",
      "4                    0     0.0                0                    0   \n",
      "\n",
      "   commute_km  clothing_color_white  ...  birth_month_6.0  \\\n",
      "0        11.7                     0  ...                0   \n",
      "1        12.1                     0  ...                0   \n",
      "2         9.8                     0  ...                0   \n",
      "3         3.3                     0  ...                0   \n",
      "4        13.8                     0  ...                0   \n",
      "\n",
      "   favorite_number_7.0  birth_month_3.0      exper  birth_month_8.0  \\\n",
      "0                    0                0  18.637716                0   \n",
      "1                    0                0  11.973357                0   \n",
      "2                    0                0   4.361311                0   \n",
      "3                    0                0   1.157803                0   \n",
      "4                    0                0   7.868212                0   \n",
      "\n",
      "   birth_month_11.0       educ     height  favorite_number_6.0  \\\n",
      "0                 0  12.911235  167.22456                    0   \n",
      "1                 0  15.515016  173.83168                    0   \n",
      "2                 1  12.846216  195.39381                    0   \n",
      "3                 0  10.676960  170.78117                    1   \n",
      "4                 0  14.962018  163.64590                    0   \n",
      "\n",
      "   birth_month_5.0  \n",
      "0                0  \n",
      "1                0  \n",
      "2                0  \n",
      "3                0  \n",
      "4                0  \n",
      "\n",
      "[5 rows x 32 columns]\n",
      "0    4.259436\n",
      "1    4.188040\n",
      "2    4.456693\n",
      "3    3.226458\n",
      "4    4.671561\n",
      "Name: log_wage, dtype: float64\n",
      "KitchenSink  | Vars: 31 | Val MSE: 0.2553 | Gap: 0.0345\n"
     ]
    }
   ],
   "execution_count": 7
  },
  {
   "cell_type": "markdown",
   "metadata": {},
   "source": [
    "## 7. Results Analysis\n",
    "\n",
    "### Overfit Gap\n",
    "\n",
    "#### What it means:\n",
    "The difference between a model's performance on training data vs. validation/test data (Validation MSE - Training MSE). It measures how much worse the model performs on unseen data.\n",
    "\n",
    "#### How to interpret it:\n",
    "\n",
    "Gap Size\tInterpretation\n",
    "< 0.001\tMinimal overfitting\n",
    "0.001-0.003\tModerate overfitting\n",
    "> 0.003\tSevere overfitting\n",
    "In our visualization:\n",
    "\n",
    "Shown as red bars growing taller for more complex models\n",
    "The \"KitchenSink\" model has the largest gap\n",
    "The \"TrueDGP\" model has the smallest gap"
   ],
   "id": "ddf2bc99ac8b7830"
  },
  {
   "cell_type": "code",
   "metadata": {
    "ExecuteTime": {
     "end_time": "2025-08-13T07:48:37.637149Z",
     "start_time": "2025-08-13T07:48:37.545507Z"
    }
   },
   "source": [
    "results_df = pd.DataFrame([\n",
    "    {\n",
    "        'Model': name,\n",
    "        'Num Vars': perf['n_vars'],\n",
    "        'Train MSE': perf['train_mse'],\n",
    "        'Val MSE': perf['val_mse'],\n",
    "        'Test MSE': perf['test_mse'],\n",
    "        'Overfit Gap': perf['overfit_gap'],\n",
    "        'Adj R2': perf['adj_r2']\n",
    "    }\n",
    "    for name, perf in model_performance.items()\n",
    "]).sort_values('Val MSE')\n",
    "\n",
    "def highlight_overfit(val):\n",
    "    color = 'red' if val > 0.003 else ('orange' if val > 0.001 else 'green')\n",
    "    return f'background-color: {color}'\n",
    "\n",
    "display(results_df.style.format({\n",
    "    'Train MSE': '{:.4f}',\n",
    "    'Val MSE': '{:.4f}',\n",
    "    'Test MSE': '{:.4f}',\n",
    "    'Overfit Gap': '{:.4f}',\n",
    "    'Adj R2': '{:.4f}'\n",
    "}).map(highlight_overfit, subset=['Overfit Gap']))"
   ],
   "id": "8d580148c56d748c",
   "outputs": [
    {
     "data": {
      "text/plain": [
       "<pandas.io.formats.style.Styler at 0x15dd1be90>"
      ],
      "text/html": [
       "<style type=\"text/css\">\n",
       "#T_aec00_row0_col5, #T_aec00_row1_col5, #T_aec00_row2_col5, #T_aec00_row3_col5, #T_aec00_row4_col5, #T_aec00_row5_col5, #T_aec00_row6_col5 {\n",
       "  background-color: red;\n",
       "}\n",
       "</style>\n",
       "<table id=\"T_aec00\">\n",
       "  <thead>\n",
       "    <tr>\n",
       "      <th class=\"blank level0\" >&nbsp;</th>\n",
       "      <th id=\"T_aec00_level0_col0\" class=\"col_heading level0 col0\" >Model</th>\n",
       "      <th id=\"T_aec00_level0_col1\" class=\"col_heading level0 col1\" >Num Vars</th>\n",
       "      <th id=\"T_aec00_level0_col2\" class=\"col_heading level0 col2\" >Train MSE</th>\n",
       "      <th id=\"T_aec00_level0_col3\" class=\"col_heading level0 col3\" >Val MSE</th>\n",
       "      <th id=\"T_aec00_level0_col4\" class=\"col_heading level0 col4\" >Test MSE</th>\n",
       "      <th id=\"T_aec00_level0_col5\" class=\"col_heading level0 col5\" >Overfit Gap</th>\n",
       "      <th id=\"T_aec00_level0_col6\" class=\"col_heading level0 col6\" >Adj R2</th>\n",
       "    </tr>\n",
       "  </thead>\n",
       "  <tbody>\n",
       "    <tr>\n",
       "      <th id=\"T_aec00_level0_row0\" class=\"row_heading level0 row0\" >2</th>\n",
       "      <td id=\"T_aec00_row0_col0\" class=\"data row0 col0\" >TrueDGP</td>\n",
       "      <td id=\"T_aec00_row0_col1\" class=\"data row0 col1\" >6</td>\n",
       "      <td id=\"T_aec00_row0_col2\" class=\"data row0 col2\" >0.2290</td>\n",
       "      <td id=\"T_aec00_row0_col3\" class=\"data row0 col3\" >0.2414</td>\n",
       "      <td id=\"T_aec00_row0_col4\" class=\"data row0 col4\" >0.2319</td>\n",
       "      <td id=\"T_aec00_row0_col5\" class=\"data row0 col5\" >0.0125</td>\n",
       "      <td id=\"T_aec00_row0_col6\" class=\"data row0 col6\" >0.5069</td>\n",
       "    </tr>\n",
       "    <tr>\n",
       "      <th id=\"T_aec00_level0_row1\" class=\"row_heading level0 row1\" >5</th>\n",
       "      <td id=\"T_aec00_row1_col0\" class=\"data row1 col0\" >Overfit3</td>\n",
       "      <td id=\"T_aec00_row1_col1\" class=\"data row1 col1\" >21</td>\n",
       "      <td id=\"T_aec00_row1_col2\" class=\"data row1 col2\" >0.2244</td>\n",
       "      <td id=\"T_aec00_row1_col3\" class=\"data row1 col3\" >0.2505</td>\n",
       "      <td id=\"T_aec00_row1_col4\" class=\"data row1 col4\" >0.2474</td>\n",
       "      <td id=\"T_aec00_row1_col5\" class=\"data row1 col5\" >0.0261</td>\n",
       "      <td id=\"T_aec00_row1_col6\" class=\"data row1 col6\" >0.5043</td>\n",
       "    </tr>\n",
       "    <tr>\n",
       "      <th id=\"T_aec00_level0_row2\" class=\"row_heading level0 row2\" >4</th>\n",
       "      <td id=\"T_aec00_row2_col0\" class=\"data row2 col0\" >Overfit2</td>\n",
       "      <td id=\"T_aec00_row2_col1\" class=\"data row2 col1\" >17</td>\n",
       "      <td id=\"T_aec00_row2_col2\" class=\"data row2 col2\" >0.2265</td>\n",
       "      <td id=\"T_aec00_row2_col3\" class=\"data row2 col3\" >0.2505</td>\n",
       "      <td id=\"T_aec00_row2_col4\" class=\"data row2 col4\" >0.2396</td>\n",
       "      <td id=\"T_aec00_row2_col5\" class=\"data row2 col5\" >0.0240</td>\n",
       "      <td id=\"T_aec00_row2_col6\" class=\"data row2 col6\" >0.5030</td>\n",
       "    </tr>\n",
       "    <tr>\n",
       "      <th id=\"T_aec00_level0_row3\" class=\"row_heading level0 row3\" >3</th>\n",
       "      <td id=\"T_aec00_row3_col0\" class=\"data row3 col0\" >Overfit1</td>\n",
       "      <td id=\"T_aec00_row3_col1\" class=\"data row3 col1\" >18</td>\n",
       "      <td id=\"T_aec00_row3_col2\" class=\"data row3 col2\" >0.2265</td>\n",
       "      <td id=\"T_aec00_row3_col3\" class=\"data row3 col3\" >0.2509</td>\n",
       "      <td id=\"T_aec00_row3_col4\" class=\"data row3 col4\" >0.2397</td>\n",
       "      <td id=\"T_aec00_row3_col5\" class=\"data row3 col5\" >0.0244</td>\n",
       "      <td id=\"T_aec00_row3_col6\" class=\"data row3 col6\" >0.5023</td>\n",
       "    </tr>\n",
       "    <tr>\n",
       "      <th id=\"T_aec00_level0_row4\" class=\"row_heading level0 row4\" >6</th>\n",
       "      <td id=\"T_aec00_row4_col0\" class=\"data row4 col0\" >KitchenSink</td>\n",
       "      <td id=\"T_aec00_row4_col1\" class=\"data row4 col1\" >31</td>\n",
       "      <td id=\"T_aec00_row4_col2\" class=\"data row4 col2\" >0.2208</td>\n",
       "      <td id=\"T_aec00_row4_col3\" class=\"data row4 col3\" >0.2553</td>\n",
       "      <td id=\"T_aec00_row4_col4\" class=\"data row4 col4\" >0.2468</td>\n",
       "      <td id=\"T_aec00_row4_col5\" class=\"data row4 col5\" >0.0345</td>\n",
       "      <td id=\"T_aec00_row4_col6\" class=\"data row4 col6\" >0.5036</td>\n",
       "    </tr>\n",
       "    <tr>\n",
       "      <th id=\"T_aec00_level0_row5\" class=\"row_heading level0 row5\" >1</th>\n",
       "      <td id=\"T_aec00_row5_col0\" class=\"data row5 col0\" >Core</td>\n",
       "      <td id=\"T_aec00_row5_col1\" class=\"data row5 col1\" >3</td>\n",
       "      <td id=\"T_aec00_row5_col2\" class=\"data row5 col2\" >0.2649</td>\n",
       "      <td id=\"T_aec00_row5_col3\" class=\"data row5 col3\" >0.2843</td>\n",
       "      <td id=\"T_aec00_row5_col4\" class=\"data row5 col4\" >0.2766</td>\n",
       "      <td id=\"T_aec00_row5_col5\" class=\"data row5 col5\" >0.0194</td>\n",
       "      <td id=\"T_aec00_row5_col6\" class=\"data row5 col6\" >0.4324</td>\n",
       "    </tr>\n",
       "    <tr>\n",
       "      <th id=\"T_aec00_level0_row6\" class=\"row_heading level0 row6\" >0</th>\n",
       "      <td id=\"T_aec00_row6_col0\" class=\"data row6 col0\" >Basic</td>\n",
       "      <td id=\"T_aec00_row6_col1\" class=\"data row6 col1\" >2</td>\n",
       "      <td id=\"T_aec00_row6_col2\" class=\"data row6 col2\" >0.3179</td>\n",
       "      <td id=\"T_aec00_row6_col3\" class=\"data row6 col3\" >0.3427</td>\n",
       "      <td id=\"T_aec00_row6_col4\" class=\"data row6 col4\" >0.3556</td>\n",
       "      <td id=\"T_aec00_row6_col5\" class=\"data row6 col5\" >0.0248</td>\n",
       "      <td id=\"T_aec00_row6_col6\" class=\"data row6 col6\" >0.3200</td>\n",
       "    </tr>\n",
       "  </tbody>\n",
       "</table>\n"
      ]
     },
     "metadata": {},
     "output_type": "display_data"
    }
   ],
   "execution_count": 8
  },
  {
   "cell_type": "markdown",
   "metadata": {},
   "source": [
    "## 7. Visualization"
   ],
   "id": "bbe2a23dc3a9ebd1"
  },
  {
   "cell_type": "code",
   "metadata": {
    "ExecuteTime": {
     "end_time": "2025-08-13T07:48:38.052478Z",
     "start_time": "2025-08-13T07:48:37.710796Z"
    }
   },
   "source": [
    "plt.figure(figsize=(14, 8))\n",
    "\n",
    "# Set global font sizes (affects all text elements)\n",
    "plt.rcParams.update({\n",
    "    'font.size': 16,          # Base font size (originally 8-10)\n",
    "    'axes.titlesize': 20,     # Title font size (originally 10)\n",
    "    'axes.labelsize': 18,     # Axis label font size (originally 9)\n",
    "    'xtick.labelsize': 16,    # X-axis tick label size (originally 8)\n",
    "    'ytick.labelsize': 16,    # Y-axis tick label size (originally 8)\n",
    "    'legend.fontsize': 16     # Legend font size (originally 10)\n",
    "})\n",
    "\n",
    "models = results_df['Model']\n",
    "x = np.arange(len(models))\n",
    "width = 0.2\n",
    "\n",
    "# Create bars (colors remain the same)\n",
    "train_bars = plt.bar(x - width, results_df['Train MSE'], width,\n",
    "                    color='royalblue', label='Train MSE')\n",
    "\n",
    "val_bars = plt.bar(x, results_df['Val MSE'], width,\n",
    "                  color='orange', label='Val MSE')\n",
    "\n",
    "gap_bars = plt.bar(x + width, results_df['Overfit Gap'], width,\n",
    "                  color='red', label='Overfit Gap')\n",
    "\n",
    "# Set labels and title (font sizes set globally via rcParams)\n",
    "plt.xlabel('Models', labelpad=10)  # Increased label padding\n",
    "plt.ylabel('Mean Squared Error', labelpad=10)\n",
    "plt.title('Model Performance: Clear Overfitting Pattern Emerges', pad=20)\n",
    "\n",
    "# Configure x-axis ticks\n",
    "plt.xticks(x, models, rotation=45, ha='right')  # Right-aligned rotated labels\n",
    "plt.legend()\n",
    "plt.grid(True, alpha=0.3)\n",
    "\n",
    "# Add value labels (with larger font)\n",
    "for i in x:\n",
    "    plt.text(i - width, results_df.iloc[i]['Train MSE'] + 0.001,\n",
    "             f\"{results_df.iloc[i]['Train MSE']:.4f}\",\n",
    "             ha='center', va='bottom', fontsize=14)  # Slightly smaller than titles\n",
    "\n",
    "    plt.text(i, results_df.iloc[i]['Val MSE'] + 0.001,\n",
    "             f\"{results_df.iloc[i]['Val MSE']:.4f}\",\n",
    "             ha='center', va='bottom', fontsize=14)\n",
    "\n",
    "    plt.text(i + width, results_df.iloc[i]['Overfit Gap'] + 0.001,\n",
    "             f\"+{results_df.iloc[i]['Overfit Gap']:.4f}\",\n",
    "             ha='center', va='bottom', fontsize=14)\n",
    "\n",
    "plt.tight_layout()  # Adjust layout to prevent clipping\n",
    "plt.show()"
   ],
   "id": "93031f7f1f583b29",
   "outputs": [
    {
     "data": {
      "text/plain": [
       "<Figure size 1400x800 with 1 Axes>"
      ],
      "image/png": "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"
     },
     "metadata": {},
     "output_type": "display_data"
    }
   ],
   "execution_count": 9
  },
  {
   "cell_type": "code",
   "metadata": {
    "ExecuteTime": {
     "end_time": "2025-08-13T07:48:38.106758Z",
     "start_time": "2025-08-13T07:48:38.101824Z"
    }
   },
   "source": [
    "best_model_name = results_df.iloc[0]['Model']\n",
    "best_model = model_performance[best_model_name]\n",
    "\n",
    "print(f\"\\n=== Best Performing Model ===\\n{best_model_name}\")\n",
    "print(f\"Variables: {model_specs[best_model_name]}\")\n",
    "print(f\"Validation MSE: {best_model['val_mse']:.4f}\")\n",
    "print(f\"Overfit Gap: {best_model['overfit_gap']:.4f}\")\n",
    "\n",
    "print(\"\\n=== Worst Performing Model ===\")\n",
    "worst_model_name = results_df.iloc[-1]['Model']\n",
    "worst_model = model_performance[worst_model_name]\n",
    "print(f\"{worst_model_name} (Val MSE: {worst_model['val_mse']:.4f})\")\n",
    "print(f\"Included {worst_model['n_vars']} variables vs {best_model['n_vars']} in best model\")"
   ],
   "id": "b24c486b6d03975d",
   "outputs": [
    {
     "name": "stdout",
     "output_type": "stream",
     "text": [
      "\n",
      "=== Best Performing Model ===\n",
      "TrueDGP\n",
      "Variables: ['educ', 'exper', 'exper_sq', 'ability', 'female', 'union']\n",
      "Validation MSE: 0.2414\n",
      "Overfit Gap: 0.0125\n",
      "\n",
      "=== Worst Performing Model ===\n",
      "Basic (Val MSE: 0.3427)\n",
      "Included 2 variables vs 6 in best model\n"
     ]
    }
   ],
   "execution_count": 10
  }
 ],
 "metadata": {
  "kernelspec": {
   "display_name": "Python 3",
   "language": "python",
   "name": "python3"
  },
  "language_info": {
   "codemirror_mode": {
    "name": "ipython",
    "version": 3
   },
   "file_extension": ".py",
   "mimetype": "text/x-python",
   "name": "python",
   "nbconvert_exporter": "python",
   "pygments_lexer": "ipython3",
   "version": "3.8.5"
  }
 }
}
