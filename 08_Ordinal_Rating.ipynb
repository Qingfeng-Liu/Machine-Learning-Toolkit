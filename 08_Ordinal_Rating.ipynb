{
 "cells": [
  {
   "cell_type": "markdown",
   "metadata": {},
   "source": [
    "# Ordinal Rating Prediction (1-5 Stars)\n",
    "Direct implementation without function definitions"
   ]
  },
  {
   "cell_type": "markdown",
   "metadata": {},
   "source": [
    "## 1. Setup and Data Generation"
   ]
  },
  {
   "cell_type": "code",
   "metadata": {
    "ExecuteTime": {
     "end_time": "2025-08-03T08:33:48.738718Z",
     "start_time": "2025-08-03T08:33:39.386216Z"
    }
   },
   "source": [
    "import torch\n",
    "import torch.nn as nn\n",
    "import pandas as pd\n",
    "import numpy as np\n",
    "import matplotlib.pyplot as plt\n",
    "from sklearn.preprocessing import StandardScaler\n",
    "from coral_pytorch.losses import coral_loss\n",
    "from coral_pytorch.dataset import levels_from_labelbatch\n",
    "from coral_pytorch.layers import CoralLayer\n",
    "\n",
    "# Generate synthetic data\n",
    "np.random.seed(42)\n",
    "num_samples = 1000\n",
    "features = np.random.rand(num_samples, 5)\n",
    "weights = np.array([0.8, -0.5, 0.3, -0.2, 0.1])\n",
    "ratings = np.clip(np.round(np.dot(features, weights) + 3 + np.random.normal(0, 0.5, num_samples)), 1, 5).astype(int)\n",
    "\n",
    "# Show distribution\n",
    "pd.Series(ratings).value_counts().sort_index().plot(kind='bar')\n",
    "plt.title('Rating Distribution')\n",
    "plt.show()"
   ],
   "outputs": [
    {
     "data": {
      "text/plain": [
       "<Figure size 640x480 with 1 Axes>"
      ],
      "image/png": "[encoded data removed]"
     },
     "metadata": {},
     "output_type": "display_data"
    }
   ],
   "execution_count": 1
  },
  {
   "cell_type": "markdown",
   "metadata": {},
   "source": [
    "## 2. Data Preprocessing"
   ]
  },
  {
   "cell_type": "code",
   "metadata": {
    "ExecuteTime": {
     "end_time": "2025-08-03T08:33:49.074683Z",
     "start_time": "2025-08-03T08:33:49.032357Z"
    }
   },
   "source": [
    "# Normalize features\n",
    "scaler = StandardScaler()\n",
    "normalized_features = scaler.fit_transform(features)\n",
    "# Convert to tensors\n",
    "X = torch.FloatTensor(normalized_features)\n",
    "y = torch.LongTensor(ratings) - 1 #######This line # 0-based labels\n",
    "\n",
    "print(f\"Feature tensor shape: {X.shape}\")\n",
    "print(f\"Rating tensor shape: {y.shape}\")\n",
    "print(y)"
   ],
   "outputs": [
    {
     "name": "stdout",
     "output_type": "stream",
     "text": [
      "Feature tensor shape: torch.Size([1000, 5])\n",
      "Rating tensor shape: torch.Size([1000])\n",
      "tensor([2, 1, 2, 3, 3, 3, 2, 2, 2, 2, 4, 3, 2, 2, 2, 2, 3, 2, 2, 3, 2, 3, 2, 2,\n",
      "        2, 1, 3, 3, 3, 1, 3, 2, 2, 3, 3, 2, 3, 2, 2, 3, 4, 2, 2, 1, 2, 1, 3, 2,\n",
      "        2, 2, 1, 2, 1, 2, 1, 2, 4, 2, 2, 2, 2, 3, 2, 3, 1, 2, 2, 2, 2, 1, 2, 3,\n",
      "        2, 2, 2, 2, 2, 2, 4, 2, 1, 3, 2, 2, 2, 2, 3, 3, 2, 2, 2, 1, 2, 3, 2, 3,\n",
      "        2, 2, 2, 2, 1, 2, 3, 2, 3, 4, 2, 3, 2, 2, 2, 2, 2, 2, 3, 3, 3, 2, 2, 2,\n",
      "        2, 3, 1, 2, 2, 2, 2, 3, 2, 2, 1, 2, 2, 2, 1, 2, 2, 2, 2, 2, 3, 2, 3, 3,\n",
      "        3, 3, 2, 3, 2, 3, 2, 2, 3, 2, 2, 2, 2, 3, 1, 2, 3, 3, 2, 2, 3, 3, 2, 2,\n",
      "        2, 2, 2, 1, 3, 2, 2, 1, 2, 1, 2, 2, 3, 2, 3, 2, 2, 3, 2, 3, 2, 2, 3, 3,\n",
      "        2, 2, 2, 2, 2, 2, 3, 2, 2, 3, 1, 1, 3, 2, 2, 3, 2, 3, 3, 2, 3, 2, 2, 2,\n",
      "        2, 2, 3, 2, 2, 1, 2, 3, 2, 2, 3, 1, 2, 2, 2, 2, 2, 3, 2, 2, 4, 2, 2, 2,\n",
      "        2, 2, 2, 2, 4, 2, 3, 2, 3, 2, 3, 1, 1, 2, 3, 1, 1, 3, 2, 2, 1, 2, 2, 2,\n",
      "        3, 1, 2, 2, 2, 2, 3, 1, 3, 2, 4, 2, 2, 1, 1, 3, 2, 3, 2, 3, 3, 3, 2, 2,\n",
      "        2, 3, 2, 3, 1, 1, 3, 2, 4, 2, 1, 3, 2, 2, 3, 1, 2, 3, 2, 2, 3, 2, 3, 1,\n",
      "        3, 2, 2, 3, 2, 1, 3, 2, 2, 2, 2, 2, 2, 2, 2, 2, 2, 2, 1, 2, 1, 3, 2, 2,\n",
      "        2, 3, 3, 1, 3, 2, 2, 3, 2, 2, 3, 3, 3, 2, 2, 2, 2, 1, 2, 2, 1, 2, 2, 1,\n",
      "        2, 3, 2, 2, 2, 3, 2, 2, 2, 1, 2, 2, 2, 3, 2, 3, 2, 2, 2, 2, 3, 1, 2, 3,\n",
      "        2, 2, 3, 2, 2, 2, 2, 3, 2, 2, 1, 3, 1, 2, 3, 2, 3, 3, 2, 3, 3, 1, 1, 2,\n",
      "        2, 3, 2, 2, 2, 3, 2, 2, 2, 3, 2, 2, 3, 3, 2, 3, 2, 2, 2, 3, 2, 2, 2, 2,\n",
      "        3, 3, 1, 4, 2, 2, 2, 2, 3, 3, 2, 2, 2, 2, 3, 2, 3, 3, 2, 2, 3, 2, 2, 2,\n",
      "        3, 2, 3, 2, 2, 3, 2, 2, 3, 2, 3, 3, 2, 2, 2, 0, 2, 2, 2, 1, 2, 1, 3, 2,\n",
      "        3, 3, 2, 2, 2, 3, 2, 2, 1, 1, 2, 2, 2, 2, 2, 3, 2, 3, 2, 2, 3, 2, 1, 2,\n",
      "        2, 3, 3, 3, 2, 2, 3, 3, 3, 2, 1, 2, 1, 3, 3, 4, 3, 3, 2, 1, 3, 3, 2, 2,\n",
      "        2, 3, 3, 2, 2, 3, 2, 2, 1, 3, 2, 2, 2, 3, 2, 1, 3, 2, 3, 2, 2, 2, 2, 2,\n",
      "        3, 3, 2, 3, 1, 1, 2, 2, 2, 3, 2, 3, 3, 2, 2, 2, 1, 2, 2, 2, 3, 2, 2, 2,\n",
      "        2, 2, 2, 3, 2, 3, 3, 3, 1, 3, 2, 1, 2, 2, 3, 2, 2, 2, 2, 1, 2, 3, 1, 4,\n",
      "        1, 2, 3, 2, 2, 2, 2, 2, 2, 3, 2, 2, 2, 2, 2, 2, 2, 3, 1, 3, 1, 2, 3, 2,\n",
      "        3, 1, 3, 2, 2, 2, 3, 2, 2, 2, 2, 3, 2, 3, 2, 2, 2, 3, 2, 3, 3, 3, 2, 2,\n",
      "        2, 2, 3, 1, 2, 2, 2, 3, 3, 3, 2, 2, 3, 3, 2, 2, 2, 3, 3, 2, 3, 1, 3, 1,\n",
      "        3, 2, 2, 1, 2, 3, 2, 4, 2, 3, 2, 3, 2, 2, 3, 2, 1, 2, 2, 2, 2, 1, 2, 2,\n",
      "        1, 1, 2, 2, 2, 3, 3, 4, 1, 2, 1, 2, 2, 3, 3, 3, 2, 4, 2, 2, 2, 2, 4, 2,\n",
      "        2, 1, 3, 2, 2, 3, 2, 2, 2, 1, 3, 2, 3, 2, 3, 3, 3, 2, 3, 1, 3, 2, 1, 2,\n",
      "        2, 2, 1, 2, 2, 2, 3, 2, 2, 2, 2, 3, 2, 2, 2, 2, 2, 3, 3, 2, 3, 2, 3, 2,\n",
      "        2, 2, 3, 2, 2, 2, 3, 3, 3, 2, 3, 3, 2, 2, 2, 0, 3, 2, 4, 2, 2, 2, 1, 3,\n",
      "        2, 3, 2, 3, 2, 3, 2, 2, 2, 2, 3, 2, 2, 2, 2, 3, 3, 2, 2, 1, 2, 2, 1, 3,\n",
      "        2, 2, 2, 3, 3, 2, 2, 2, 1, 2, 3, 2, 2, 2, 3, 2, 1, 3, 2, 3, 2, 1, 2, 2,\n",
      "        2, 2, 3, 3, 2, 2, 1, 2, 2, 2, 2, 2, 2, 1, 2, 1, 1, 3, 3, 2, 1, 2, 2, 1,\n",
      "        2, 3, 3, 2, 3, 1, 3, 2, 2, 2, 3, 2, 2, 2, 2, 2, 2, 2, 2, 2, 2, 3, 3, 2,\n",
      "        3, 2, 3, 2, 1, 2, 2, 2, 3, 2, 2, 2, 3, 2, 2, 3, 2, 2, 2, 3, 1, 4, 3, 2,\n",
      "        3, 4, 2, 2, 3, 2, 2, 2, 2, 2, 2, 1, 2, 2, 2, 2, 4, 3, 1, 2, 2, 2, 1, 3,\n",
      "        2, 3, 3, 3, 2, 2, 2, 2, 2, 2, 2, 2, 2, 1, 2, 3, 2, 2, 1, 2, 2, 2, 1, 2,\n",
      "        2, 3, 2, 3, 2, 1, 3, 2, 2, 2, 3, 2, 1, 2, 3, 2, 3, 3, 3, 2, 2, 2, 3, 2,\n",
      "        2, 2, 2, 2, 3, 1, 3, 3, 2, 2, 2, 3, 3, 1, 3, 3])\n"
     ]
    }
   ],
   "execution_count": 2
  },
  {
   "cell_type": "markdown",
   "metadata": {},
   "source": [
    "## 3. Model Definition"
   ]
  },
  {
   "cell_type": "code",
   "metadata": {
    "ExecuteTime": {
     "end_time": "2025-08-03T08:33:51.490830Z",
     "start_time": "2025-08-03T08:33:49.180971Z"
    }
   },
   "source": [
    "model = nn.Sequential(\n",
    "    nn.Linear(5, 64),\n",
    "    nn.ReLU(),\n",
    "    nn.Dropout(0.2),\n",
    "    CoralLayer(64, 5)  ##### this line # 5 ordinal classes\n",
    ")\n",
    "optimizer = torch.optim.Adam(model.parameters(), lr=0.001)"
   ],
   "outputs": [],
   "execution_count": 3
  },
  {
   "cell_type": "markdown",
   "metadata": {},
   "source": [
    "## 4. Training"
   ]
  },
  {
   "cell_type": "code",
   "metadata": {
    "ExecuteTime": {
     "end_time": "2025-08-03T08:33:52.029981Z",
     "start_time": "2025-08-03T08:33:51.499103Z"
    }
   },
   "source": [
    "batch_size = 32\n",
    "for epoch in range(1, 11):\n",
    "    model.train()\n",
    "    total_loss = 0\n",
    "    \n",
    "    for i in range(0, len(X), batch_size):\n",
    "        batch_X = X[i:i+batch_size]\n",
    "        batch_y = y[i:i+batch_size]\n",
    "        \n",
    "        optimizer.zero_grad()\n",
    "        levels = levels_from_labelbatch(batch_y, num_classes=5)\n",
    "        loss = coral_loss(model(batch_X), levels) # this line\n",
    "        loss.backward()\n",
    "        optimizer.step()\n",
    "        total_loss += loss.item()\n",
    "    \n",
    "    print(f\"Epoch {epoch:2d} | Loss: {total_loss/(len(X)/batch_size):.4f}\")"
   ],
   "outputs": [
    {
     "name": "stdout",
     "output_type": "stream",
     "text": [
      "Epoch  1 | Loss: 2.3890\n",
      "Epoch  2 | Loss: 2.3038\n",
      "Epoch  3 | Loss: 2.2576\n",
      "Epoch  4 | Loss: 2.2129\n",
      "Epoch  5 | Loss: 2.1763\n",
      "Epoch  6 | Loss: 2.1391\n",
      "Epoch  7 | Loss: 2.0988\n",
      "Epoch  8 | Loss: 2.0655\n",
      "Epoch  9 | Loss: 2.0308\n",
      "Epoch 10 | Loss: 1.9998\n"
     ]
    }
   ],
   "execution_count": 4
  },
  {
   "cell_type": "markdown",
   "metadata": {},
   "source": [
    "## 5. Prediction"
   ]
  },
  {
   "cell_type": "code",
   "metadata": {
    "ExecuteTime": {
     "end_time": "2025-08-03T08:33:52.079066Z",
     "start_time": "2025-08-03T08:33:52.069444Z"
    }
   },
   "source": [
    "# Test samples\n",
    "test_samples = np.array([\n",
    "    [0.9, 0.1, 0.8, 0.2, 0.7],\n",
    "    [0.1, 0.9, 0.3, 0.8, 0.2]\n",
    "])\n",
    "\n",
    "# Preprocess\n",
    "test_features = torch.FloatTensor(scaler.transform(test_samples))\n",
    "\n",
    "# Predict\n",
    "model.eval()\n",
    "with torch.no_grad():\n",
    "    probas = torch.sigmoid(model(test_features))\n",
    "    predictions = (probas > 0.5).sum(dim=1) + 1\n",
    "\n",
    "print(\"\\nPrediction Results:\")\n",
    "for i in range(len(test_samples)):\n",
    "    print(f\"Sample {i+1}: {test_samples[i]} → Predicted: {predictions[i].item()} stars\")"
   ],
   "outputs": [
    {
     "name": "stdout",
     "output_type": "stream",
     "text": [
      "\n",
      "Prediction Results:\n",
      "Sample 1: [0.9 0.1 0.8 0.2 0.7] → Predicted: 5 stars\n",
      "Sample 2: [0.1 0.9 0.3 0.8 0.2] → Predicted: 2 stars\n"
     ]
    }
   ],
   "execution_count": 5
  },
  {
   "cell_type": "markdown",
   "metadata": {},
   "source": [
    "## 6. Save Model"
   ]
  },
  {
   "cell_type": "code",
   "metadata": {
    "ExecuteTime": {
     "end_time": "2025-08-03T08:33:52.172973Z",
     "start_time": "2025-08-03T08:33:52.162184Z"
    }
   },
   "source": [
    "torch.save(model.state_dict(), 'rating_model.pth')\n",
    "import joblib\n",
    "joblib.dump(scaler, 'scaler.pkl')\n",
    "print(\"Model and scaler saved to disk\")"
   ],
   "outputs": [
    {
     "name": "stdout",
     "output_type": "stream",
     "text": [
      "Model and scaler saved to disk\n"
     ]
    }
   ],
   "execution_count": 6
  },
  {
   "cell_type": "markdown",
   "metadata": {},
   "source": [
    "## 7. Load and Use (Example)"
   ]
  },
  {
   "cell_type": "code",
   "metadata": {
    "ExecuteTime": {
     "end_time": "2025-08-03T08:33:52.281720Z",
     "start_time": "2025-08-03T08:33:52.268193Z"
    }
   },
   "source": [
    "# Load model\n",
    "loaded_model = nn.Sequential(\n",
    "    nn.Linear(5, 64),\n",
    "    nn.ReLU(),\n",
    "    nn.Dropout(0.2),\n",
    "    CoralLayer(64, 5)\n",
    ")\n",
    "loaded_model.load_state_dict(torch.load('rating_model.pth'))\n",
    "\n",
    "# Load scaler\n",
    "loaded_scaler = joblib.load('scaler.pkl')\n",
    "\n",
    "# New prediction\n",
    "new_sample = np.array([[0.7, 0.3, 0.6, 0.4, 0.5]])\n",
    "new_features = torch.FloatTensor(loaded_scaler.transform(new_sample))\n",
    "\n",
    "loaded_model.eval()\n",
    "with torch.no_grad():\n",
    "    probas = torch.sigmoid(loaded_model(new_features))\n",
    "    pred = (probas > 0.5).sum().item() + 1\n",
    "\n",
    "print(f\"\\nNew sample prediction: {pred} stars\")"
   ],
   "outputs": [
    {
     "name": "stdout",
     "output_type": "stream",
     "text": [
      "\n",
      "New sample prediction: 5 stars\n"
     ]
    }
   ],
   "execution_count": 7
  }
 ],
 "metadata": {
  "kernelspec": {
   "display_name": "Python 3",
   "language": "python",
   "name": "python3"
  },
  "language_info": {
   "codemirror_mode": {
    "name": "ipython",
    "version": 3
   },
   "file_extension": ".py",
   "mimetype": "text/x-python",
   "name": "python",
   "nbconvert_exporter": "python",
   "pygments_lexer": "ipython3",
   "version": "3.8.5"
  }
 },
 "nbformat": 4,
 "nbformat_minor": 4
}
