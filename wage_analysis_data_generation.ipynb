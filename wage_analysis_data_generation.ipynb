{
 "cells": [
  {
   "cell_type": "markdown",
   "metadata": {},
   "source": [
    "# Wage Data Generation\n",
    "## Instructor: Dr. Smith | Econometrics 301\n",
    "\n",
    "*This notebook generates and saves synthetic wage data with:*\n",
    "- *Strong signals for true predictors*\n",
    "- *Multiple irrelevant variables*\n",
    "- *Clear overfitting potential*"
   ],
   "id": "4b973ff8f4d6c9f3"
  },
  {
   "cell_type": "code",
   "metadata": {
    "ExecuteTime": {
     "end_time": "2025-08-13T04:38:39.024265Z",
     "start_time": "2025-08-13T04:38:39.018493Z"
    }
   },
   "source": [
    "import numpy as np\n",
    "import pandas as pd\n",
    "import os\n",
    "import torch\n",
    "import torch.nn as nn\n",
    "import torch.optim as optim\n",
    "from sklearn.datasets import make_regression\n",
    "from sklearn.model_selection import train_test_split\n",
    "from sklearn.preprocessing import StandardScaler"
   ],
   "id": "717ccb3360c4de0",
   "outputs": [],
   "execution_count": 12
  },
  {
   "cell_type": "markdown",
   "metadata": {},
   "source": [
    "## 1. Data Generation"
   ],
   "id": "f374fecfaede8629"
  },
  {
   "cell_type": "code",
   "metadata": {
    "ExecuteTime": {
     "end_time": "2025-08-13T04:38:39.092279Z",
     "start_time": "2025-08-13T04:38:39.077947Z"
    }
   },
   "source": [
    "np.random.seed(42)\n",
    "n_samples = 1000\n",
    "\n",
    "# True predictors\n",
    "educ = np.random.normal(14, 2, n_samples).astype(np.float32)\n",
    "exper = np.abs(np.random.normal(10, 5, n_samples)).astype(np.float32)\n",
    "ability = np.random.normal(0, 1, n_samples).astype(np.float32)\n",
    "female = np.random.binomial(1, 0.45, n_samples).astype(np.float32)\n",
    "union = np.random.binomial(1, 0.2, n_samples).astype(np.float32)\n",
    "\n",
    "# Irrelevant variables\n",
    "height = np.random.normal(170, 10, n_samples).astype(np.float32)\n",
    "commute_km = np.round(np.random.exponential(scale=10, size=n_samples), 1)\n",
    "birth_month = np.random.randint(1, 13, n_samples).astype(np.float32)\n",
    "favorite_number = np.random.randint(1, 10, n_samples).astype(np.float32)\n",
    "clothing_colors = np.random.choice(['black', 'blue', 'gray', 'white', 'other'], \n",
    "                                 size=n_samples, p=[0.3, 0.25, 0.2, 0.15, 0.1])\n",
    "\n",
    "# True coefficients\n",
    "true_coeffs = {\n",
    "    'const': 2.0, 'educ': 0.15, \n",
    "    'exper': 0.06, 'exper_sq': -0.001,\n",
    "    'ability': 0.25, \n",
    "    'female': -0.3, \n",
    "    'union': 0.35\n",
    "}\n",
    "\n",
    "X = pd.DataFrame({\n",
    "    'educ': educ, 'exper': exper, 'exper_sq': (exper**2).astype(np.float32),\n",
    "    'ability': ability, 'female': female, 'union': union,\n",
    "    'height': height, 'commute_km': commute_km,\n",
    "    'birth_month': birth_month, 'favorite_number': favorite_number,\n",
    "    'clothing_color': clothing_colors\n",
    "})\n",
    "\n",
    "log_wage = (\n",
    "    true_coeffs['const'] +\n",
    "    true_coeffs['educ'] * X['educ'] +\n",
    "    true_coeffs['exper'] * X['exper'] +\n",
    "    true_coeffs['exper_sq'] * X['exper_sq'] +\n",
    "    true_coeffs['ability'] * X['ability'] +\n",
    "    true_coeffs['female'] * X['female'] +\n",
    "    true_coeffs['union'] * X['union'] +\n",
    "    np.random.normal(0, 0.5, n_samples).astype(np.float32))"
   ],
   "id": "4f7cf05ca4671361",
   "outputs": [],
   "execution_count": 13
  },
  {
   "cell_type": "markdown",
   "metadata": {},
   "source": [
    "## 2. Data Saving"
   ],
   "id": "138abcdc15901482"
  },
  {
   "cell_type": "code",
   "metadata": {
    "ExecuteTime": {
     "end_time": "2025-08-13T04:38:39.172615Z",
     "start_time": "2025-08-13T04:38:39.139790Z"
    }
   },
   "source": [
    "# Combine and save data\n",
    "data = X.copy()\n",
    "data['log_wage'] = log_wage\n",
    "data.to_csv('DATA/wage_data.csv', index=False)\n",
    "print(\"Data successfully saved to 'wage_data.csv'\")\n",
    "print(f\"File location: {os.path.abspath('DATA/wage_data.csv')}\")\n",
    "print(\"\\nData preview:\")\n",
    "display(data.head())"
   ],
   "id": "cc0ea645e92d8d66",
   "outputs": [
    {
     "name": "stdout",
     "output_type": "stream",
     "text": [
      "Data successfully saved to 'wage_data.csv'\n",
      "File location: /Users/qingfengliu/Library/CloudStorage/Dropbox/Hosei_University/All_Lecture/Python/ML_Toolkit/DATA/wage_data.csv\n",
      "\n",
      "Data preview:\n"
     ]
    },
    {
     "data": {
      "text/plain": [
       "        educ      exper    exper_sq   ability  female  union      height  \\\n",
       "0  14.993428  16.996777  288.890411 -0.675178     1.0    1.0  178.089188   \n",
       "1  13.723472  14.623168  213.837036 -0.144519     1.0    0.0  164.155441   \n",
       "2  15.295377  10.298152  106.051933 -0.792420     0.0    1.0  162.506424   \n",
       "3  17.046061   6.765316   45.769501 -0.307962     1.0    0.0  167.784637   \n",
       "4  13.531693  13.491117  182.010223 -1.893615     0.0    0.0  158.230377   \n",
       "\n",
       "   commute_km  birth_month  favorite_number clothing_color  log_wage  \n",
       "0         1.7          1.0              8.0           blue  4.978068  \n",
       "1         2.0          4.0              4.0           gray  4.968439  \n",
       "2         4.5         10.0              8.0          white  5.270698  \n",
       "3         5.7          7.0              9.0           blue  4.455431  \n",
       "4         9.8          2.0              7.0           gray  4.859989  "
      ],
      "text/html": [
       "<div>\n",
       "<style scoped>\n",
       "    .dataframe tbody tr th:only-of-type {\n",
       "        vertical-align: middle;\n",
       "    }\n",
       "\n",
       "    .dataframe tbody tr th {\n",
       "        vertical-align: top;\n",
       "    }\n",
       "\n",
       "    .dataframe thead th {\n",
       "        text-align: right;\n",
       "    }\n",
       "</style>\n",
       "<table border=\"1\" class=\"dataframe\">\n",
       "  <thead>\n",
       "    <tr style=\"text-align: right;\">\n",
       "      <th></th>\n",
       "      <th>educ</th>\n",
       "      <th>exper</th>\n",
       "      <th>exper_sq</th>\n",
       "      <th>ability</th>\n",
       "      <th>female</th>\n",
       "      <th>union</th>\n",
       "      <th>height</th>\n",
       "      <th>commute_km</th>\n",
       "      <th>birth_month</th>\n",
       "      <th>favorite_number</th>\n",
       "      <th>clothing_color</th>\n",
       "      <th>log_wage</th>\n",
       "    </tr>\n",
       "  </thead>\n",
       "  <tbody>\n",
       "    <tr>\n",
       "      <th>0</th>\n",
       "      <td>14.993428</td>\n",
       "      <td>16.996777</td>\n",
       "      <td>288.890411</td>\n",
       "      <td>-0.675178</td>\n",
       "      <td>1.0</td>\n",
       "      <td>1.0</td>\n",
       "      <td>178.089188</td>\n",
       "      <td>1.7</td>\n",
       "      <td>1.0</td>\n",
       "      <td>8.0</td>\n",
       "      <td>blue</td>\n",
       "      <td>4.978068</td>\n",
       "    </tr>\n",
       "    <tr>\n",
       "      <th>1</th>\n",
       "      <td>13.723472</td>\n",
       "      <td>14.623168</td>\n",
       "      <td>213.837036</td>\n",
       "      <td>-0.144519</td>\n",
       "      <td>1.0</td>\n",
       "      <td>0.0</td>\n",
       "      <td>164.155441</td>\n",
       "      <td>2.0</td>\n",
       "      <td>4.0</td>\n",
       "      <td>4.0</td>\n",
       "      <td>gray</td>\n",
       "      <td>4.968439</td>\n",
       "    </tr>\n",
       "    <tr>\n",
       "      <th>2</th>\n",
       "      <td>15.295377</td>\n",
       "      <td>10.298152</td>\n",
       "      <td>106.051933</td>\n",
       "      <td>-0.792420</td>\n",
       "      <td>0.0</td>\n",
       "      <td>1.0</td>\n",
       "      <td>162.506424</td>\n",
       "      <td>4.5</td>\n",
       "      <td>10.0</td>\n",
       "      <td>8.0</td>\n",
       "      <td>white</td>\n",
       "      <td>5.270698</td>\n",
       "    </tr>\n",
       "    <tr>\n",
       "      <th>3</th>\n",
       "      <td>17.046061</td>\n",
       "      <td>6.765316</td>\n",
       "      <td>45.769501</td>\n",
       "      <td>-0.307962</td>\n",
       "      <td>1.0</td>\n",
       "      <td>0.0</td>\n",
       "      <td>167.784637</td>\n",
       "      <td>5.7</td>\n",
       "      <td>7.0</td>\n",
       "      <td>9.0</td>\n",
       "      <td>blue</td>\n",
       "      <td>4.455431</td>\n",
       "    </tr>\n",
       "    <tr>\n",
       "      <th>4</th>\n",
       "      <td>13.531693</td>\n",
       "      <td>13.491117</td>\n",
       "      <td>182.010223</td>\n",
       "      <td>-1.893615</td>\n",
       "      <td>0.0</td>\n",
       "      <td>0.0</td>\n",
       "      <td>158.230377</td>\n",
       "      <td>9.8</td>\n",
       "      <td>2.0</td>\n",
       "      <td>7.0</td>\n",
       "      <td>gray</td>\n",
       "      <td>4.859989</td>\n",
       "    </tr>\n",
       "  </tbody>\n",
       "</table>\n",
       "</div>"
      ]
     },
     "metadata": {},
     "output_type": "display_data"
    }
   ],
   "execution_count": 14
  }
 ],
 "metadata": {
  "kernelspec": {
   "display_name": "Python 3",
   "language": "python",
   "name": "python3"
  },
  "language_info": {
   "codemirror_mode": {
    "name": "ipython",
    "version": 3
   },
   "file_extension": ".py",
   "mimetype": "text/x-python",
   "name": "python",
   "nbconvert_exporter": "python",
   "pygments_lexer": "ipython3",
   "version": "3.8.5"
  }
 }
}
