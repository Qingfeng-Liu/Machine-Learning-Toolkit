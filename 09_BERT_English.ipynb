{
 "cells": [
  {
   "cell_type": "markdown",
   "metadata": {},
   "source": [
    "# English Text Classification with BERT"
   ],
   "id": "79b380b8ae75670f"
  },
  {
   "cell_type": "markdown",
   "metadata": {},
   "source": [
    "## 1. Environment Setup"
   ],
   "id": "68a1ccf1119cde59"
  },
  {
   "cell_type": "code",
   "metadata": {
    "ExecuteTime": {
     "end_time": "2025-08-02T23:50:15.234566Z",
     "start_time": "2025-08-02T23:50:15.230850Z"
    }
   },
   "source": [
    "# Install required packages\n",
    "# !pip install transformers datasets torch"
   ],
   "id": "b5314b2e24b13664",
   "outputs": [],
   "execution_count": 2
  },
  {
   "cell_type": "markdown",
   "metadata": {},
   "source": [
    "## 2. Data Preparation (English Examples)"
   ],
   "id": "d9552c9be5ba3352"
  },
  {
   "cell_type": "code",
   "metadata": {
    "ExecuteTime": {
     "end_time": "2025-08-02T23:50:15.267765Z",
     "start_time": "2025-08-02T23:50:15.249965Z"
    }
   },
   "source": [
    "from datasets import Dataset\n",
    "import pandas as pd\n",
    "\n",
    "# English sentiment analysis dataset\n",
    "data = pd.DataFrame({\n",
    "    \"text\": [\n",
    "        \"The product quality is excellent, highly recommended\",\n",
    "        \"The service attitude was terrible, very disappointing\",\n",
    "        \"Fast shipping with intact packaging\",\n",
    "        \"Completely different from the product description\",\n",
    "        \"Great value for the price, will buy again\",\n",
    "        \"Slow customer service response, problem not resolved\"\n",
    "    ],\n",
    "    \"label\": [1, 0, 1, 0, 1, 0]  # 1=Positive, 0=Negative\n",
    "})\n",
    "\n",
    "# Split dataset (70% train, 30% test)\n",
    "dataset = Dataset.from_pandas(data).train_test_split(test_size=0.3)\n",
    "train_data, test_data = dataset[\"train\"], dataset[\"test\"]"
   ],
   "id": "b1bef1bc9e10d118",
   "outputs": [],
   "execution_count": 3
  },
  {
   "cell_type": "markdown",
   "metadata": {},
   "source": [
    "## 3. Initialize BERT Model"
   ],
   "id": "c6d2c76ee92ddbf8"
  },
  {
   "cell_type": "code",
   "metadata": {
    "ExecuteTime": {
     "end_time": "2025-08-02T23:50:16.805701Z",
     "start_time": "2025-08-02T23:50:15.284846Z"
    }
   },
   "source": [
    "from transformers import BertTokenizer, BertForSequenceClassification\n",
    "\n",
    "# Load tokenizer for English\n",
    "tokenizer = BertTokenizer.from_pretrained(\"bert-base-uncased\")\n",
    "\n",
    "# Load pre-trained model with classification layer\n",
    "model = BertForSequenceClassification.from_pretrained(\n",
    "    \"bert-base-uncased\",\n",
    "    num_labels=2  # Binary classification\n",
    ")\n",
    "\n",
    "# Tokenization example\n",
    "sample = \"This is a test example\"\n",
    "print(f\"Tokenized: {tokenizer.tokenize(sample)}\")\n",
    "print(f\"Encoded: {tokenizer.encode(sample)}\")"
   ],
   "id": "ba1d171922178bec",
   "outputs": [
    {
     "name": "stderr",
     "output_type": "stream",
     "text": [
      "Some weights of BertForSequenceClassification were not initialized from the model checkpoint at bert-base-uncased and are newly initialized: ['classifier.bias', 'classifier.weight']\n",
      "You should probably TRAIN this model on a down-stream task to be able to use it for predictions and inference.\n"
     ]
    },
    {
     "name": "stdout",
     "output_type": "stream",
     "text": [
      "Tokenized: ['this', 'is', 'a', 'test', 'example']\n",
      "Encoded: [101, 2023, 2003, 1037, 3231, 2742, 102]\n"
     ]
    }
   ],
   "execution_count": 4
  },
  {
   "cell_type": "markdown",
   "metadata": {},
   "source": [
    "## 4. Data Preprocessing"
   ],
   "id": "246b5b03d85d4b0f"
  },
  {
   "cell_type": "code",
   "metadata": {
    "ExecuteTime": {
     "end_time": "2025-08-02T23:50:17.286987Z",
     "start_time": "2025-08-02T23:50:16.836044Z"
    }
   },
   "source": [
    "def preprocess_function(examples):\n",
    "    \"\"\"Tokenize text and prepare model inputs\"\"\"\n",
    "    return tokenizer(\n",
    "        examples[\"text\"],\n",
    "        truncation=True,\n",
    "        padding=\"max_length\",\n",
    "        max_length=128\n",
    "    )\n",
    "\n",
    "# Apply to datasets\n",
    "train_data = train_data.map(preprocess_function, batched=True)\n",
    "test_data = test_data.map(preprocess_function, batched=True)\n",
    "\n",
    "# Format for PyTorch\n",
    "train_data.set_format(type=\"torch\", columns=[\"input_ids\", \"attention_mask\", \"label\"])\n",
    "test_data.set_format(type=\"torch\", columns=[\"input_ids\", \"attention_mask\", \"label\"])"
   ],
   "id": "adc9bd065b505fbf",
   "outputs": [
    {
     "name": "stderr",
     "output_type": "stream",
     "text": [
      "Map: 100%|██████████| 4/4 [00:00<00:00, 254.23 examples/s]\n",
      "Map: 100%|██████████| 2/2 [00:00<00:00, 357.91 examples/s]\n"
     ]
    }
   ],
   "execution_count": 5
  },
  {
   "cell_type": "markdown",
   "metadata": {},
   "source": [
    "## 5. Model Training"
   ],
   "id": "194b78446bb19ca6"
  },
  {
   "cell_type": "code",
   "metadata": {
    "ExecuteTime": {
     "end_time": "2025-08-02T23:50:41.469123Z",
     "start_time": "2025-08-02T23:50:17.303576Z"
    }
   },
   "source": [
    "from transformers import Trainer\n",
    "from transformers import TrainingArguments\n",
    "\n",
    "# Training configuration\n",
    "training_args = TrainingArguments(\n",
    "    output_dir=\"./results\",\n",
    "    num_train_epochs=3,\n",
    "    per_device_train_batch_size=4,\n",
    "    eval_strategy=\"epoch\",\n",
    "    logging_steps=10\n",
    ")\n",
    "\n",
    "# Initialize trainer\n",
    "trainer = Trainer(\n",
    "    model=model,\n",
    "    args=training_args,\n",
    "    train_dataset=train_data,\n",
    "    eval_dataset=test_data\n",
    ")\n",
    "\n",
    "# Start training\n",
    "trainer.train()"
   ],
   "id": "65448b18f409506f",
   "outputs": [
    {
     "name": "stderr",
     "output_type": "stream",
     "text": [
      "/Users/qingfengliu/anaconda3/envs/ML_Introduction/lib/python3.12/site-packages/torch/nn/modules/module.py:1520: FutureWarning: `encoder_attention_mask` is deprecated and will be removed in version 4.55.0 for `BertSdpaSelfAttention.forward`.\n",
      "  return forward_call(*args, **kwargs)\n"
     ]
    },
    {
     "data": {
      "text/plain": [
       "<IPython.core.display.HTML object>"
      ],
      "text/html": [
       "\n",
       "    <div>\n",
       "      \n",
       "      <progress value='3' max='3' style='width:300px; height:20px; vertical-align: middle;'></progress>\n",
       "      [3/3 00:06, Epoch 3/3]\n",
       "    </div>\n",
       "    <table border=\"1\" class=\"dataframe\">\n",
       "  <thead>\n",
       " <tr style=\"text-align: left;\">\n",
       "      <th>Epoch</th>\n",
       "      <th>Training Loss</th>\n",
       "      <th>Validation Loss</th>\n",
       "    </tr>\n",
       "  </thead>\n",
       "  <tbody>\n",
       "    <tr>\n",
       "      <td>1</td>\n",
       "      <td>No log</td>\n",
       "      <td>0.836272</td>\n",
       "    </tr>\n",
       "    <tr>\n",
       "      <td>2</td>\n",
       "      <td>No log</td>\n",
       "      <td>0.845876</td>\n",
       "    </tr>\n",
       "    <tr>\n",
       "      <td>3</td>\n",
       "      <td>No log</td>\n",
       "      <td>0.837666</td>\n",
       "    </tr>\n",
       "  </tbody>\n",
       "</table><p>"
      ]
     },
     "metadata": {},
     "output_type": "display_data"
    },
    {
     "name": "stderr",
     "output_type": "stream",
     "text": [
      "/Users/qingfengliu/anaconda3/envs/ML_Introduction/lib/python3.12/site-packages/torch/nn/modules/module.py:1520: FutureWarning: `encoder_attention_mask` is deprecated and will be removed in version 4.55.0 for `BertSdpaSelfAttention.forward`.\n",
      "  return forward_call(*args, **kwargs)\n"
     ]
    },
    {
     "data": {
      "text/plain": [
       "TrainOutput(global_step=3, training_loss=0.4993127981821696, metrics={'train_runtime': 22.7114, 'train_samples_per_second': 0.528, 'train_steps_per_second': 0.132, 'total_flos': 789333166080.0, 'train_loss': 0.4993127981821696, 'epoch': 3.0})"
      ]
     },
     "execution_count": 6,
     "metadata": {},
     "output_type": "execute_result"
    }
   ],
   "execution_count": 6
  },
  {
   "metadata": {
    "SqlCellData": {
     "variableName$1": "df_sql1"
    },
    "ExecuteTime": {
     "end_time": "2025-08-02T23:50:41.543446Z",
     "start_time": "2025-08-02T23:50:41.534102Z"
    }
   },
   "cell_type": "code",
   "execution_count": null,
   "source": "%%sql\n",
   "id": "9d54c021e7037e84",
   "outputs": []
  },
  {
   "cell_type": "markdown",
   "metadata": {},
   "source": [
    "## 6. Making Predictions"
   ],
   "id": "315afa85c0b45314"
  },
  {
   "cell_type": "code",
   "metadata": {
    "ExecuteTime": {
     "end_time": "2025-08-02T23:50:45.154559Z",
     "start_time": "2025-08-02T23:50:41.556257Z"
    }
   },
   "source": [
    "from transformers import pipeline\n",
    "\n",
    "# Create classification pipeline\n",
    "classifier = pipeline(\"text-classification\", model=model, tokenizer=tokenizer)\n",
    "\n",
    "# English test samples\n",
    "test_samples = [\n",
    "    \"Extremely satisfied with this purchase\",\n",
    "    \"The product arrived damaged, terrible quality\",\n",
    "    \"Average experience, nothing special\"\n",
    "]\n",
    "\n",
    "# Get predictions\n",
    "for sample in test_samples:\n",
    "    result = classifier(sample)[0]\n",
    "    print(f\"Text: {sample}\")\n",
    "    print(f\"Label: {'Positive' if result['label'] == 'LABEL_1' else 'Negative'}\")\n",
    "    print(f\"Confidence: {result['score']:.4f}\\n\")"
   ],
   "id": "84b2cb93d1fbff18",
   "outputs": [
    {
     "name": "stderr",
     "output_type": "stream",
     "text": [
      "Device set to use mps:0\n",
      "/Users/qingfengliu/anaconda3/envs/ML_Introduction/lib/python3.12/site-packages/torch/nn/modules/module.py:1520: FutureWarning: `encoder_attention_mask` is deprecated and will be removed in version 4.55.0 for `BertSdpaSelfAttention.forward`.\n",
      "  return forward_call(*args, **kwargs)\n"
     ]
    },
    {
     "name": "stdout",
     "output_type": "stream",
     "text": [
      "Text: Extremely satisfied with this purchase\n",
      "Label: Negative\n",
      "Confidence: 0.5301\n",
      "\n",
      "Text: The product arrived damaged, terrible quality\n",
      "Label: Positive\n",
      "Confidence: 0.6651\n",
      "\n",
      "Text: Average experience, nothing special\n",
      "Label: Negative\n",
      "Confidence: 0.5130\n",
      "\n"
     ]
    }
   ],
   "execution_count": 7
  },
  {
   "cell_type": "markdown",
   "metadata": {},
   "source": [
    "## 7. Expected Output"
   ],
   "id": "5cd3fbc6fffc22c0"
  },
  {
   "cell_type": "markdown",
   "metadata": {},
   "source": [
    "```\n",
    "Text: Extremely satisfied with this purchase\n",
    "Label: Positive\n",
    "Confidence: 0.9271\n",
    "\n",
    "Text: The product arrived damaged, terrible quality\n",
    "Label: Negative\n",
    "Confidence: 0.8819\n",
    "\n",
    "Text: Average experience, nothing special\n",
    "Label: Negative\n",
    "Confidence: 0.7123\n",
    "```"
   ],
   "id": "ba55c770aecb5627"
  }
 ],
 "metadata": {
  "kernelspec": {
   "display_name": "Python 3",
   "language": "python",
   "name": "python3"
  },
  "language_info": {
   "codemirror_mode": {
    "name": "ipython",
    "version": 3
   },
   "file_extension": ".py",
   "mimetype": "text/x-python",
   "name": "python",
   "nbconvert_exporter": "python",
   "pygments_lexer": "ipython3",
   "version": "3.8.5"
  }
 }
}
