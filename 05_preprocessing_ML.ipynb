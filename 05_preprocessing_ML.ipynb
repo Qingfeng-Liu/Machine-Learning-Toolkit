{
 "cells": [
  {
   "cell_type": "markdown",
   "metadata": {},
   "source": [
    "# Data Preprocessing Fundamentals\n",
    "## Practical Preprocessing Pipeline\n",
    "\n",
    "*This notebook covers:*\n",
    "- Missing value handling\n",
    "- Categorical variable encoding\n",
    "- Numerical feature scaling\n",
    "- Outlier detection\n",
    "- Data splitting"
   ],
   "id": "68e7eb039ebaca2b"
  },
  {
   "cell_type": "code",
   "metadata": {
    "ExecuteTime": {
     "end_time": "2025-07-26T07:43:37.302973Z",
     "start_time": "2025-07-26T07:43:37.299124Z"
    }
   },
   "source": [
    "# Import libraries\n",
    "import pandas as pd\n",
    "import numpy as np\n",
    "import matplotlib.pyplot as plt\n",
    "from sklearn.model_selection import train_test_split\n",
    "from sklearn.impute import SimpleImputer\n",
    "from sklearn.preprocessing import StandardScaler, OneHotEncoder\n",
    "from sklearn.compose import ColumnTransformer\n",
    "from sklearn.pipeline import Pipeline\n",
    "%matplotlib inline"
   ],
   "id": "175822751bd9f6c6",
   "outputs": [],
   "execution_count": 5
  },
  {
   "cell_type": "markdown",
   "metadata": {},
   "source": [
    "## 1. Create Sample Data with Intentional Issues"
   ],
   "id": "69c0772be757bb00"
  },
  {
   "cell_type": "code",
   "metadata": {
    "ExecuteTime": {
     "end_time": "2025-07-26T08:31:54.356448Z",
     "start_time": "2025-07-26T08:31:54.341937Z"
    }
   },
   "source": [
    "# Create problematic sample data\n",
    "data = {\n",
    "    'Age': [25, 30, np.nan, 35, 22, 28, 100],  # Missing value and outlier\n",
    "    'Gender': ['M', 'F', 'M', 'F', 'M', np.nan, 'F'],\n",
    "    'Income': [450, 600, 800, 350, 250, 700, 1200],  # Contains outlier\n",
    "    'City': ['Tokyo', 'Osaka', 'Kyoto', 'Tokyo', 'Osaka', 'Kyoto', 'Tokyo'],\n",
    "    'Purchase_Flag': [1, 0, 1, 0, 1, 1, 0]  # Target variable\n",
    "}\n",
    "\n",
    "df = pd.DataFrame(data)\n",
    "print(\"Original Data:\")\n",
    "display(df)"
   ],
   "id": "2db5e2dd563adef4",
   "outputs": [
    {
     "name": "stdout",
     "output_type": "stream",
     "text": [
      "Original Data:\n"
     ]
    },
    {
     "data": {
      "text/plain": [
       "     Age Gender  Income   City  Purchase_Flag\n",
       "0   25.0      M     450  Tokyo              1\n",
       "1   30.0      F     600  Osaka              0\n",
       "2    NaN      M     800  Kyoto              1\n",
       "3   35.0      F     350  Tokyo              0\n",
       "4   22.0      M     250  Osaka              1\n",
       "5   28.0    NaN     700  Kyoto              1\n",
       "6  100.0      F    1200  Tokyo              0"
      ],
      "text/html": [
       "<div>\n",
       "<style scoped>\n",
       "    .dataframe tbody tr th:only-of-type {\n",
       "        vertical-align: middle;\n",
       "    }\n",
       "\n",
       "    .dataframe tbody tr th {\n",
       "        vertical-align: top;\n",
       "    }\n",
       "\n",
       "    .dataframe thead th {\n",
       "        text-align: right;\n",
       "    }\n",
       "</style>\n",
       "<table border=\"1\" class=\"dataframe\">\n",
       "  <thead>\n",
       "    <tr style=\"text-align: right;\">\n",
       "      <th></th>\n",
       "      <th>Age</th>\n",
       "      <th>Gender</th>\n",
       "      <th>Income</th>\n",
       "      <th>City</th>\n",
       "      <th>Purchase_Flag</th>\n",
       "    </tr>\n",
       "  </thead>\n",
       "  <tbody>\n",
       "    <tr>\n",
       "      <th>0</th>\n",
       "      <td>25.0</td>\n",
       "      <td>M</td>\n",
       "      <td>450</td>\n",
       "      <td>Tokyo</td>\n",
       "      <td>1</td>\n",
       "    </tr>\n",
       "    <tr>\n",
       "      <th>1</th>\n",
       "      <td>30.0</td>\n",
       "      <td>F</td>\n",
       "      <td>600</td>\n",
       "      <td>Osaka</td>\n",
       "      <td>0</td>\n",
       "    </tr>\n",
       "    <tr>\n",
       "      <th>2</th>\n",
       "      <td>NaN</td>\n",
       "      <td>M</td>\n",
       "      <td>800</td>\n",
       "      <td>Kyoto</td>\n",
       "      <td>1</td>\n",
       "    </tr>\n",
       "    <tr>\n",
       "      <th>3</th>\n",
       "      <td>35.0</td>\n",
       "      <td>F</td>\n",
       "      <td>350</td>\n",
       "      <td>Tokyo</td>\n",
       "      <td>0</td>\n",
       "    </tr>\n",
       "    <tr>\n",
       "      <th>4</th>\n",
       "      <td>22.0</td>\n",
       "      <td>M</td>\n",
       "      <td>250</td>\n",
       "      <td>Osaka</td>\n",
       "      <td>1</td>\n",
       "    </tr>\n",
       "    <tr>\n",
       "      <th>5</th>\n",
       "      <td>28.0</td>\n",
       "      <td>NaN</td>\n",
       "      <td>700</td>\n",
       "      <td>Kyoto</td>\n",
       "      <td>1</td>\n",
       "    </tr>\n",
       "    <tr>\n",
       "      <th>6</th>\n",
       "      <td>100.0</td>\n",
       "      <td>F</td>\n",
       "      <td>1200</td>\n",
       "      <td>Tokyo</td>\n",
       "      <td>0</td>\n",
       "    </tr>\n",
       "  </tbody>\n",
       "</table>\n",
       "</div>"
      ]
     },
     "metadata": {},
     "output_type": "display_data"
    }
   ],
   "execution_count": 13
  },
  {
   "cell_type": "markdown",
   "metadata": {},
   "source": [
    "## 2. Handle Missing Values"
   ],
   "id": "bd8e45868143e1e3"
  },
  {
   "cell_type": "code",
   "metadata": {
    "ExecuteTime": {
     "end_time": "2025-07-26T08:36:41.240164Z",
     "start_time": "2025-07-26T08:36:41.223647Z"
    }
   },
   "source": [
    "# Visualize missing values\n",
    "print(\"Missing Value Count:\")\n",
    "print(df.isnull().sum())\n",
    "\n",
    "# Numerical imputation with median\n",
    "num_imputer = SimpleImputer(strategy='median')\n",
    "\n",
    "# Categorical imputation with mode\n",
    "cat_imputer = SimpleImputer(strategy='most_frequent')\n",
    "\n",
    "# Apply imputation\n",
    "df['Age'] = num_imputer.fit_transform(df[['Age']]).ravel()  # Use ravel() to convert to 1D\n",
    "df['Gender'] = cat_imputer.fit_transform(df[['Gender']]).ravel()\n",
    "\n",
    "print(\"\\nAfter Imputation:\")\n",
    "display(df)"
   ],
   "id": "d27c2e7191ac0be3",
   "outputs": [
    {
     "name": "stdout",
     "output_type": "stream",
     "text": [
      "Missing Value Count:\n",
      "Age              1\n",
      "Gender           1\n",
      "Income           0\n",
      "City             0\n",
      "Purchase_Flag    0\n",
      "dtype: int64\n",
      "\n",
      "After Imputation:\n"
     ]
    },
    {
     "data": {
      "text/plain": [
       "     Age Gender  Income   City  Purchase_Flag\n",
       "0   25.0      M     450  Tokyo              1\n",
       "1   30.0      F     600  Osaka              0\n",
       "2   29.0      M     800  Kyoto              1\n",
       "3   35.0      F     350  Tokyo              0\n",
       "4   22.0      M     250  Osaka              1\n",
       "5   28.0      F     700  Kyoto              1\n",
       "6  100.0      F    1200  Tokyo              0"
      ],
      "text/html": [
       "<div>\n",
       "<style scoped>\n",
       "    .dataframe tbody tr th:only-of-type {\n",
       "        vertical-align: middle;\n",
       "    }\n",
       "\n",
       "    .dataframe tbody tr th {\n",
       "        vertical-align: top;\n",
       "    }\n",
       "\n",
       "    .dataframe thead th {\n",
       "        text-align: right;\n",
       "    }\n",
       "</style>\n",
       "<table border=\"1\" class=\"dataframe\">\n",
       "  <thead>\n",
       "    <tr style=\"text-align: right;\">\n",
       "      <th></th>\n",
       "      <th>Age</th>\n",
       "      <th>Gender</th>\n",
       "      <th>Income</th>\n",
       "      <th>City</th>\n",
       "      <th>Purchase_Flag</th>\n",
       "    </tr>\n",
       "  </thead>\n",
       "  <tbody>\n",
       "    <tr>\n",
       "      <th>0</th>\n",
       "      <td>25.0</td>\n",
       "      <td>M</td>\n",
       "      <td>450</td>\n",
       "      <td>Tokyo</td>\n",
       "      <td>1</td>\n",
       "    </tr>\n",
       "    <tr>\n",
       "      <th>1</th>\n",
       "      <td>30.0</td>\n",
       "      <td>F</td>\n",
       "      <td>600</td>\n",
       "      <td>Osaka</td>\n",
       "      <td>0</td>\n",
       "    </tr>\n",
       "    <tr>\n",
       "      <th>2</th>\n",
       "      <td>29.0</td>\n",
       "      <td>M</td>\n",
       "      <td>800</td>\n",
       "      <td>Kyoto</td>\n",
       "      <td>1</td>\n",
       "    </tr>\n",
       "    <tr>\n",
       "      <th>3</th>\n",
       "      <td>35.0</td>\n",
       "      <td>F</td>\n",
       "      <td>350</td>\n",
       "      <td>Tokyo</td>\n",
       "      <td>0</td>\n",
       "    </tr>\n",
       "    <tr>\n",
       "      <th>4</th>\n",
       "      <td>22.0</td>\n",
       "      <td>M</td>\n",
       "      <td>250</td>\n",
       "      <td>Osaka</td>\n",
       "      <td>1</td>\n",
       "    </tr>\n",
       "    <tr>\n",
       "      <th>5</th>\n",
       "      <td>28.0</td>\n",
       "      <td>F</td>\n",
       "      <td>700</td>\n",
       "      <td>Kyoto</td>\n",
       "      <td>1</td>\n",
       "    </tr>\n",
       "    <tr>\n",
       "      <th>6</th>\n",
       "      <td>100.0</td>\n",
       "      <td>F</td>\n",
       "      <td>1200</td>\n",
       "      <td>Tokyo</td>\n",
       "      <td>0</td>\n",
       "    </tr>\n",
       "  </tbody>\n",
       "</table>\n",
       "</div>"
      ]
     },
     "metadata": {},
     "output_type": "display_data"
    }
   ],
   "execution_count": 14
  },
  {
   "cell_type": "markdown",
   "metadata": {},
   "source": [
    "## 3. Detect and Handle Outliers"
   ],
   "id": "80c4d9862512d075"
  },
  {
   "cell_type": "code",
   "metadata": {
    "ExecuteTime": {
     "end_time": "2025-07-26T08:45:05.073366Z",
     "start_time": "2025-07-26T08:45:05.005806Z"
    }
   },
   "source": [
    "# Visualize outliers\n",
    "plt.figure(figsize=(12, 4))\n",
    "plt.subplot(1, 2, 1)\n",
    "plt.boxplot(df['Age'].dropna())  # Added .dropna() to handle potential NaN values\n",
    "plt.title('Age Boxplot')\n",
    "\n",
    "plt.subplot(1, 2, 2)\n",
    "plt.boxplot(df['Income'])\n",
    "plt.title('Income Boxplot')\n",
    "plt.show()\n",
    "\n",
    "# IQR-based outlier clipping\n",
    "def remove_outliers(df, col):\n",
    "    Q1 = df[col].quantile(0.25)\n",
    "    Q3 = df[col].quantile(0.75)\n",
    "    IQR = Q3 - Q1\n",
    "    lower_bound = Q1 - 1.5 * IQR\n",
    "    upper_bound = Q3 + 1.5 * IQR\n",
    "    \n",
    "    # Clip outliers\n",
    "    df[col] = df[col].clip(lower_bound, upper_bound)\n",
    "    return df\n",
    "\n",
    "df = remove_outliers(df, 'Age')\n",
    "df = remove_outliers(df, 'Income')\n",
    "\n",
    "print(\"After Outlier Treatment:\")\n",
    "print(df)\n",
    "display(df)"
   ],
   "id": "8c044c8c72143ed1",
   "outputs": [
    {
     "data": {
      "text/plain": [
       "<Figure size 1200x400 with 2 Axes>"
      ],
      "image/png": "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"
     },
     "metadata": {},
     "output_type": "display_data"
    },
    {
     "name": "stdout",
     "output_type": "stream",
     "text": [
      "After Outlier Treatment:\n",
      "    Age Gender  Income   City  Purchase_Flag\n",
      "0  25.0      M     450  Tokyo              1\n",
      "1  30.0      F     600  Osaka              0\n",
      "2  29.0      M     800  Kyoto              1\n",
      "3  35.0      F     350  Tokyo              0\n",
      "4  22.0      M     250  Osaka              1\n",
      "5  28.0      F     700  Kyoto              1\n",
      "6  41.5      F    1200  Tokyo              0\n"
     ]
    },
    {
     "data": {
      "text/plain": [
       "    Age Gender  Income   City  Purchase_Flag\n",
       "0  25.0      M     450  Tokyo              1\n",
       "1  30.0      F     600  Osaka              0\n",
       "2  29.0      M     800  Kyoto              1\n",
       "3  35.0      F     350  Tokyo              0\n",
       "4  22.0      M     250  Osaka              1\n",
       "5  28.0      F     700  Kyoto              1\n",
       "6  41.5      F    1200  Tokyo              0"
      ],
      "text/html": [
       "<div>\n",
       "<style scoped>\n",
       "    .dataframe tbody tr th:only-of-type {\n",
       "        vertical-align: middle;\n",
       "    }\n",
       "\n",
       "    .dataframe tbody tr th {\n",
       "        vertical-align: top;\n",
       "    }\n",
       "\n",
       "    .dataframe thead th {\n",
       "        text-align: right;\n",
       "    }\n",
       "</style>\n",
       "<table border=\"1\" class=\"dataframe\">\n",
       "  <thead>\n",
       "    <tr style=\"text-align: right;\">\n",
       "      <th></th>\n",
       "      <th>Age</th>\n",
       "      <th>Gender</th>\n",
       "      <th>Income</th>\n",
       "      <th>City</th>\n",
       "      <th>Purchase_Flag</th>\n",
       "    </tr>\n",
       "  </thead>\n",
       "  <tbody>\n",
       "    <tr>\n",
       "      <th>0</th>\n",
       "      <td>25.0</td>\n",
       "      <td>M</td>\n",
       "      <td>450</td>\n",
       "      <td>Tokyo</td>\n",
       "      <td>1</td>\n",
       "    </tr>\n",
       "    <tr>\n",
       "      <th>1</th>\n",
       "      <td>30.0</td>\n",
       "      <td>F</td>\n",
       "      <td>600</td>\n",
       "      <td>Osaka</td>\n",
       "      <td>0</td>\n",
       "    </tr>\n",
       "    <tr>\n",
       "      <th>2</th>\n",
       "      <td>29.0</td>\n",
       "      <td>M</td>\n",
       "      <td>800</td>\n",
       "      <td>Kyoto</td>\n",
       "      <td>1</td>\n",
       "    </tr>\n",
       "    <tr>\n",
       "      <th>3</th>\n",
       "      <td>35.0</td>\n",
       "      <td>F</td>\n",
       "      <td>350</td>\n",
       "      <td>Tokyo</td>\n",
       "      <td>0</td>\n",
       "    </tr>\n",
       "    <tr>\n",
       "      <th>4</th>\n",
       "      <td>22.0</td>\n",
       "      <td>M</td>\n",
       "      <td>250</td>\n",
       "      <td>Osaka</td>\n",
       "      <td>1</td>\n",
       "    </tr>\n",
       "    <tr>\n",
       "      <th>5</th>\n",
       "      <td>28.0</td>\n",
       "      <td>F</td>\n",
       "      <td>700</td>\n",
       "      <td>Kyoto</td>\n",
       "      <td>1</td>\n",
       "    </tr>\n",
       "    <tr>\n",
       "      <th>6</th>\n",
       "      <td>41.5</td>\n",
       "      <td>F</td>\n",
       "      <td>1200</td>\n",
       "      <td>Tokyo</td>\n",
       "      <td>0</td>\n",
       "    </tr>\n",
       "  </tbody>\n",
       "</table>\n",
       "</div>"
      ]
     },
     "metadata": {},
     "output_type": "display_data"
    }
   ],
   "execution_count": 16
  },
  {
   "cell_type": "markdown",
   "metadata": {},
   "source": [
    "## 4. Encode Categorical Variables"
   ],
   "id": "b459db8d1f9a8afb"
  },
  {
   "cell_type": "code",
   "metadata": {
    "ExecuteTime": {
     "end_time": "2025-07-26T08:49:31.521877Z",
     "start_time": "2025-07-26T08:49:31.511221Z"
    }
   },
   "source": [
    "# Before One-Hot Encoding\n",
    "print(\"Before Encoding:\")\n",
    "print(df[['Gender', 'City']].head())\n",
    "\n",
    "# Using pandas get_dummies\n",
    "df_encoded = pd.get_dummies(df, columns=['Gender', 'City'], drop_first=True)\n",
    "\n",
    "print(\"\\nAfter One-Hot Encoding:\")\n",
    "display(df_encoded.head())"
   ],
   "id": "58dd7d78b92ac424",
   "outputs": [
    {
     "name": "stdout",
     "output_type": "stream",
     "text": [
      "Before Encoding:\n",
      "  Gender   City\n",
      "0      M  Tokyo\n",
      "1      F  Osaka\n",
      "2      M  Kyoto\n",
      "3      F  Tokyo\n",
      "4      M  Osaka\n",
      "\n",
      "After One-Hot Encoding:\n"
     ]
    },
    {
     "data": {
      "text/plain": [
       "    Age  Income  Purchase_Flag  Gender_M  City_Osaka  City_Tokyo\n",
       "0  25.0     450              1      True       False        True\n",
       "1  30.0     600              0     False        True       False\n",
       "2  29.0     800              1      True       False       False\n",
       "3  35.0     350              0     False       False        True\n",
       "4  22.0     250              1      True        True       False"
      ],
      "text/html": [
       "<div>\n",
       "<style scoped>\n",
       "    .dataframe tbody tr th:only-of-type {\n",
       "        vertical-align: middle;\n",
       "    }\n",
       "\n",
       "    .dataframe tbody tr th {\n",
       "        vertical-align: top;\n",
       "    }\n",
       "\n",
       "    .dataframe thead th {\n",
       "        text-align: right;\n",
       "    }\n",
       "</style>\n",
       "<table border=\"1\" class=\"dataframe\">\n",
       "  <thead>\n",
       "    <tr style=\"text-align: right;\">\n",
       "      <th></th>\n",
       "      <th>Age</th>\n",
       "      <th>Income</th>\n",
       "      <th>Purchase_Flag</th>\n",
       "      <th>Gender_M</th>\n",
       "      <th>City_Osaka</th>\n",
       "      <th>City_Tokyo</th>\n",
       "    </tr>\n",
       "  </thead>\n",
       "  <tbody>\n",
       "    <tr>\n",
       "      <th>0</th>\n",
       "      <td>25.0</td>\n",
       "      <td>450</td>\n",
       "      <td>1</td>\n",
       "      <td>True</td>\n",
       "      <td>False</td>\n",
       "      <td>True</td>\n",
       "    </tr>\n",
       "    <tr>\n",
       "      <th>1</th>\n",
       "      <td>30.0</td>\n",
       "      <td>600</td>\n",
       "      <td>0</td>\n",
       "      <td>False</td>\n",
       "      <td>True</td>\n",
       "      <td>False</td>\n",
       "    </tr>\n",
       "    <tr>\n",
       "      <th>2</th>\n",
       "      <td>29.0</td>\n",
       "      <td>800</td>\n",
       "      <td>1</td>\n",
       "      <td>True</td>\n",
       "      <td>False</td>\n",
       "      <td>False</td>\n",
       "    </tr>\n",
       "    <tr>\n",
       "      <th>3</th>\n",
       "      <td>35.0</td>\n",
       "      <td>350</td>\n",
       "      <td>0</td>\n",
       "      <td>False</td>\n",
       "      <td>False</td>\n",
       "      <td>True</td>\n",
       "    </tr>\n",
       "    <tr>\n",
       "      <th>4</th>\n",
       "      <td>22.0</td>\n",
       "      <td>250</td>\n",
       "      <td>1</td>\n",
       "      <td>True</td>\n",
       "      <td>True</td>\n",
       "      <td>False</td>\n",
       "    </tr>\n",
       "  </tbody>\n",
       "</table>\n",
       "</div>"
      ]
     },
     "metadata": {},
     "output_type": "display_data"
    }
   ],
   "execution_count": 17
  },
  {
   "cell_type": "markdown",
   "metadata": {},
   "source": [
    "## 5. Scale Numerical Features"
   ],
   "id": "762887df0598989a"
  },
  {
   "cell_type": "code",
   "metadata": {
    "ExecuteTime": {
     "end_time": "2025-07-26T08:57:54.313083Z",
     "start_time": "2025-07-26T08:57:54.300048Z"
    }
   },
   "source": [
    "# Standardization\n",
    "scaler = StandardScaler()\n",
    "\n",
    "# Scale Age and Income\n",
    "df_encoded[['Age', 'Income']] = scaler.fit_transform(df_encoded[['Age', 'Income']])\n",
    "print(\"After Standardization:\")\n",
    "display(df_encoded.head())"
   ],
   "id": "5cb1fbaffd045a41",
   "outputs": [
    {
     "name": "stdout",
     "output_type": "stream",
     "text": [
      "After Standardization:\n"
     ]
    },
    {
     "data": {
      "text/plain": [
       "        Age    Income  Purchase_Flag  Gender_M  City_Osaka  City_Tokyo\n",
       "0 -0.846559 -0.578691              1      True       False        True\n",
       "1 -0.011923 -0.072336              0     False        True       False\n",
       "2 -0.178850  0.602804              1      True       False       False\n",
       "3  0.822712 -0.916261              0     False       False        True\n",
       "4 -1.347340 -1.253831              1      True        True       False"
      ],
      "text/html": [
       "<div>\n",
       "<style scoped>\n",
       "    .dataframe tbody tr th:only-of-type {\n",
       "        vertical-align: middle;\n",
       "    }\n",
       "\n",
       "    .dataframe tbody tr th {\n",
       "        vertical-align: top;\n",
       "    }\n",
       "\n",
       "    .dataframe thead th {\n",
       "        text-align: right;\n",
       "    }\n",
       "</style>\n",
       "<table border=\"1\" class=\"dataframe\">\n",
       "  <thead>\n",
       "    <tr style=\"text-align: right;\">\n",
       "      <th></th>\n",
       "      <th>Age</th>\n",
       "      <th>Income</th>\n",
       "      <th>Purchase_Flag</th>\n",
       "      <th>Gender_M</th>\n",
       "      <th>City_Osaka</th>\n",
       "      <th>City_Tokyo</th>\n",
       "    </tr>\n",
       "  </thead>\n",
       "  <tbody>\n",
       "    <tr>\n",
       "      <th>0</th>\n",
       "      <td>-0.846559</td>\n",
       "      <td>-0.578691</td>\n",
       "      <td>1</td>\n",
       "      <td>True</td>\n",
       "      <td>False</td>\n",
       "      <td>True</td>\n",
       "    </tr>\n",
       "    <tr>\n",
       "      <th>1</th>\n",
       "      <td>-0.011923</td>\n",
       "      <td>-0.072336</td>\n",
       "      <td>0</td>\n",
       "      <td>False</td>\n",
       "      <td>True</td>\n",
       "      <td>False</td>\n",
       "    </tr>\n",
       "    <tr>\n",
       "      <th>2</th>\n",
       "      <td>-0.178850</td>\n",
       "      <td>0.602804</td>\n",
       "      <td>1</td>\n",
       "      <td>True</td>\n",
       "      <td>False</td>\n",
       "      <td>False</td>\n",
       "    </tr>\n",
       "    <tr>\n",
       "      <th>3</th>\n",
       "      <td>0.822712</td>\n",
       "      <td>-0.916261</td>\n",
       "      <td>0</td>\n",
       "      <td>False</td>\n",
       "      <td>False</td>\n",
       "      <td>True</td>\n",
       "    </tr>\n",
       "    <tr>\n",
       "      <th>4</th>\n",
       "      <td>-1.347340</td>\n",
       "      <td>-1.253831</td>\n",
       "      <td>1</td>\n",
       "      <td>True</td>\n",
       "      <td>True</td>\n",
       "      <td>False</td>\n",
       "    </tr>\n",
       "  </tbody>\n",
       "</table>\n",
       "</div>"
      ]
     },
     "metadata": {},
     "output_type": "display_data"
    }
   ],
   "execution_count": 18
  },
  {
   "cell_type": "markdown",
   "metadata": {},
   "source": [
    "## 6. Efficient Preprocessing with Pipeline"
   ],
   "id": "1da2e4ca92fd8eb8"
  },
  {
   "cell_type": "code",
   "metadata": {
    "ExecuteTime": {
     "end_time": "2025-07-26T07:43:37.617122Z",
     "start_time": "2025-07-26T07:43:37.605779Z"
    }
   },
   "source": [
    "# Separate features and target\n",
    "X = df.drop('Purchase_Flag', axis=1)\n",
    "y = df['Purchase_Flag']\n",
    "\n",
    "# Define column types\n",
    "numeric_features = ['Age', 'Income']\n",
    "categorical_features = ['Gender', 'City']\n",
    "\n",
    "# Build pipeline\n",
    "preprocessor = ColumnTransformer(\n",
    "    transformers=[\n",
    "        ('num', Pipeline(steps=[\n",
    "            ('imputer', SimpleImputer(strategy='median')),\n",
    "            ('scaler', StandardScaler())\n",
    "        ]), numeric_features),\n",
    "        ('cat', Pipeline(steps=[\n",
    "            ('imputer', SimpleImputer(strategy='most_frequent')),\n",
    "            ('encoder', OneHotEncoder(drop='first'))\n",
    "        ]), categorical_features)\n",
    "    ])\n",
    "\n",
    "# Split data\n",
    "X_train, X_test, y_train, y_test = train_test_split(X, y, test_size=0.2, random_state=42)\n",
    "\n",
    "# Apply preprocessing\n",
    "X_train_processed = preprocessor.fit_transform(X_train)\n",
    "X_test_processed = preprocessor.transform(X_test)\n",
    "\n",
    "print(\"Training Data Shape:\", X_train_processed.shape)\n",
    "print(\"Test Data Shape:\", X_test_processed.shape)"
   ],
   "id": "6fe4e708c6b35e67",
   "outputs": [
    {
     "name": "stdout",
     "output_type": "stream",
     "text": [
      "Training Data Shape: (5, 5)\n",
      "Test Data Shape: (2, 5)\n"
     ]
    }
   ],
   "execution_count": 11
  },
  {
   "cell_type": "markdown",
   "metadata": {},
   "source": [
    "## 7. Inspect Processed Data"
   ],
   "id": "75e5b308ff3fea6b"
  },
  {
   "cell_type": "code",
   "metadata": {
    "ExecuteTime": {
     "end_time": "2025-07-26T07:43:37.666665Z",
     "start_time": "2025-07-26T07:43:37.657278Z"
    }
   },
   "source": [
    "# Convert processed data to DataFrame\n",
    "# Get numerical feature names\n",
    "num_columns = numeric_features\n",
    "\n",
    "# Get categorical feature names from OneHotEncoder\n",
    "cat_encoder = preprocessor.named_transformers_['cat'].named_steps['encoder']\n",
    "cat_columns = cat_encoder.get_feature_names_out(categorical_features)\n",
    "\n",
    "# Combine all column names\n",
    "all_columns = np.concatenate([num_columns, cat_columns])\n",
    "\n",
    "# Create DataFrame\n",
    "df_train_processed = pd.DataFrame(X_train_processed, columns=all_columns)\n",
    "\n",
    "print(\"Final Processed Training Data:\")\n",
    "display(df_train_processed.head())"
   ],
   "id": "66ba647de8f9843d",
   "outputs": [
    {
     "name": "stdout",
     "output_type": "stream",
     "text": [
      "Final Processed Training Data:\n"
     ]
    },
    {
     "data": {
      "text/plain": [
       "        Age    Income  Gender_M  City_Osaka  City_Tokyo\n",
       "0 -0.467130  0.117749       0.0         0.0         0.0\n",
       "1 -0.316443  0.412121       1.0         0.0         0.0\n",
       "2 -1.371253 -1.206927       1.0         1.0         0.0\n",
       "3  0.587680 -0.912554       0.0         0.0         1.0\n",
       "4  1.567147  1.589611       0.0         0.0         1.0"
      ],
      "text/html": [
       "<div>\n",
       "<style scoped>\n",
       "    .dataframe tbody tr th:only-of-type {\n",
       "        vertical-align: middle;\n",
       "    }\n",
       "\n",
       "    .dataframe tbody tr th {\n",
       "        vertical-align: top;\n",
       "    }\n",
       "\n",
       "    .dataframe thead th {\n",
       "        text-align: right;\n",
       "    }\n",
       "</style>\n",
       "<table border=\"1\" class=\"dataframe\">\n",
       "  <thead>\n",
       "    <tr style=\"text-align: right;\">\n",
       "      <th></th>\n",
       "      <th>Age</th>\n",
       "      <th>Income</th>\n",
       "      <th>Gender_M</th>\n",
       "      <th>City_Osaka</th>\n",
       "      <th>City_Tokyo</th>\n",
       "    </tr>\n",
       "  </thead>\n",
       "  <tbody>\n",
       "    <tr>\n",
       "      <th>0</th>\n",
       "      <td>-0.467130</td>\n",
       "      <td>0.117749</td>\n",
       "      <td>0.0</td>\n",
       "      <td>0.0</td>\n",
       "      <td>0.0</td>\n",
       "    </tr>\n",
       "    <tr>\n",
       "      <th>1</th>\n",
       "      <td>-0.316443</td>\n",
       "      <td>0.412121</td>\n",
       "      <td>1.0</td>\n",
       "      <td>0.0</td>\n",
       "      <td>0.0</td>\n",
       "    </tr>\n",
       "    <tr>\n",
       "      <th>2</th>\n",
       "      <td>-1.371253</td>\n",
       "      <td>-1.206927</td>\n",
       "      <td>1.0</td>\n",
       "      <td>1.0</td>\n",
       "      <td>0.0</td>\n",
       "    </tr>\n",
       "    <tr>\n",
       "      <th>3</th>\n",
       "      <td>0.587680</td>\n",
       "      <td>-0.912554</td>\n",
       "      <td>0.0</td>\n",
       "      <td>0.0</td>\n",
       "      <td>1.0</td>\n",
       "    </tr>\n",
       "    <tr>\n",
       "      <th>4</th>\n",
       "      <td>1.567147</td>\n",
       "      <td>1.589611</td>\n",
       "      <td>0.0</td>\n",
       "      <td>0.0</td>\n",
       "      <td>1.0</td>\n",
       "    </tr>\n",
       "  </tbody>\n",
       "</table>\n",
       "</div>"
      ]
     },
     "metadata": {},
     "output_type": "display_data"
    }
   ],
   "execution_count": 12
  },
  {
   "cell_type": "markdown",
   "metadata": {},
   "source": [
    "## 8. Key Preprocessing Takeaways\n",
    "\n",
    "1. **Missing Values**\n",
    "   - Numerical: Impute with median\n",
    "   - Categorical: Impute with mode\n",
    "\n",
    "2. **Outliers**\n",
    "   - Detect using IQR method\n",
    "   - Treat by clipping or removal\n",
    "\n",
    "3. **Categorical Variables**\n",
    "   - Use One-Hot Encoding as baseline\n",
    "   - Consider Target Encoding for high cardinality\n",
    "\n",
    "4. **Numerical Features**\n",
    "   - Standardize (StandardScaler) or Normalize (MinMaxScaler)\n",
    "\n",
    "5. **Pipeline Construction**\n",
    "   - Use ColumnTransformer for different processing\n",
    "   - Prevent data leakage with proper fit/transform separation"
   ],
   "id": "a57856b228b12209"
  }
 ],
 "metadata": {
  "kernelspec": {
   "display_name": "Python 3",
   "language": "python",
   "name": "python3"
  },
  "language_info": {
   "codemirror_mode": {
    "name": "ipython",
    "version": 3
   },
   "file_extension": ".py",
   "mimetype": "text/x-python",
   "name": "python",
   "nbconvert_exporter": "python",
   "pygments_lexer": "ipython3",
   "version": "3.8.5"
  }
 }
}
