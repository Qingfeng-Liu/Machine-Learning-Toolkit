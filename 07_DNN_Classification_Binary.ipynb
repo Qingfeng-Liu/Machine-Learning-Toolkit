{
 "cells": [
  {
   "cell_type": "markdown",
   "metadata": {},
   "source": [
    "# Binary Classification with PyTorch\n",
    "**Key Notes about Last Layer Activation:**\n",
    "- ✅ **No activation needed** when using `CrossEntropyLoss` (contains built-in Softmax)\n",
    "- ❌ **Must add Sigmoid** when using `BCEWithLogitsLoss` (for binary classification)"
   ]
  },
  {
   "cell_type": "code",
   "metadata": {
    "ExecuteTime": {
     "end_time": "2025-08-06T06:56:41.684089Z",
     "start_time": "2025-08-06T06:56:41.680907Z"
    }
   },
   "source": [
    "# !pip install torch\n",
    "import torch\n",
    "import torch.nn as nn\n",
    "import torch.optim as optim\n",
    "import numpy as np\n",
    "from sklearn.datasets import make_classification\n",
    "from sklearn.model_selection import train_test_split\n",
    "from sklearn.preprocessing import StandardScaler\n",
    "from sklearn.metrics import accuracy_score, confusion_matrix, classification_report"
   ],
   "outputs": [],
   "execution_count": 8
  },
  {
   "cell_type": "markdown",
   "metadata": {},
   "source": [
    "## 1. Data Preparation"
   ]
  },
  {
   "cell_type": "code",
   "metadata": {
    "ExecuteTime": {
     "end_time": "2025-08-06T06:56:41.710932Z",
     "start_time": "2025-08-06T06:56:41.705550Z"
    }
   },
   "source": [
    "# Create synthetic binary classification data\n",
    "X, y = make_classification(n_samples=1000, n_features=10, n_classes=2, \n",
    "                         n_informative=8, random_state=42)\n",
    "\n",
    "# Split data\n",
    "X_train, X_test, y_train, y_test = train_test_split(X, y, test_size=0.2, \n",
    "                                                  random_state=42, stratify=y)\n",
    "\n",
    "# Standardize features\n",
    "scaler_X = StandardScaler().fit(X_train)\n",
    "X_train = scaler_X.transform(X_train)\n",
    "X_test = scaler_X.transform(X_test)\n",
    "\n",
    "# Convert to PyTorch tensors\n",
    "X_train_tensor = torch.tensor(X_train, dtype=torch.float32)\n",
    "y_train_tensor = torch.tensor(y_train, dtype=torch.long)\n",
    "X_test_tensor = torch.tensor(X_test, dtype=torch.float32)\n",
    "y_test_tensor = torch.tensor(y_test, dtype=torch.long)"
   ],
   "outputs": [],
   "execution_count": 9
  },
  {
   "cell_type": "markdown",
   "metadata": {},
   "source": [
    "## 2. Model Definition\n",
    "### Activation Function Rules:\n",
    "```python\n",
    "# When using CrossEntropyLoss (this example):\n",
    "nn.Linear(32, 2)  # No activation!\n",
    "\n",
    "# When using BCEWithLogitsLoss:\n",
    "nn.Sequential(\n",
    "    nn.Linear(32, 1),\n",
    "    nn.Sigmoid()  # Must add explicitly\n",
    ")\n",
    "```"
   ]
  },
  {
   "cell_type": "code",
   "metadata": {
    "ExecuteTime": {
     "end_time": "2025-08-06T06:56:41.731751Z",
     "start_time": "2025-08-06T06:56:41.729048Z"
    }
   },
   "source": [
    "class DNNClassifier(nn.Module):\n",
    "    def __init__(self):\n",
    "        super().__init__()\n",
    "        self.net = nn.Sequential(\n",
    "            nn.Linear(10, 64),\n",
    "            nn.ReLU(),\n",
    "            nn.Dropout(p=0.2),\n",
    "            nn.Linear(64, 32),\n",
    "            nn.ReLU(),\n",
    "            nn.Linear(32, 2)  # No activation - CrossEntropyLoss handles it; compatible with multi-class architectures\n",
    "        )\n",
    "    \n",
    "    def forward(self, x):\n",
    "        return self.net(x)\n",
    "\n",
    "model = DNNClassifier()"
   ],
   "outputs": [],
   "execution_count": 10
  },
  {
   "cell_type": "markdown",
   "metadata": {},
   "source": [
    "## 3. Training Setup"
   ]
  },
  {
   "cell_type": "code",
   "metadata": {
    "ExecuteTime": {
     "end_time": "2025-08-06T06:56:41.748472Z",
     "start_time": "2025-08-06T06:56:41.746233Z"
    }
   },
   "source": [
    "criterion = nn.CrossEntropyLoss()  # Contains built-in Softmax\n",
    "# compatible with multi-class architectures\n",
    "optimizer = optim.Adam(model.parameters(), lr=0.001)"
   ],
   "outputs": [],
   "execution_count": 11
  },
  {
   "cell_type": "markdown",
   "metadata": {},
   "source": [
    "## 4. Training Loop"
   ]
  },
  {
   "cell_type": "code",
   "metadata": {
    "ExecuteTime": {
     "end_time": "2025-08-06T06:56:41.838385Z",
     "start_time": "2025-08-06T06:56:41.761400Z"
    }
   },
   "source": [
    "for epoch in range(100):\n",
    "    model.train()\n",
    "    optimizer.zero_grad()\n",
    "    \n",
    "    outputs = model(X_train_tensor)\n",
    "    loss = criterion(outputs, y_train_tensor)\n",
    "    loss.backward()\n",
    "    optimizer.step()\n",
    "    \n",
    "    if (epoch + 1) % 10 == 0:\n",
    "        print(f\"Epoch {epoch+1}, Loss: {loss.item():.4f}\")"
   ],
   "outputs": [
    {
     "name": "stdout",
     "output_type": "stream",
     "text": [
      "Epoch 10, Loss: 0.6399\n",
      "Epoch 20, Loss: 0.5962\n",
      "Epoch 30, Loss: 0.5499\n",
      "Epoch 40, Loss: 0.4970\n",
      "Epoch 50, Loss: 0.4464\n",
      "Epoch 60, Loss: 0.4151\n",
      "Epoch 70, Loss: 0.3644\n",
      "Epoch 80, Loss: 0.3237\n",
      "Epoch 90, Loss: 0.3015\n",
      "Epoch 100, Loss: 0.2708\n"
     ]
    }
   ],
   "execution_count": 12
  },
  {
   "cell_type": "markdown",
   "metadata": {},
   "source": [
    "## 5. Evaluation"
   ]
  },
  {
   "cell_type": "code",
   "metadata": {
    "ExecuteTime": {
     "end_time": "2025-08-06T06:56:41.879077Z",
     "start_time": "2025-08-06T06:56:41.858589Z"
    }
   },
   "source": [
    "model.eval()\n",
    "with torch.no_grad():\n",
    "    # Get probabilities via Softmax\n",
    "    logits = model(X_test_tensor)\n",
    "    probabilities = torch.softmax(logits, dim=1)  # Converts to probabilities\n",
    "    _, predicted = torch.max(logits, 1)\n",
    "    \n",
    "    print(\"\\nProbability Examples:\")\n",
    "    print(probabilities[:5].numpy())  # Show first 5 predictions\n",
    "    \n",
    "    print(\"\\nTest Accuracy:\", accuracy_score(y_test, predicted.numpy()))\n",
    "    print(\"\\nConfusion Matrix:\\n\", confusion_matrix(y_test, predicted.numpy()))\n",
    "    print(\"\\nClassification Report:\\n\", classification_report(y_test, predicted.numpy()))"
   ],
   "outputs": [
    {
     "name": "stdout",
     "output_type": "stream",
     "text": [
      "\n",
      "Probability Examples:\n",
      "[[8.0727845e-02 9.1927212e-01]\n",
      " [5.8894467e-01 4.1105536e-01]\n",
      " [9.7765690e-01 2.2343101e-02]\n",
      " [9.9971932e-01 2.8065426e-04]\n",
      " [1.0496309e-01 8.9503688e-01]]\n",
      "\n",
      "Test Accuracy: 0.89\n",
      "\n",
      "Confusion Matrix:\n",
      " [[87 13]\n",
      " [ 9 91]]\n",
      "\n",
      "Classification Report:\n",
      "               precision    recall  f1-score   support\n",
      "\n",
      "           0       0.91      0.87      0.89       100\n",
      "           1       0.88      0.91      0.89       100\n",
      "\n",
      "    accuracy                           0.89       200\n",
      "   macro avg       0.89      0.89      0.89       200\n",
      "weighted avg       0.89      0.89      0.89       200\n",
      "\n"
     ]
    }
   ],
   "execution_count": 13
  },
  {
   "cell_type": "markdown",
   "metadata": {},
   "source": [
    "## Alternative BCEWithLogitsLoss Version\n",
    "```python\n",
    "# Different last layer:\n",
    "nn.Sequential(\n",
    "    nn.Linear(32, 1),  # Single output\n",
    "    nn.Sigmoid()       # Must add for BCELoss\n",
    ")\n",
    "# Or use BCEWithLogitsLoss (preferred):\n",
    "nn.Linear(32, 1)       # No activation\n",
    "criterion = nn.BCEWithLogitsLoss()  # Built-in Sigmoid\n",
    "```"
   ]
  }
 ],
 "metadata": {
  "kernelspec": {
   "display_name": "Python 3",
   "language": "python",
   "name": "python3"
  },
  "language_info": {
   "codemirror_mode": {
    "name": "ipython",
    "version": 3
   },
   "file_extension": ".py",
   "mimetype": "text/x-python",
   "name": "python",
   "nbconvert_exporter": "python",
   "pygments_lexer": "ipython3",
   "version": "3.8.5"
  }
 },
 "nbformat": 4,
 "nbformat_minor": 4
}
