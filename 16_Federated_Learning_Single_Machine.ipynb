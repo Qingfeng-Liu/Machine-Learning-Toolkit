{
 "cells": [
  {
   "cell_type": "markdown",
   "metadata": {},
   "source": [
    "# Federated Learning on a Single Machine using Sockets"
   ],
   "id": "9f159f1c784e4d4f"
  },
  {
   "metadata": {
    "ExecuteTime": {
     "end_time": "2025-08-06T08:46:57.564885Z",
     "start_time": "2025-08-06T08:46:57.563512Z"
    }
   },
   "cell_type": "code",
   "source": "",
   "id": "cb7f9485ba68ba33",
   "outputs": [],
   "execution_count": null
  },
  {
   "cell_type": "markdown",
   "metadata": {},
   "source": [
    "This notebook demonstrates a simple horizontal federated learning system using TCP socket communication, running entirely on a single machine.\n",
    "\n",
    "**Structure**:\n",
    "- `model.py`: Defines the shared neural network model.\n",
    "- `federated_server.py`: Coordinates model aggregation.\n",
    "- `federated_client.py`: Simulates each client performing local training."
   ],
   "id": "270867b5c08a17ba"
  },
  {
   "cell_type": "markdown",
   "metadata": {},
   "source": [
    "## model.py"
   ],
   "id": "9cecf22920feab1c"
  },
  {
   "cell_type": "code",
   "metadata": {
    "ExecuteTime": {
     "end_time": "2025-08-06T08:46:58.583381Z",
     "start_time": "2025-08-06T08:46:57.571876Z"
    }
   },
   "source": [
    "# model.py\n",
    "import torch.nn as nn\n",
    "\n",
    "class SimpleNN(nn.Module):\n",
    "    def __init__(self):\n",
    "        super(SimpleNN, self).__init__()\n",
    "        self.fc = nn.Sequential(\n",
    "            nn.Linear(2, 10),\n",
    "            nn.ReLU(),\n",
    "            nn.Linear(10, 2)\n",
    "        )\n",
    "\n",
    "    def forward(self, x):\n",
    "        return self.fc(x)"
   ],
   "id": "ea41b76c547d2efa",
   "outputs": [],
   "execution_count": 1
  },
  {
   "cell_type": "markdown",
   "metadata": {},
   "source": [
    "## federated_client.py"
   ],
   "id": "b0cbcdffa091da0e"
  },
  {
   "cell_type": "code",
   "metadata": {},
   "source": [
    "# federated_client.py\n",
    "import torch.optim as optim\n",
    "import torch.nn.functional as F\n",
    "\n",
    "HOST = '127.0.0.1'\n",
    "PORT = 8000\n",
    "\n",
    "def local_train(model, X, y, epochs=5, lr=0.01):\n",
    "    model = copy.deepcopy(model)\n",
    "    optimizer = optim.SGD(model.parameters(), lr=lr)\n",
    "    for _ in range(epochs):\n",
    "        optimizer.zero_grad()\n",
    "        output = model(X)\n",
    "        loss = F.cross_entropy(output, y)\n",
    "        loss.backward()\n",
    "        optimizer.step()\n",
    "    return model.state_dict()\n",
    "\n",
    "def run_client():\n",
    "    model = SimpleNN()\n",
    "    X = torch.randn(100, 2)\n",
    "    y = (X[:, 0] + X[:, 1] > 0).long()\n",
    "\n",
    "    with socket.socket(socket.AF_INET, socket.SOCK_STREAM) as s:\n",
    "        s.connect((HOST, PORT))\n",
    "        print(\"Connected to server.\")\n",
    "\n",
    "        for round in range(10):\n",
    "            data = s.recv(10**6)\n",
    "            global_weights = pickle.loads(data)\n",
    "            model.load_state_dict(global_weights)\n",
    "\n",
    "            updated_weights = local_train(model, X, y)\n",
    "            s.sendall(pickle.dumps(updated_weights))\n",
    "            print(f\"Round {round+1} completed.\")\n",
    "\n",
    "if __name__ == '__main__':\n",
    "    run_client()"
   ],
   "id": "decbf0d255331b7f",
   "outputs": [],
   "execution_count": null
  },
  {
   "cell_type": "markdown",
   "metadata": {},
   "source": [
    "## federated_server.py"
   ],
   "id": "c46ce3ddf37376f7"
  },
  {
   "cell_type": "code",
   "execution_count": null,
   "metadata": {},
   "outputs": [],
   "source": [
    "# federated_server.py\n",
    "import socket, pickle, copy\n",
    "import threading\n",
    "import torch\n",
    "from FL.model import SimpleNN\n",
    "\n",
    "HOST = '127.0.0.1'\n",
    "PORT = 8000\n",
    "NUM_CLIENTS = 2\n",
    "\n",
    "clients = []\n",
    "\n",
    "def average_weights(weight_list):\n",
    "    avg_weights = copy.deepcopy(weight_list[0])\n",
    "    for key in avg_weights.keys():\n",
    "        for i in range(1, len(weight_list)):\n",
    "            avg_weights[key] += weight_list[i][key]\n",
    "        avg_weights[key] = avg_weights[key] / len(weight_list)\n",
    "    return avg_weights\n",
    "\n",
    "def client_thread(conn, addr, client_id, shared_weights, lock):\n",
    "    for rnd in range(10):\n",
    "        with lock:\n",
    "            conn.sendall(pickle.dumps(shared_weights[0]))\n",
    "\n",
    "        data = conn.recv(10**6)\n",
    "        client_weights = pickle.loads(data)\n",
    "\n",
    "        with lock:\n",
    "            shared_weights[1].append(client_weights)\n",
    "\n",
    "def run_server():\n",
    "    global_model = SimpleNN()\n",
    "    shared_weights = [global_model.state_dict(), []]\n",
    "    lock = threading.Lock()\n",
    "\n",
    "    with socket.socket(socket.AF_INET, socket.SOCK_STREAM) as s:\n",
    "        s.bind((HOST, PORT))\n",
    "        s.listen()\n",
    "        print(f\"Server listening on {HOST}:{PORT}\")\n",
    "\n",
    "        for i in range(NUM_CLIENTS):\n",
    "            conn, addr = s.accept()\n",
    "            print(f\"Client {i} connected from {addr}\")\n",
    "            clients.append(threading.Thread(target=client_thread, args=(conn, addr, i, shared_weights, lock)))\n",
    "\n",
    "        for t in clients:\n",
    "            t.start()\n",
    "\n",
    "        for rnd in range(10):\n",
    "            while True:\n",
    "                with lock:\n",
    "                    if len(shared_weights[1]) == NUM_CLIENTS:\n",
    "                        break\n",
    "\n",
    "            with lock:\n",
    "                shared_weights[0] = average_weights(shared_weights[1])\n",
    "                shared_weights[1] = []\n",
    "\n",
    "            print(f\"Round {rnd+1} aggregation completed.\")\n",
    "\n",
    "        for t in clients:\n",
    "            t.join()\n",
    "\n",
    "if __name__ == '__main__':\n",
    "    run_server()"
   ],
   "id": "ed850d430f33e864"
  },
  {
   "cell_type": "markdown",
   "metadata": {},
   "source": [
    "## How to Run"
   ],
   "id": "275fb9feb1e76819"
  },
  {
   "cell_type": "markdown",
   "metadata": {},
   "source": [
    "1. Open a terminal and run the server:\n",
    "\n",
    "```bash\n",
    "python federated_server.py\n",
    "```\n",
    "\n",
    "2. Open one or more terminals for clients:\n",
    "\n",
    "```bash\n",
    "python federated_client.py\n",
    "```\n",
    "\n",
    "- All communication occurs via `127.0.0.1` (localhost).\n",
    "- This setup simulates federated learning on a single machine."
   ],
   "id": "4cb5991d091a9eb0"
  }
 ],
 "metadata": {
  "kernelspec": {
   "display_name": "Python 3",
   "language": "python",
   "name": "python3"
  },
  "language_info": {
   "name": "python",
   "version": ""
  }
 },
 "nbformat": 4,
 "nbformat_minor": 5
}
