{
 "cells": [
  {
   "cell_type": "markdown",
   "metadata": {},
   "source": [
    "# 🧠 Topic Modeling using ChatGPT Embeddings and NMF"
   ]
  },
  {
   "cell_type": "markdown",
   "metadata": {},
   "source": [
    "This notebook demonstrates a modern unsupervised topic modeling pipeline:\n",
    "\n",
    "- ✅ Embedding texts using OpenAI's `text-embedding-3-small` model\n",
    "- ✅ Clustering them into topics using NMF (Non-negative Matrix Factorization)\n",
    "- ✅ Interpreting topics with two methods:\n",
    "    - TF-IDF keyword extraction\n",
    "    - ChatGPT-based summarization\n",
    "\n",
    "This approach provides semantic topic clusters with human-readable interpretations."
   ]
  },
  {
   "cell_type": "code",
   "execution_count": null,
   "metadata": {},
   "outputs": [],
   "source": [
    "import openai\n",
    "import numpy as np\n",
    "import pandas as pd\n",
    "from sklearn.decomposition import NMF, PCA\n",
    "from sklearn.preprocessing import normalize\n",
    "from sklearn.feature_extraction.text import TfidfVectorizer\n",
    "\n",
    "# Set your OpenAI API Key\n",
    "openai.api_key = \"YOUR_API_KEY\"  # Replace with your actual API key\n",
    "\n",
    "# Sample dataset\n",
    "data = pd.DataFrame({\n",
    "    'text': [\n",
    "        \"The economy is facing challenges due to inflation and interest rate hikes.\",\n",
    "        \"Stock markets have been volatile amid recession fears.\",\n",
    "        \"Investors are looking for safe haven assets like gold and bonds.\",\n",
    "        \"Machine learning algorithms are improving rapidly.\",\n",
    "        \"Neural networks are widely used in image recognition tasks.\",\n",
    "        \"AI is transforming the healthcare industry.\",\n",
    "        \"The new iPhone was released with better battery and camera.\",\n",
    "        \"Samsung's latest phone features a foldable screen.\",\n",
    "        \"Tech gadgets are popular gifts during the holiday season.\",\n",
    "        \"Scientists discovered a new exoplanet in the habitable zone.\"\n",
    "    ]\n",
    "})"
   ]
  },
  {
   "cell_type": "markdown",
   "metadata": {},
   "source": [
    "## Step 1: Generate ChatGPT Embeddings"
   ]
  },
  {
   "cell_type": "code",
   "execution_count": null,
   "metadata": {},
   "outputs": [],
   "source": [
    "def get_embedding(text, model=\"text-embedding-3-small\"):\n",
    "    \"\"\"Get text embedding from OpenAI's API\"\"\"\n",
    "    response = openai.embeddings.create(\n",
    "        input=text,\n",
    "        model=model\n",
    "    )\n",
    "    return response.data[0].embedding\n",
    "\n",
    "# Generate embeddings for all texts\n",
    "embedding_list = []\n",
    "for i, row in data.iterrows():\n",
    "    embedding = get_embedding(row['text'])\n",
    "    embedding_list.append(embedding)\n",
    "\n",
    "X = np.array(embedding_list)  # Shape: (num_documents, 1536)"
   ]
  },
  {
   "cell_type": "markdown",
   "metadata": {},
   "source": [
    "## Step 2: Dimensionality Reduction (PCA) + Topic Modeling (NMF)"
   ]
  },
  {
   "cell_type": "code",
   "execution_count": null,
   "metadata": {},
   "outputs": [],
   "source": [
    "# Reduce dimensionality to 100 components\n",
    "X_reduced = PCA(n_components=100, random_state=42).fit_transform(X)\n",
    "\n",
    "# Perform NMF topic modeling\n",
    "n_topics = 3\n",
    "nmf = NMF(n_components=n_topics, random_state=42)\n",
    "W = nmf.fit_transform(X_reduced)  # Document-topic matrix\n",
    "H = nmf.components_             # Topic-feature matrix\n",
    "\n",
    "# Assign dominant topic to each document\n",
    "topic_assignments = np.argmax(W, axis=1)\n",
    "data['topic'] = topic_assignments\n",
    "\n",
    "# Display documents with their assigned topics\n",
    "data[['text', 'topic']]"
   ]
  },
  {
   "cell_type": "markdown",
   "metadata": {},
   "source": [
    "## Step 3a: Keyword Extraction per Topic (TF-IDF + NMF)"
   ]
  },
  {
   "cell_type": "code",
   "execution_count": null,
   "metadata": {},
   "outputs": [],
   "source": [
    "print(\"=== TF-IDF + NMF Keyword Summaries ===\")\n",
    "n_keywords = 5\n",
    "\n",
    "for topic_id in sorted(data['topic'].unique()):\n",
    "    # Get all documents for current topic\n",
    "    topic_texts = data[data['topic'] == topic_id]['text'].tolist()\n",
    "    print(f\"\\n--- Topic {topic_id} ---\")\n",
    "\n",
    "    # Compute TF-IDF\n",
    "    vectorizer = TfidfVectorizer(max_df=0.95, min_df=1, stop_words='english')\n",
    "    tfidf = vectorizer.fit_transform(topic_texts)\n",
    "\n",
    "    # Apply NMF to find keywords\n",
    "    nmf_sub = NMF(n_components=1, random_state=0)\n",
    "    W_sub = nmf_sub.fit_transform(tfidf)\n",
    "    H_sub = nmf_sub.components_\n",
    "\n",
    "    # Extract top keywords\n",
    "    feature_names = vectorizer.get_feature_names_out()\n",
    "    top_keywords = [feature_names[i] for i in H_sub[0].argsort()[::-1][:n_keywords]]\n",
    "    print(\"Top keywords:\", \", \".join(top_keywords))"
   ]
  },
  {
   "cell_type": "markdown",
   "metadata": {},
   "source": [
    "## Step 3b: Topic Summarization via ChatGPT"
   ]
  },
  {
   "cell_type": "code",
   "execution_count": null,
   "metadata": {},
   "outputs": [],
   "source": [
    "print(\"=== ChatGPT-based Topic Summaries ===\")\n",
    "for topic_id in sorted(data['topic'].unique()):\n",
    "    # Get example documents for the topic\n",
    "    examples = data[data['topic'] == topic_id]['text'].tolist()\n",
    "    \n",
    "    # Create prompt for ChatGPT\n",
    "    prompt = \"Summarize the main theme of these documents:\\n\\n\" + \"\\n\\n\".join(examples)\n",
    "\n",
    "    # Get summary from ChatGPT\n",
    "    response = openai.ChatCompletion.create(\n",
    "        model=\"gpt-4\",\n",
    "        messages=[{\"role\": \"user\", \"content\": prompt}]\n",
    "    )\n",
    "\n",
    "    summary = response.choices[0].message.content\n",
    "    print(f\"\\n--- Topic {topic_id} Summary ---\\n{summary}\")"
   ]
  },
  {
   "cell_type": "markdown",
   "metadata": {},
   "source": [
    "## ✅ Key Takeaways\n",
    "\n",
    "This notebook demonstrated:\n",
    "\n",
    "- How to use ChatGPT embeddings for semantic text representation\n",
    "- Effective topic clustering using NMF on reduced-dimension embeddings\n",
    "- Two complementary interpretation methods:\n",
    "    - Traditional TF-IDF keyword analysis\n",
    "    - LLM-powered natural language summaries\n",
    "\n",
    "### Advantages of This Approach:\n",
    "1. **Semantic Understanding**: Goes beyond simple word counts\n",
    "2. **Flexible**: Works well with short texts\n",
    "3. **Interpretable**: Provides both keywords and natural language explanations\n",
    "4. **State-of-the-Art**: Combines the best of traditional ML and modern LLMs\n",
    "\n",
    "### Next Steps:\n",
    "- Experiment with different numbers of topics\n",
    "- Try alternative dimensionality reduction methods (e.g., UMAP)\n",
    "- Explore other topic modeling algorithms (e.g., BERTopic)"
   ]
  }
 ],
 "metadata": {
  "kernelspec": {
   "display_name": "Python 3",
   "language": "python",
   "name": "python3"
  },
  "language_info": {
   "codemirror_mode": {
    "name": "ipython",
    "version": 3
   },
   "file_extension": ".py",
   "mimetype": "text/x-python",
   "name": "python",
   "nbconvert_exporter": "python",
   "pygments_lexer": "ipython3",
   "version": "3.8.5"
  }
 }
}